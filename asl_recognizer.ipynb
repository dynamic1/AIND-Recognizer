{
 "cells": [
  {
   "cell_type": "markdown",
   "metadata": {
    "collapsed": true,
    "deletable": true,
    "editable": true
   },
   "source": [
    "# Artificial Intelligence Engineer Nanodegree - Probabilistic Models\n",
    "## Project: Sign Language Recognition System\n",
    "- [Introduction](#intro)\n",
    "- [Part 1 Feature Selection](#part1_tutorial)\n",
    "    - [Tutorial](#part1_tutorial)\n",
    "    - [Features Submission](#part1_submission)\n",
    "    - [Features Unittest](#part1_test)\n",
    "- [Part 2 Train the models](#part2_tutorial)\n",
    "    - [Tutorial](#part2_tutorial)\n",
    "    - [Model Selection Score Submission](#part2_submission)\n",
    "    - [Model Score Unittest](#part2_test)\n",
    "- [Part 3 Build a Recognizer](#part3_tutorial)\n",
    "    - [Tutorial](#part3_tutorial)\n",
    "    - [Recognizer Submission](#part3_submission)\n",
    "    - [Recognizer Unittest](#part3_test)\n",
    "- [Part 4 (OPTIONAL) Improve the WER with Language Models](#part4_info)"
   ]
  },
  {
   "cell_type": "markdown",
   "metadata": {
    "deletable": true,
    "editable": true
   },
   "source": [
    "<a id='intro'></a>\n",
    "## Introduction\n",
    "The overall goal of this project is to build a word recognizer for American Sign Language video sequences, demonstrating the power of probabalistic models.  In particular, this project employs  [hidden Markov models (HMM's)](https://en.wikipedia.org/wiki/Hidden_Markov_model) to analyze a series of measurements taken from videos of American Sign Language (ASL) collected for research (see the [RWTH-BOSTON-104 Database](http://www-i6.informatik.rwth-aachen.de/~dreuw/database-rwth-boston-104.php)).  In this video, the right-hand x and y locations are plotted as the speaker signs the sentence.\n",
    "[![ASLR demo](http://www-i6.informatik.rwth-aachen.de/~dreuw/images/demosample.png)](https://drive.google.com/open?id=0B_5qGuFe-wbhUXRuVnNZVnMtam8)\n",
    "\n",
    "The raw data, train, and test sets are pre-defined.  You will derive a variety of feature sets (explored in Part 1), as well as implement three different model selection criterion to determine the optimal number of hidden states for each word model (explored in Part 2). Finally, in Part 3 you will implement the recognizer and compare the effects the different combinations of feature sets and model selection criteria.  \n",
    "\n",
    "At the end of each Part, complete the submission cells with implementations, answer all questions, and pass the unit tests.  Then submit the completed notebook for review!"
   ]
  },
  {
   "cell_type": "markdown",
   "metadata": {
    "deletable": true,
    "editable": true
   },
   "source": [
    "<a id='part1_tutorial'></a>\n",
    "## PART 1: Data\n",
    "\n",
    "### Features Tutorial\n",
    "##### Load the initial database\n",
    "A data handler designed for this database is provided in the student codebase as the `AslDb` class in the `asl_data` module.  This handler creates the initial [pandas](http://pandas.pydata.org/pandas-docs/stable/) dataframe from the corpus of data included in the `data` directory as well as dictionaries suitable for extracting data in a format friendly to the [hmmlearn](https://hmmlearn.readthedocs.io/en/latest/) library.  We'll use those to create models in Part 2.\n",
    "\n",
    "To start, let's set up the initial database and select an example set of features for the training set.  At the end of Part 1, you will create additional feature sets for experimentation. "
   ]
  },
  {
   "cell_type": "code",
   "execution_count": 50,
   "metadata": {
    "collapsed": false,
    "deletable": true,
    "editable": true
   },
   "outputs": [
    {
     "data": {
      "text/html": [
       "<div>\n",
       "<table border=\"1\" class=\"dataframe\">\n",
       "  <thead>\n",
       "    <tr style=\"text-align: right;\">\n",
       "      <th></th>\n",
       "      <th></th>\n",
       "      <th>left-x</th>\n",
       "      <th>left-y</th>\n",
       "      <th>right-x</th>\n",
       "      <th>right-y</th>\n",
       "      <th>nose-x</th>\n",
       "      <th>nose-y</th>\n",
       "      <th>speaker</th>\n",
       "    </tr>\n",
       "    <tr>\n",
       "      <th>video</th>\n",
       "      <th>frame</th>\n",
       "      <th></th>\n",
       "      <th></th>\n",
       "      <th></th>\n",
       "      <th></th>\n",
       "      <th></th>\n",
       "      <th></th>\n",
       "      <th></th>\n",
       "    </tr>\n",
       "  </thead>\n",
       "  <tbody>\n",
       "    <tr>\n",
       "      <th rowspan=\"5\" valign=\"top\">98</th>\n",
       "      <th>0</th>\n",
       "      <td>149</td>\n",
       "      <td>181</td>\n",
       "      <td>170</td>\n",
       "      <td>175</td>\n",
       "      <td>161</td>\n",
       "      <td>62</td>\n",
       "      <td>woman-1</td>\n",
       "    </tr>\n",
       "    <tr>\n",
       "      <th>1</th>\n",
       "      <td>149</td>\n",
       "      <td>181</td>\n",
       "      <td>170</td>\n",
       "      <td>175</td>\n",
       "      <td>161</td>\n",
       "      <td>62</td>\n",
       "      <td>woman-1</td>\n",
       "    </tr>\n",
       "    <tr>\n",
       "      <th>2</th>\n",
       "      <td>149</td>\n",
       "      <td>181</td>\n",
       "      <td>170</td>\n",
       "      <td>175</td>\n",
       "      <td>161</td>\n",
       "      <td>62</td>\n",
       "      <td>woman-1</td>\n",
       "    </tr>\n",
       "    <tr>\n",
       "      <th>3</th>\n",
       "      <td>149</td>\n",
       "      <td>181</td>\n",
       "      <td>170</td>\n",
       "      <td>175</td>\n",
       "      <td>161</td>\n",
       "      <td>62</td>\n",
       "      <td>woman-1</td>\n",
       "    </tr>\n",
       "    <tr>\n",
       "      <th>4</th>\n",
       "      <td>149</td>\n",
       "      <td>181</td>\n",
       "      <td>170</td>\n",
       "      <td>175</td>\n",
       "      <td>161</td>\n",
       "      <td>62</td>\n",
       "      <td>woman-1</td>\n",
       "    </tr>\n",
       "  </tbody>\n",
       "</table>\n",
       "</div>"
      ],
      "text/plain": [
       "             left-x  left-y  right-x  right-y  nose-x  nose-y  speaker\n",
       "video frame                                                           \n",
       "98    0         149     181      170      175     161      62  woman-1\n",
       "      1         149     181      170      175     161      62  woman-1\n",
       "      2         149     181      170      175     161      62  woman-1\n",
       "      3         149     181      170      175     161      62  woman-1\n",
       "      4         149     181      170      175     161      62  woman-1"
      ]
     },
     "execution_count": 50,
     "metadata": {},
     "output_type": "execute_result"
    }
   ],
   "source": [
    "import numpy as np\n",
    "import pandas as pd\n",
    "from asl_data import AslDb\n",
    "\n",
    "\n",
    "asl = AslDb() # initializes the database\n",
    "asl.df.head() # displays the first five rows of the asl database, indexed by video and frame"
   ]
  },
  {
   "cell_type": "code",
   "execution_count": 51,
   "metadata": {
    "collapsed": false,
    "deletable": true,
    "editable": true
   },
   "outputs": [
    {
     "data": {
      "text/plain": [
       "left-x         149\n",
       "left-y         181\n",
       "right-x        170\n",
       "right-y        175\n",
       "nose-x         161\n",
       "nose-y          62\n",
       "speaker    woman-1\n",
       "Name: (98, 1), dtype: object"
      ]
     },
     "execution_count": 51,
     "metadata": {},
     "output_type": "execute_result"
    }
   ],
   "source": [
    "asl.df.ix[98,1]  # look at the data available for an individual frame"
   ]
  },
  {
   "cell_type": "markdown",
   "metadata": {
    "deletable": true,
    "editable": true
   },
   "source": [
    "The frame represented by video 98, frame 1 is shown here:\n",
    "![Video 98](http://www-i6.informatik.rwth-aachen.de/~dreuw/database/rwth-boston-104/overview/images/orig/098-start.jpg)"
   ]
  },
  {
   "cell_type": "markdown",
   "metadata": {
    "deletable": true,
    "editable": true
   },
   "source": [
    "##### Feature selection for training the model\n",
    "The objective of feature selection when training a model is to choose the most relevant variables while keeping the model as simple as possible, thus reducing training time.  We can use the raw features already provided or derive our own and add columns to the pandas dataframe `asl.df` for selection. As an example, in the next cell a feature named `'grnd-ry'` is added. This feature is the difference between the right-hand y value and the nose y value, which serves as the \"ground\" right y value. "
   ]
  },
  {
   "cell_type": "code",
   "execution_count": 52,
   "metadata": {
    "collapsed": false,
    "deletable": true,
    "editable": true
   },
   "outputs": [
    {
     "data": {
      "text/html": [
       "<div>\n",
       "<table border=\"1\" class=\"dataframe\">\n",
       "  <thead>\n",
       "    <tr style=\"text-align: right;\">\n",
       "      <th></th>\n",
       "      <th></th>\n",
       "      <th>left-x</th>\n",
       "      <th>left-y</th>\n",
       "      <th>right-x</th>\n",
       "      <th>right-y</th>\n",
       "      <th>nose-x</th>\n",
       "      <th>nose-y</th>\n",
       "      <th>speaker</th>\n",
       "      <th>grnd-ry</th>\n",
       "    </tr>\n",
       "    <tr>\n",
       "      <th>video</th>\n",
       "      <th>frame</th>\n",
       "      <th></th>\n",
       "      <th></th>\n",
       "      <th></th>\n",
       "      <th></th>\n",
       "      <th></th>\n",
       "      <th></th>\n",
       "      <th></th>\n",
       "      <th></th>\n",
       "    </tr>\n",
       "  </thead>\n",
       "  <tbody>\n",
       "    <tr>\n",
       "      <th rowspan=\"5\" valign=\"top\">98</th>\n",
       "      <th>0</th>\n",
       "      <td>149</td>\n",
       "      <td>181</td>\n",
       "      <td>170</td>\n",
       "      <td>175</td>\n",
       "      <td>161</td>\n",
       "      <td>62</td>\n",
       "      <td>woman-1</td>\n",
       "      <td>113</td>\n",
       "    </tr>\n",
       "    <tr>\n",
       "      <th>1</th>\n",
       "      <td>149</td>\n",
       "      <td>181</td>\n",
       "      <td>170</td>\n",
       "      <td>175</td>\n",
       "      <td>161</td>\n",
       "      <td>62</td>\n",
       "      <td>woman-1</td>\n",
       "      <td>113</td>\n",
       "    </tr>\n",
       "    <tr>\n",
       "      <th>2</th>\n",
       "      <td>149</td>\n",
       "      <td>181</td>\n",
       "      <td>170</td>\n",
       "      <td>175</td>\n",
       "      <td>161</td>\n",
       "      <td>62</td>\n",
       "      <td>woman-1</td>\n",
       "      <td>113</td>\n",
       "    </tr>\n",
       "    <tr>\n",
       "      <th>3</th>\n",
       "      <td>149</td>\n",
       "      <td>181</td>\n",
       "      <td>170</td>\n",
       "      <td>175</td>\n",
       "      <td>161</td>\n",
       "      <td>62</td>\n",
       "      <td>woman-1</td>\n",
       "      <td>113</td>\n",
       "    </tr>\n",
       "    <tr>\n",
       "      <th>4</th>\n",
       "      <td>149</td>\n",
       "      <td>181</td>\n",
       "      <td>170</td>\n",
       "      <td>175</td>\n",
       "      <td>161</td>\n",
       "      <td>62</td>\n",
       "      <td>woman-1</td>\n",
       "      <td>113</td>\n",
       "    </tr>\n",
       "  </tbody>\n",
       "</table>\n",
       "</div>"
      ],
      "text/plain": [
       "             left-x  left-y  right-x  right-y  nose-x  nose-y  speaker  \\\n",
       "video frame                                                              \n",
       "98    0         149     181      170      175     161      62  woman-1   \n",
       "      1         149     181      170      175     161      62  woman-1   \n",
       "      2         149     181      170      175     161      62  woman-1   \n",
       "      3         149     181      170      175     161      62  woman-1   \n",
       "      4         149     181      170      175     161      62  woman-1   \n",
       "\n",
       "             grnd-ry  \n",
       "video frame           \n",
       "98    0          113  \n",
       "      1          113  \n",
       "      2          113  \n",
       "      3          113  \n",
       "      4          113  "
      ]
     },
     "execution_count": 52,
     "metadata": {},
     "output_type": "execute_result"
    }
   ],
   "source": [
    "asl.df['grnd-ry'] = asl.df['right-y'] - asl.df['nose-y']\n",
    "asl.df.head()  # the new feature 'grnd-ry' is now in the frames dictionary"
   ]
  },
  {
   "cell_type": "markdown",
   "metadata": {
    "deletable": true,
    "editable": true
   },
   "source": [
    "##### Try it!"
   ]
  },
  {
   "cell_type": "code",
   "execution_count": 53,
   "metadata": {
    "collapsed": false,
    "deletable": true,
    "editable": true
   },
   "outputs": [
    {
     "name": "stdout",
     "output_type": "stream",
     "text": [
      "asl.df sample\n"
     ]
    },
    {
     "data": {
      "text/html": [
       "<div>\n",
       "<table border=\"1\" class=\"dataframe\">\n",
       "  <thead>\n",
       "    <tr style=\"text-align: right;\">\n",
       "      <th></th>\n",
       "      <th></th>\n",
       "      <th>left-x</th>\n",
       "      <th>left-y</th>\n",
       "      <th>right-x</th>\n",
       "      <th>right-y</th>\n",
       "      <th>nose-x</th>\n",
       "      <th>nose-y</th>\n",
       "      <th>speaker</th>\n",
       "      <th>grnd-ry</th>\n",
       "      <th>grnd-rx</th>\n",
       "      <th>grnd-ly</th>\n",
       "      <th>grnd-lx</th>\n",
       "    </tr>\n",
       "    <tr>\n",
       "      <th>video</th>\n",
       "      <th>frame</th>\n",
       "      <th></th>\n",
       "      <th></th>\n",
       "      <th></th>\n",
       "      <th></th>\n",
       "      <th></th>\n",
       "      <th></th>\n",
       "      <th></th>\n",
       "      <th></th>\n",
       "      <th></th>\n",
       "      <th></th>\n",
       "      <th></th>\n",
       "    </tr>\n",
       "  </thead>\n",
       "  <tbody>\n",
       "    <tr>\n",
       "      <th rowspan=\"5\" valign=\"top\">98</th>\n",
       "      <th>0</th>\n",
       "      <td>149</td>\n",
       "      <td>181</td>\n",
       "      <td>170</td>\n",
       "      <td>175</td>\n",
       "      <td>161</td>\n",
       "      <td>62</td>\n",
       "      <td>woman-1</td>\n",
       "      <td>113</td>\n",
       "      <td>9</td>\n",
       "      <td>119</td>\n",
       "      <td>-12</td>\n",
       "    </tr>\n",
       "    <tr>\n",
       "      <th>1</th>\n",
       "      <td>149</td>\n",
       "      <td>181</td>\n",
       "      <td>170</td>\n",
       "      <td>175</td>\n",
       "      <td>161</td>\n",
       "      <td>62</td>\n",
       "      <td>woman-1</td>\n",
       "      <td>113</td>\n",
       "      <td>9</td>\n",
       "      <td>119</td>\n",
       "      <td>-12</td>\n",
       "    </tr>\n",
       "    <tr>\n",
       "      <th>2</th>\n",
       "      <td>149</td>\n",
       "      <td>181</td>\n",
       "      <td>170</td>\n",
       "      <td>175</td>\n",
       "      <td>161</td>\n",
       "      <td>62</td>\n",
       "      <td>woman-1</td>\n",
       "      <td>113</td>\n",
       "      <td>9</td>\n",
       "      <td>119</td>\n",
       "      <td>-12</td>\n",
       "    </tr>\n",
       "    <tr>\n",
       "      <th>3</th>\n",
       "      <td>149</td>\n",
       "      <td>181</td>\n",
       "      <td>170</td>\n",
       "      <td>175</td>\n",
       "      <td>161</td>\n",
       "      <td>62</td>\n",
       "      <td>woman-1</td>\n",
       "      <td>113</td>\n",
       "      <td>9</td>\n",
       "      <td>119</td>\n",
       "      <td>-12</td>\n",
       "    </tr>\n",
       "    <tr>\n",
       "      <th>4</th>\n",
       "      <td>149</td>\n",
       "      <td>181</td>\n",
       "      <td>170</td>\n",
       "      <td>175</td>\n",
       "      <td>161</td>\n",
       "      <td>62</td>\n",
       "      <td>woman-1</td>\n",
       "      <td>113</td>\n",
       "      <td>9</td>\n",
       "      <td>119</td>\n",
       "      <td>-12</td>\n",
       "    </tr>\n",
       "  </tbody>\n",
       "</table>\n",
       "</div>"
      ],
      "text/plain": [
       "             left-x  left-y  right-x  right-y  nose-x  nose-y  speaker  \\\n",
       "video frame                                                              \n",
       "98    0         149     181      170      175     161      62  woman-1   \n",
       "      1         149     181      170      175     161      62  woman-1   \n",
       "      2         149     181      170      175     161      62  woman-1   \n",
       "      3         149     181      170      175     161      62  woman-1   \n",
       "      4         149     181      170      175     161      62  woman-1   \n",
       "\n",
       "             grnd-ry  grnd-rx  grnd-ly  grnd-lx  \n",
       "video frame                                      \n",
       "98    0          113        9      119      -12  \n",
       "      1          113        9      119      -12  \n",
       "      2          113        9      119      -12  \n",
       "      3          113        9      119      -12  \n",
       "      4          113        9      119      -12  "
      ]
     },
     "metadata": {},
     "output_type": "display_data"
    },
    {
     "data": {
      "text/html": [
       "<font color=green>Correct!</font><br/>"
      ],
      "text/plain": [
       "<IPython.core.display.HTML object>"
      ]
     },
     "execution_count": 53,
     "metadata": {},
     "output_type": "execute_result"
    }
   ],
   "source": [
    "from asl_utils import test_features_tryit\n",
    "# TODO add df columns for 'grnd-rx', 'grnd-ly', 'grnd-lx' representing differences between hand and nose locations\n",
    "\n",
    "asl.df['grnd-rx'] = asl.df['right-x'] - asl.df['nose-x']\n",
    "asl.df['grnd-ly'] = asl.df['left-y'] - asl.df['nose-y']\n",
    "asl.df['grnd-lx'] = asl.df['left-x'] - asl.df['nose-x']\n",
    "\n",
    "# test the code\n",
    "test_features_tryit(asl)"
   ]
  },
  {
   "cell_type": "code",
   "execution_count": 54,
   "metadata": {
    "collapsed": false,
    "deletable": true,
    "editable": true
   },
   "outputs": [
    {
     "data": {
      "text/plain": [
       "[9, 113, -12, 119]"
      ]
     },
     "execution_count": 54,
     "metadata": {},
     "output_type": "execute_result"
    }
   ],
   "source": [
    "# collect the features into a list\n",
    "features_ground = ['grnd-rx','grnd-ry','grnd-lx','grnd-ly']\n",
    " #show a single set of features for a given (video, frame) tuple\n",
    "[asl.df.ix[98,1][v] for v in features_ground]"
   ]
  },
  {
   "cell_type": "markdown",
   "metadata": {
    "deletable": true,
    "editable": true
   },
   "source": [
    "##### Build the training set\n",
    "Now that we have a feature list defined, we can pass that list to the `build_training` method to collect the features for all the words in the training set.  Each word in the training set has multiple examples from various videos.  Below we can see the unique words that have been loaded into the training set:"
   ]
  },
  {
   "cell_type": "code",
   "execution_count": 55,
   "metadata": {
    "collapsed": false,
    "deletable": true,
    "editable": true
   },
   "outputs": [
    {
     "name": "stdout",
     "output_type": "stream",
     "text": [
      "Training words: ['JOHN', 'WRITE', 'HOMEWORK', 'IX-1P', 'SEE', 'YESTERDAY', 'IX', 'LOVE', 'MARY', 'CAN', 'GO', 'GO1', 'FUTURE', 'GO2', 'PARTY', 'FUTURE1', 'HIT', 'BLAME', 'FRED', 'FISH', 'WONT', 'EAT', 'BUT', 'CHICKEN', 'VEGETABLE', 'CHINA', 'PEOPLE', 'PREFER', 'BROCCOLI', 'LIKE', 'LEAVE', 'SAY', 'BUY', 'HOUSE', 'KNOW', 'CORN', 'CORN1', 'THINK', 'NOT', 'PAST', 'LIVE', 'CHICAGO', 'CAR', 'SHOULD', 'DECIDE', 'VISIT', 'MOVIE', 'WANT', 'SELL', 'TOMORROW', 'NEXT-WEEK', 'NEW-YORK', 'LAST-WEEK', 'WILL', 'FINISH', 'ANN', 'READ', 'BOOK', 'CHOCOLATE', 'FIND', 'SOMETHING-ONE', 'POSS', 'BROTHER', 'ARRIVE', 'HERE', 'GIVE', 'MAN', 'NEW', 'COAT', 'WOMAN', 'GIVE1', 'HAVE', 'FRANK', 'BREAK-DOWN', 'SEARCH-FOR', 'WHO', 'WHAT', 'LEG', 'FRIEND', 'CANDY', 'BLUE', 'SUE', 'BUY1', 'STOLEN', 'OLD', 'STUDENT', 'VIDEOTAPE', 'BORROW', 'MOTHER', 'POTATO', 'TELL', 'BILL', 'THROW', 'APPLE', 'NAME', 'SHOOT', 'SAY-1P', 'SELF', 'GROUP', 'JANA', 'TOY1', 'MANY', 'TOY', 'ALL', 'BOY', 'TEACHER', 'GIRL', 'BOX', 'GIVE2', 'GIVE3', 'GET', 'PUTASIDE']\n"
     ]
    }
   ],
   "source": [
    "training = asl.build_training(features_ground)\n",
    "print(\"Training words: {}\".format(training.words))"
   ]
  },
  {
   "cell_type": "markdown",
   "metadata": {
    "deletable": true,
    "editable": true
   },
   "source": [
    "The training data in `training` is an object of class `WordsData` defined in the `asl_data` module.  in addition to the `words` list, data can be accessed with the `get_all_sequences`, `get_all_Xlengths`, `get_word_sequences`, and `get_word_Xlengths` methods. We need the `get_word_Xlengths` method to train multiple sequences with the `hmmlearn` library.  In the following example, notice that there are two lists; the first is a concatenation of all the sequences(the X portion) and the second is a list of the sequence lengths(the Lengths portion)."
   ]
  },
  {
   "cell_type": "code",
   "execution_count": 56,
   "metadata": {
    "collapsed": false,
    "deletable": true,
    "editable": true
   },
   "outputs": [
    {
     "data": {
      "text/plain": [
       "(array([[-11,  48,   7, 120],\n",
       "        [-11,  48,   8, 109],\n",
       "        [ -8,  49,  11,  98],\n",
       "        [ -7,  50,   7,  87],\n",
       "        [ -4,  54,   7,  77],\n",
       "        [ -4,  54,   6,  69],\n",
       "        [ -4,  54,   6,  69],\n",
       "        [-13,  52,   6,  69],\n",
       "        [-13,  52,   6,  69],\n",
       "        [ -8,  51,   6,  69],\n",
       "        [ -8,  51,   6,  69],\n",
       "        [ -8,  51,   6,  69],\n",
       "        [ -8,  51,   6,  69],\n",
       "        [ -8,  51,   6,  69],\n",
       "        [-10,  59,   7,  71],\n",
       "        [-15,  64,   9,  77],\n",
       "        [-17,  75,  13,  81],\n",
       "        [ -4,  48,  -4, 113],\n",
       "        [ -2,  53,  -4, 113],\n",
       "        [ -4,  55,   2,  98],\n",
       "        [ -4,  58,   2,  98],\n",
       "        [ -1,  59,   2,  89],\n",
       "        [ -1,  59,  -1,  84],\n",
       "        [ -1,  59,  -1,  84],\n",
       "        [ -7,  63,  -1,  84],\n",
       "        [ -7,  63,  -1,  84],\n",
       "        [ -7,  63,   3,  83],\n",
       "        [ -7,  63,   3,  83],\n",
       "        [ -7,  63,   3,  83],\n",
       "        [ -7,  63,   3,  83],\n",
       "        [ -7,  63,   3,  83],\n",
       "        [ -7,  63,   3,  83],\n",
       "        [ -7,  63,   3,  83],\n",
       "        [ -4,  70,   3,  83],\n",
       "        [ -4,  70,   3,  83],\n",
       "        [ -2,  73,   5,  90],\n",
       "        [ -3,  79,  -4,  96],\n",
       "        [-15,  98,  13, 135],\n",
       "        [ -6,  93,  12, 128],\n",
       "        [ -2,  89,  14, 118],\n",
       "        [  5,  90,  10, 108],\n",
       "        [  4,  86,   7, 105],\n",
       "        [  4,  86,   7, 105],\n",
       "        [  4,  86,  13, 100],\n",
       "        [ -3,  82,  14,  96],\n",
       "        [ -3,  82,  14,  96],\n",
       "        [  6,  89,  16, 100],\n",
       "        [  6,  89,  16, 100],\n",
       "        [  7,  85,  17, 111]]), [17, 20, 12])"
      ]
     },
     "execution_count": 56,
     "metadata": {},
     "output_type": "execute_result"
    }
   ],
   "source": [
    "training.get_word_Xlengths('CHOCOLATE')"
   ]
  },
  {
   "cell_type": "markdown",
   "metadata": {
    "deletable": true,
    "editable": true
   },
   "source": [
    "###### More feature sets\n",
    "So far we have a simple feature set that is enough to get started modeling.  However, we might get better results if we manipulate the raw values a bit more, so we will go ahead and set up some other options now for experimentation later.  For example, we could normalize each speaker's range of motion with grouped statistics using [Pandas stats](http://pandas.pydata.org/pandas-docs/stable/api.html#api-dataframe-stats) functions and [pandas groupby](http://pandas.pydata.org/pandas-docs/stable/generated/pandas.DataFrame.groupby.html).  Below is an example for finding the means of all speaker subgroups."
   ]
  },
  {
   "cell_type": "code",
   "execution_count": 57,
   "metadata": {
    "collapsed": false,
    "deletable": true,
    "editable": true,
    "scrolled": true
   },
   "outputs": [
    {
     "data": {
      "text/html": [
       "<div>\n",
       "<table border=\"1\" class=\"dataframe\">\n",
       "  <thead>\n",
       "    <tr style=\"text-align: right;\">\n",
       "      <th></th>\n",
       "      <th>left-x</th>\n",
       "      <th>left-y</th>\n",
       "      <th>right-x</th>\n",
       "      <th>right-y</th>\n",
       "      <th>nose-x</th>\n",
       "      <th>nose-y</th>\n",
       "      <th>grnd-ry</th>\n",
       "      <th>grnd-rx</th>\n",
       "      <th>grnd-ly</th>\n",
       "      <th>grnd-lx</th>\n",
       "    </tr>\n",
       "    <tr>\n",
       "      <th>speaker</th>\n",
       "      <th></th>\n",
       "      <th></th>\n",
       "      <th></th>\n",
       "      <th></th>\n",
       "      <th></th>\n",
       "      <th></th>\n",
       "      <th></th>\n",
       "      <th></th>\n",
       "      <th></th>\n",
       "      <th></th>\n",
       "    </tr>\n",
       "  </thead>\n",
       "  <tbody>\n",
       "    <tr>\n",
       "      <th>man-1</th>\n",
       "      <td>206.248203</td>\n",
       "      <td>218.679449</td>\n",
       "      <td>155.464350</td>\n",
       "      <td>150.371031</td>\n",
       "      <td>175.031756</td>\n",
       "      <td>61.642600</td>\n",
       "      <td>88.728430</td>\n",
       "      <td>-19.567406</td>\n",
       "      <td>157.036848</td>\n",
       "      <td>31.216447</td>\n",
       "    </tr>\n",
       "    <tr>\n",
       "      <th>woman-1</th>\n",
       "      <td>164.661438</td>\n",
       "      <td>161.271242</td>\n",
       "      <td>151.017865</td>\n",
       "      <td>117.332462</td>\n",
       "      <td>162.655120</td>\n",
       "      <td>57.245098</td>\n",
       "      <td>60.087364</td>\n",
       "      <td>-11.637255</td>\n",
       "      <td>104.026144</td>\n",
       "      <td>2.006318</td>\n",
       "    </tr>\n",
       "    <tr>\n",
       "      <th>woman-2</th>\n",
       "      <td>183.214509</td>\n",
       "      <td>176.527232</td>\n",
       "      <td>156.866295</td>\n",
       "      <td>119.835714</td>\n",
       "      <td>170.318973</td>\n",
       "      <td>58.022098</td>\n",
       "      <td>61.813616</td>\n",
       "      <td>-13.452679</td>\n",
       "      <td>118.505134</td>\n",
       "      <td>12.895536</td>\n",
       "    </tr>\n",
       "  </tbody>\n",
       "</table>\n",
       "</div>"
      ],
      "text/plain": [
       "             left-x      left-y     right-x     right-y      nose-x  \\\n",
       "speaker                                                               \n",
       "man-1    206.248203  218.679449  155.464350  150.371031  175.031756   \n",
       "woman-1  164.661438  161.271242  151.017865  117.332462  162.655120   \n",
       "woman-2  183.214509  176.527232  156.866295  119.835714  170.318973   \n",
       "\n",
       "            nose-y    grnd-ry    grnd-rx     grnd-ly    grnd-lx  \n",
       "speaker                                                          \n",
       "man-1    61.642600  88.728430 -19.567406  157.036848  31.216447  \n",
       "woman-1  57.245098  60.087364 -11.637255  104.026144   2.006318  \n",
       "woman-2  58.022098  61.813616 -13.452679  118.505134  12.895536  "
      ]
     },
     "execution_count": 57,
     "metadata": {},
     "output_type": "execute_result"
    }
   ],
   "source": [
    "df_means = asl.df.groupby('speaker').mean()\n",
    "df_means"
   ]
  },
  {
   "cell_type": "markdown",
   "metadata": {
    "deletable": true,
    "editable": true
   },
   "source": [
    "To select a mean that matches by speaker, use the pandas [map](http://pandas.pydata.org/pandas-docs/stable/generated/pandas.Series.map.html) method:"
   ]
  },
  {
   "cell_type": "code",
   "execution_count": 58,
   "metadata": {
    "collapsed": false,
    "deletable": true,
    "editable": true
   },
   "outputs": [
    {
     "data": {
      "text/html": [
       "<div>\n",
       "<table border=\"1\" class=\"dataframe\">\n",
       "  <thead>\n",
       "    <tr style=\"text-align: right;\">\n",
       "      <th></th>\n",
       "      <th></th>\n",
       "      <th>left-x</th>\n",
       "      <th>left-y</th>\n",
       "      <th>right-x</th>\n",
       "      <th>right-y</th>\n",
       "      <th>nose-x</th>\n",
       "      <th>nose-y</th>\n",
       "      <th>speaker</th>\n",
       "      <th>grnd-ry</th>\n",
       "      <th>grnd-rx</th>\n",
       "      <th>grnd-ly</th>\n",
       "      <th>grnd-lx</th>\n",
       "      <th>left-x-mean</th>\n",
       "    </tr>\n",
       "    <tr>\n",
       "      <th>video</th>\n",
       "      <th>frame</th>\n",
       "      <th></th>\n",
       "      <th></th>\n",
       "      <th></th>\n",
       "      <th></th>\n",
       "      <th></th>\n",
       "      <th></th>\n",
       "      <th></th>\n",
       "      <th></th>\n",
       "      <th></th>\n",
       "      <th></th>\n",
       "      <th></th>\n",
       "      <th></th>\n",
       "    </tr>\n",
       "  </thead>\n",
       "  <tbody>\n",
       "    <tr>\n",
       "      <th rowspan=\"5\" valign=\"top\">98</th>\n",
       "      <th>0</th>\n",
       "      <td>149</td>\n",
       "      <td>181</td>\n",
       "      <td>170</td>\n",
       "      <td>175</td>\n",
       "      <td>161</td>\n",
       "      <td>62</td>\n",
       "      <td>woman-1</td>\n",
       "      <td>113</td>\n",
       "      <td>9</td>\n",
       "      <td>119</td>\n",
       "      <td>-12</td>\n",
       "      <td>164.661438</td>\n",
       "    </tr>\n",
       "    <tr>\n",
       "      <th>1</th>\n",
       "      <td>149</td>\n",
       "      <td>181</td>\n",
       "      <td>170</td>\n",
       "      <td>175</td>\n",
       "      <td>161</td>\n",
       "      <td>62</td>\n",
       "      <td>woman-1</td>\n",
       "      <td>113</td>\n",
       "      <td>9</td>\n",
       "      <td>119</td>\n",
       "      <td>-12</td>\n",
       "      <td>164.661438</td>\n",
       "    </tr>\n",
       "    <tr>\n",
       "      <th>2</th>\n",
       "      <td>149</td>\n",
       "      <td>181</td>\n",
       "      <td>170</td>\n",
       "      <td>175</td>\n",
       "      <td>161</td>\n",
       "      <td>62</td>\n",
       "      <td>woman-1</td>\n",
       "      <td>113</td>\n",
       "      <td>9</td>\n",
       "      <td>119</td>\n",
       "      <td>-12</td>\n",
       "      <td>164.661438</td>\n",
       "    </tr>\n",
       "    <tr>\n",
       "      <th>3</th>\n",
       "      <td>149</td>\n",
       "      <td>181</td>\n",
       "      <td>170</td>\n",
       "      <td>175</td>\n",
       "      <td>161</td>\n",
       "      <td>62</td>\n",
       "      <td>woman-1</td>\n",
       "      <td>113</td>\n",
       "      <td>9</td>\n",
       "      <td>119</td>\n",
       "      <td>-12</td>\n",
       "      <td>164.661438</td>\n",
       "    </tr>\n",
       "    <tr>\n",
       "      <th>4</th>\n",
       "      <td>149</td>\n",
       "      <td>181</td>\n",
       "      <td>170</td>\n",
       "      <td>175</td>\n",
       "      <td>161</td>\n",
       "      <td>62</td>\n",
       "      <td>woman-1</td>\n",
       "      <td>113</td>\n",
       "      <td>9</td>\n",
       "      <td>119</td>\n",
       "      <td>-12</td>\n",
       "      <td>164.661438</td>\n",
       "    </tr>\n",
       "  </tbody>\n",
       "</table>\n",
       "</div>"
      ],
      "text/plain": [
       "             left-x  left-y  right-x  right-y  nose-x  nose-y  speaker  \\\n",
       "video frame                                                              \n",
       "98    0         149     181      170      175     161      62  woman-1   \n",
       "      1         149     181      170      175     161      62  woman-1   \n",
       "      2         149     181      170      175     161      62  woman-1   \n",
       "      3         149     181      170      175     161      62  woman-1   \n",
       "      4         149     181      170      175     161      62  woman-1   \n",
       "\n",
       "             grnd-ry  grnd-rx  grnd-ly  grnd-lx  left-x-mean  \n",
       "video frame                                                   \n",
       "98    0          113        9      119      -12   164.661438  \n",
       "      1          113        9      119      -12   164.661438  \n",
       "      2          113        9      119      -12   164.661438  \n",
       "      3          113        9      119      -12   164.661438  \n",
       "      4          113        9      119      -12   164.661438  "
      ]
     },
     "execution_count": 58,
     "metadata": {},
     "output_type": "execute_result"
    }
   ],
   "source": [
    "asl.df['left-x-mean']= asl.df['speaker'].map(df_means['left-x'])\n",
    "asl.df.head()"
   ]
  },
  {
   "cell_type": "markdown",
   "metadata": {
    "deletable": true,
    "editable": true
   },
   "source": [
    "##### Try it!"
   ]
  },
  {
   "cell_type": "code",
   "execution_count": 59,
   "metadata": {
    "collapsed": false,
    "deletable": true,
    "editable": true
   },
   "outputs": [
    {
     "name": "stdout",
     "output_type": "stream",
     "text": [
      "df_std\n"
     ]
    },
    {
     "data": {
      "text/html": [
       "<div>\n",
       "<table border=\"1\" class=\"dataframe\">\n",
       "  <thead>\n",
       "    <tr style=\"text-align: right;\">\n",
       "      <th></th>\n",
       "      <th>left-x</th>\n",
       "      <th>left-y</th>\n",
       "      <th>right-x</th>\n",
       "      <th>right-y</th>\n",
       "      <th>nose-x</th>\n",
       "      <th>nose-y</th>\n",
       "      <th>grnd-ry</th>\n",
       "      <th>grnd-rx</th>\n",
       "      <th>grnd-ly</th>\n",
       "      <th>grnd-lx</th>\n",
       "      <th>left-x-mean</th>\n",
       "    </tr>\n",
       "    <tr>\n",
       "      <th>speaker</th>\n",
       "      <th></th>\n",
       "      <th></th>\n",
       "      <th></th>\n",
       "      <th></th>\n",
       "      <th></th>\n",
       "      <th></th>\n",
       "      <th></th>\n",
       "      <th></th>\n",
       "      <th></th>\n",
       "      <th></th>\n",
       "      <th></th>\n",
       "    </tr>\n",
       "  </thead>\n",
       "  <tbody>\n",
       "    <tr>\n",
       "      <th>man-1</th>\n",
       "      <td>15.154425</td>\n",
       "      <td>36.328485</td>\n",
       "      <td>18.901917</td>\n",
       "      <td>54.902340</td>\n",
       "      <td>6.654573</td>\n",
       "      <td>5.520045</td>\n",
       "      <td>53.487999</td>\n",
       "      <td>20.269032</td>\n",
       "      <td>36.572749</td>\n",
       "      <td>15.080360</td>\n",
       "      <td>0.0</td>\n",
       "    </tr>\n",
       "    <tr>\n",
       "      <th>woman-1</th>\n",
       "      <td>17.573442</td>\n",
       "      <td>26.594521</td>\n",
       "      <td>16.459943</td>\n",
       "      <td>34.667787</td>\n",
       "      <td>3.549392</td>\n",
       "      <td>3.538330</td>\n",
       "      <td>33.972660</td>\n",
       "      <td>16.764706</td>\n",
       "      <td>27.117393</td>\n",
       "      <td>17.328941</td>\n",
       "      <td>0.0</td>\n",
       "    </tr>\n",
       "    <tr>\n",
       "      <th>woman-2</th>\n",
       "      <td>15.388711</td>\n",
       "      <td>28.825025</td>\n",
       "      <td>14.890288</td>\n",
       "      <td>39.649111</td>\n",
       "      <td>4.099760</td>\n",
       "      <td>3.416167</td>\n",
       "      <td>39.128572</td>\n",
       "      <td>16.191324</td>\n",
       "      <td>29.320655</td>\n",
       "      <td>15.050938</td>\n",
       "      <td>0.0</td>\n",
       "    </tr>\n",
       "  </tbody>\n",
       "</table>\n",
       "</div>"
      ],
      "text/plain": [
       "            left-x     left-y    right-x    right-y    nose-x    nose-y  \\\n",
       "speaker                                                                   \n",
       "man-1    15.154425  36.328485  18.901917  54.902340  6.654573  5.520045   \n",
       "woman-1  17.573442  26.594521  16.459943  34.667787  3.549392  3.538330   \n",
       "woman-2  15.388711  28.825025  14.890288  39.649111  4.099760  3.416167   \n",
       "\n",
       "           grnd-ry    grnd-rx    grnd-ly    grnd-lx  left-x-mean  \n",
       "speaker                                                           \n",
       "man-1    53.487999  20.269032  36.572749  15.080360          0.0  \n",
       "woman-1  33.972660  16.764706  27.117393  17.328941          0.0  \n",
       "woman-2  39.128572  16.191324  29.320655  15.050938          0.0  "
      ]
     },
     "metadata": {},
     "output_type": "display_data"
    },
    {
     "data": {
      "text/html": [
       "<font color=green>Correct!</font><br/>"
      ],
      "text/plain": [
       "<IPython.core.display.HTML object>"
      ]
     },
     "execution_count": 59,
     "metadata": {},
     "output_type": "execute_result"
    }
   ],
   "source": [
    "from asl_utils import test_std_tryit\n",
    "# TODO Create a dataframe named `df_std` with standard deviations grouped by speaker\n",
    "\n",
    "df_std = asl.df.groupby('speaker').std()\n",
    "\n",
    "# test the code\n",
    "test_std_tryit(df_std)"
   ]
  },
  {
   "cell_type": "markdown",
   "metadata": {
    "deletable": true,
    "editable": true
   },
   "source": [
    "<a id='part1_submission'></a>\n",
    "### Features Implementation Submission\n",
    "Implement four feature sets and answer the question that follows.\n",
    "- normalized Cartesian coordinates\n",
    "    - use *mean* and *standard deviation* statistics and the [standard score](https://en.wikipedia.org/wiki/Standard_score) equation to account for speakers with different heights and arm length\n",
    "    \n",
    "- polar coordinates\n",
    "    - calculate polar coordinates with [Cartesian to polar equations](https://en.wikipedia.org/wiki/Polar_coordinate_system#Converting_between_polar_and_Cartesian_coordinates)\n",
    "    - use the [np.arctan2](https://docs.scipy.org/doc/numpy-1.10.0/reference/generated/numpy.arctan2.html) function and *swap the x and y axes* to move the $0$ to $2\\pi$ discontinuity to 12 o'clock instead of 3 o'clock;  in other words, the normal break in radians value from $0$ to $2\\pi$ occurs directly to the left of the speaker's nose, which may be in the signing area and interfere with results.  By swapping the x and y axes, that discontinuity move to directly above the speaker's head, an area not generally used in signing.\n",
    "\n",
    "- delta difference\n",
    "    - as described in Thad's lecture, use the difference in values between one frame and the next frames as features\n",
    "    - pandas [diff method](http://pandas.pydata.org/pandas-docs/stable/generated/pandas.DataFrame.diff.html) and [fillna method](http://pandas.pydata.org/pandas-docs/stable/generated/pandas.DataFrame.fillna.html) will be helpful for this one\n",
    "\n",
    "- custom features\n",
    "    - These are your own design; combine techniques used above or come up with something else entirely. We look forward to seeing what you come up with! \n",
    "    Some ideas to get you started:\n",
    "        - normalize using a [feature scaling equation](https://en.wikipedia.org/wiki/Feature_scaling)\n",
    "        - normalize the polar coordinates\n",
    "        - adding additional deltas\n"
   ]
  },
  {
   "cell_type": "code",
   "execution_count": 60,
   "metadata": {
    "collapsed": false,
    "deletable": true,
    "editable": true
   },
   "outputs": [
    {
     "data": {
      "text/plain": [
       "speaker\n",
       "man-1      155.464350\n",
       "woman-1    151.017865\n",
       "woman-2    156.866295\n",
       "Name: right-x, dtype: float64"
      ]
     },
     "execution_count": 60,
     "metadata": {},
     "output_type": "execute_result"
    }
   ],
   "source": [
    "df_means['right-x'].head()"
   ]
  },
  {
   "cell_type": "code",
   "execution_count": 61,
   "metadata": {
    "collapsed": false,
    "deletable": true,
    "editable": true
   },
   "outputs": [
    {
     "data": {
      "text/plain": [
       "video  frame\n",
       "98     0        170\n",
       "       1        170\n",
       "       2        170\n",
       "       3        170\n",
       "       4        170\n",
       "Name: right-x, dtype: int64"
      ]
     },
     "execution_count": 61,
     "metadata": {},
     "output_type": "execute_result"
    }
   ],
   "source": [
    "asl.df['right-x'].head()"
   ]
  },
  {
   "cell_type": "code",
   "execution_count": 62,
   "metadata": {
    "collapsed": false,
    "deletable": true,
    "editable": true
   },
   "outputs": [],
   "source": [
    "# TODO add features for normalized by speaker values of left, right, x, y\n",
    "# Name these 'norm-rx', 'norm-ry', 'norm-lx', and 'norm-ly'\n",
    "# using Z-score scaling (X-Xmean)/Xstd\n",
    "\n",
    "features_norm = ['norm-rx', 'norm-ry', 'norm-lx','norm-ly']\n",
    "\n",
    "    \n",
    "asl.df['norm-rx'] = ( asl.df['right-x'] - asl.df['speaker'].map(df_means['right-x']) )/ asl.df['speaker'].map(df_std['right-x'])\n",
    "asl.df['norm-ry'] = ( asl.df['right-y'] - asl.df['speaker'].map(df_means['right-y']) )/ asl.df['speaker'].map(df_std['right-y'])\n",
    "asl.df['norm-lx'] = ( asl.df['left-x'] - asl.df['speaker'].map(df_means['left-x']) )/ asl.df['speaker'].map(df_std['left-x'])\n",
    "asl.df['norm-ly'] = ( asl.df['left-y'] - asl.df['speaker'].map(df_means['left-y']) )/ asl.df['speaker'].map(df_std['left-y'])\n",
    "\n"
   ]
  },
  {
   "cell_type": "code",
   "execution_count": 63,
   "metadata": {
    "collapsed": false,
    "deletable": true,
    "editable": true
   },
   "outputs": [],
   "source": [
    "\n",
    "# TODO add features for polar coordinate values where the nose is the origin\n",
    "# Name these 'polar-rr', 'polar-rtheta', 'polar-lr', and 'polar-ltheta'\n",
    "# Note that 'polar-rr' and 'polar-rtheta' refer to the radius and angle\n",
    "\n",
    "features_polar = ['polar-rr', 'polar-rtheta', 'polar-lr', 'polar-ltheta']\n",
    "\n",
    "asl.df['polar-rr'] = np.sqrt(np.power(asl.df['right-x']-asl.df['nose-x'],2) + np.power(asl.df['right-y']-asl.df['nose-y'],2))\n",
    "asl.df['polar-lr'] = np.sqrt(np.power(asl.df['left-x']-asl.df['nose-x'],2) + np.power(asl.df['left-y']-asl.df['nose-y'],2))\n",
    "\n",
    "asl.df['polar-rtheta'] = np.arctan2(asl.df['right-x']-asl.df['nose-x'], asl.df['right-y']-asl.df['nose-y'])\n",
    "asl.df['polar-ltheta'] = np.arctan2(asl.df['left-x']-asl.df['nose-x'], asl.df['left-y']-asl.df['nose-y'])\n",
    "\n",
    "features_delta = []"
   ]
  },
  {
   "cell_type": "code",
   "execution_count": 64,
   "metadata": {
    "collapsed": false,
    "deletable": true,
    "editable": true
   },
   "outputs": [
    {
     "data": {
      "text/plain": [
       "-0.10050059905462982"
      ]
     },
     "execution_count": 64,
     "metadata": {},
     "output_type": "execute_result"
    }
   ],
   "source": [
    "# asl.df.head(5)\n",
    "asl.df.ix[98,1]\n",
    "np.arctan2(-12,119)"
   ]
  },
  {
   "cell_type": "code",
   "execution_count": 65,
   "metadata": {
    "collapsed": false,
    "deletable": true,
    "editable": true
   },
   "outputs": [],
   "source": [
    "# TODO add features for left, right, x, y differences by one time step, i.e. the \"delta\" values discussed in the lecture\n",
    "# Name these 'delta-rx', 'delta-ry', 'delta-lx', and 'delta-ly'\n",
    "\n",
    "features_delta = ['delta-rx', 'delta-ry', 'delta-lx', 'delta-ly']\n",
    "\n",
    "asl.df['delta-rx'] = asl.df['right-x'].diff(1).fillna(value=0)\n",
    "asl.df['delta-lx'] = asl.df['left-x'].diff(1).fillna(value=0)\n",
    "asl.df['delta-ry'] = asl.df['right-y'].diff(1).fillna(value=0)\n",
    "asl.df['delta-ly'] = asl.df['left-y'].diff(1).fillna(value=0)"
   ]
  },
  {
   "cell_type": "code",
   "execution_count": 191,
   "metadata": {
    "collapsed": false,
    "deletable": true,
    "editable": true
   },
   "outputs": [],
   "source": [
    "# TODO add features of your own design, which may be a combination of the above or something else\n",
    "# Name these whatever you would like\n",
    "\n",
    "# TODO define a list named 'features_custom' for building the training set\n",
    "features_custom = ['delta-polar-rr', 'delta-polar-lr', 'delta-polar-rtheta', 'delta-polar-ltheta'] \n",
    "asl.df['delta-polar-rr'] = asl.df['polar-rr'].diff(1).fillna(value=0)\n",
    "asl.df['delta-polar-lr'] = asl.df['polar-lr'].diff(1).fillna(value=0)\n",
    "asl.df['delta-polar-rtheta'] = asl.df['polar-rtheta'].diff(1).fillna(value=0)\n",
    "asl.df['delta-polar-ltheta'] = asl.df['polar-ltheta'].diff(1).fillna(value=0)\n",
    "\n",
    "features_custom_2 = ['dx', 'dy', 'delta-dx', 'delta-dy']\n",
    "asl.df['dx'] = asl.df['right-x'] - asl.df['left-x']\n",
    "asl.df['dy'] = asl.df['right-y'] - asl.df['left-y']\n",
    "asl.df['delta-dx'] = asl.df['dx'].diff(1).fillna(value=0)\n",
    "asl.df['delta-dy'] = asl.df['dy'].diff(1).fillna(value=0)"
   ]
  },
  {
   "cell_type": "markdown",
   "metadata": {
    "deletable": true,
    "editable": true
   },
   "source": [
    "**Question 1:**  What custom features did you choose for the features_custom set and why?\n",
    "\n",
    "**Answer 1:** I added two sets of custom features:\n",
    "- 1 delta features starting from the polar features. This was the obvious choice, sugested by the request (\"a combination of the above\")\n",
    "- 2 relative x and y position of left arm ( relative to left arm) and delta for them. This was a not  obvious choice for me. I think these features capture both the relationship between hands in current frame ( which is higher, lower) and how this has changed since the previous frame."
   ]
  },
  {
   "cell_type": "markdown",
   "metadata": {
    "deletable": true,
    "editable": true
   },
   "source": [
    "<a id='part1_test'></a>\n",
    "### Features Unit Testing\n",
    "Run the following unit tests as a sanity check on the defined \"ground\", \"norm\", \"polar\", and 'delta\"\n",
    "feature sets.  The test simply looks for some valid values but is not exhaustive.  However, the project should not be submitted if these tests don't pass."
   ]
  },
  {
   "cell_type": "code",
   "execution_count": 67,
   "metadata": {
    "collapsed": false,
    "deletable": true,
    "editable": true
   },
   "outputs": [
    {
     "name": "stderr",
     "output_type": "stream",
     "text": [
      "....\n",
      "----------------------------------------------------------------------\n",
      "Ran 4 tests in 0.029s\n",
      "\n",
      "OK\n"
     ]
    },
    {
     "data": {
      "text/plain": [
       "<unittest.runner.TextTestResult run=4 errors=0 failures=0>"
      ]
     },
     "execution_count": 67,
     "metadata": {},
     "output_type": "execute_result"
    }
   ],
   "source": [
    "import unittest\n",
    "# import numpy as np\n",
    "\n",
    "class TestFeatures(unittest.TestCase):\n",
    "\n",
    "    def test_features_ground(self):\n",
    "        sample = (asl.df.ix[98, 1][features_ground]).tolist()\n",
    "        self.assertEqual(sample, [9, 113, -12, 119])\n",
    "\n",
    "    def test_features_norm(self):\n",
    "        sample = (asl.df.ix[98, 1][features_norm]).tolist()\n",
    "        np.testing.assert_almost_equal(sample, [ 1.153,  1.663, -0.891,  0.742], 3)\n",
    "\n",
    "    def test_features_polar(self):\n",
    "        sample = (asl.df.ix[98,1][features_polar]).tolist()\n",
    "        np.testing.assert_almost_equal(sample, [113.3578, 0.0794, 119.603, -0.1005], 3)\n",
    "\n",
    "    def test_features_delta(self):\n",
    "        sample = (asl.df.ix[98, 0][features_delta]).tolist()\n",
    "        self.assertEqual(sample, [0, 0, 0, 0])\n",
    "        sample = (asl.df.ix[98, 18][features_delta]).tolist()\n",
    "        self.assertTrue(sample in [[-16, -5, -2, 4], [-14, -9, 0, 0]], \"Sample value found was {}\".format(sample))\n",
    "                         \n",
    "suite = unittest.TestLoader().loadTestsFromModule(TestFeatures())\n",
    "unittest.TextTestRunner().run(suite)"
   ]
  },
  {
   "cell_type": "markdown",
   "metadata": {
    "collapsed": true,
    "deletable": true,
    "editable": true
   },
   "source": [
    "<a id='part2_tutorial'></a>\n",
    "## PART 2: Model Selection\n",
    "### Model Selection Tutorial\n",
    "The objective of Model Selection is to tune the number of states for each word HMM prior to testing on unseen data.  In this section you will explore three methods: \n",
    "- Log likelihood using cross-validation folds (CV)\n",
    "- Bayesian Information Criterion (BIC)\n",
    "- Discriminative Information Criterion (DIC) "
   ]
  },
  {
   "cell_type": "markdown",
   "metadata": {
    "deletable": true,
    "editable": true
   },
   "source": [
    "##### Train a single word\n",
    "Now that we have built a training set with sequence data, we can \"train\" models for each word.  As a simple starting example, we train a single word using Gaussian hidden Markov models (HMM).   By using the `fit` method during training, the [Baum-Welch Expectation-Maximization](https://en.wikipedia.org/wiki/Baum%E2%80%93Welch_algorithm) (EM) algorithm is invoked iteratively to find the best estimate for the model *for the number of hidden states specified* from a group of sample seequences. For this example, we *assume* the correct number of hidden states is 3, but that is just a guess.  How do we know what the \"best\" number of states for training is?  We will need to find some model selection technique to choose the best parameter."
   ]
  },
  {
   "cell_type": "code",
   "execution_count": 68,
   "metadata": {
    "collapsed": false,
    "deletable": true,
    "editable": true
   },
   "outputs": [
    {
     "name": "stdout",
     "output_type": "stream",
     "text": [
      "Number of states trained in model for BOOK is 3\n",
      "logL = -2331.1138127433205\n"
     ]
    }
   ],
   "source": [
    "import warnings\n",
    "from hmmlearn.hmm import GaussianHMM\n",
    "\n",
    "def train_a_word(word, num_hidden_states, features):\n",
    "    \n",
    "    warnings.filterwarnings(\"ignore\", category=DeprecationWarning)\n",
    "    training = asl.build_training(features)  \n",
    "    X, lengths = training.get_word_Xlengths(word)\n",
    "    model = GaussianHMM(n_components=num_hidden_states, n_iter=1000).fit(X, lengths)\n",
    "    logL = model.score(X, lengths)\n",
    "    return model, logL\n",
    "\n",
    "demoword = 'BOOK'\n",
    "model, logL = train_a_word(demoword, 3, features_ground)\n",
    "print(\"Number of states trained in model for {} is {}\".format(demoword, model.n_components))\n",
    "print(\"logL = {}\".format(logL))"
   ]
  },
  {
   "cell_type": "markdown",
   "metadata": {
    "deletable": true,
    "editable": true
   },
   "source": [
    "The HMM model has been trained and information can be pulled from the model, including means and variances for each feature and hidden state.  The [log likelihood](http://math.stackexchange.com/questions/892832/why-we-consider-log-likelihood-instead-of-likelihood-in-gaussian-distribution) for any individual sample or group of samples can also be calculated with the `score` method."
   ]
  },
  {
   "cell_type": "code",
   "execution_count": 69,
   "metadata": {
    "collapsed": false,
    "deletable": true,
    "editable": true
   },
   "outputs": [
    {
     "name": "stdout",
     "output_type": "stream",
     "text": [
      "Number of states trained in model for BOOK is 3\n",
      "hidden state #0\n",
      "mean =  [ -11.45300909   94.109178     19.03512475  102.2030162 ]\n",
      "variance =  [  77.403668    203.35441965   26.68898447  156.12444034]\n",
      "\n",
      "hidden state #1\n",
      "mean =  [ -3.46504869  50.66686933  14.02391587  52.04731066]\n",
      "variance =  [ 49.12346305  43.04799144  39.35109609  47.24195772]\n",
      "\n",
      "hidden state #2\n",
      "mean =  [ -1.12415027  69.44164191  17.02866283  77.7231196 ]\n",
      "variance =  [ 19.70434594  16.83041492  30.51552305  11.03678246]\n",
      "\n"
     ]
    }
   ],
   "source": [
    "def show_model_stats(word, model):\n",
    "    print(\"Number of states trained in model for {} is {}\".format(word, model.n_components))    \n",
    "    variance=np.array([np.diag(model.covars_[i]) for i in range(model.n_components)])    \n",
    "    for i in range(model.n_components):  # for each hidden state\n",
    "        print(\"hidden state #{}\".format(i))\n",
    "        print(\"mean = \", model.means_[i])\n",
    "        print(\"variance = \", variance[i])\n",
    "        print()\n",
    "    \n",
    "show_model_stats(demoword, model)"
   ]
  },
  {
   "cell_type": "markdown",
   "metadata": {
    "deletable": true,
    "editable": true
   },
   "source": [
    "##### Try it!\n",
    "Experiment by changing the feature set, word, and/or num_hidden_states values in the next cell to see changes in values.  "
   ]
  },
  {
   "cell_type": "code",
   "execution_count": 193,
   "metadata": {
    "collapsed": false,
    "deletable": true,
    "editable": true
   },
   "outputs": [
    {
     "name": "stdout",
     "output_type": "stream",
     "text": [
      "Number of states trained in model for CHOCOLATE is 4\n",
      "hidden state #0\n",
      "mean =  [ -1.46270079e-131   0.00000000e+000  -4.56889023e-132   0.00000000e+000]\n",
      "variance =  [ 0.00052632  0.00052632  0.00052632  0.00052632]\n",
      "\n",
      "hidden state #1\n",
      "mean =  [ -2.17013665e-01  -9.22464912e+00   3.02521426e-02   5.61554755e-03]\n",
      "variance =  [  7.89740917e+00   1.48902326e+01   1.83274651e-03   1.47895201e-03]\n",
      "\n",
      "hidden state #2\n",
      "mean =  [  4.57950974e+00   2.44150817e+00  -1.96043641e-03   4.66635481e-03]\n",
      "variance =  [  1.37437305e+01   8.08788592e+00   6.41702274e-03   2.03569558e-03]\n",
      "\n",
      "hidden state #3\n",
      "mean =  [-3.99930353  1.3312416  -0.0257947  -0.00558266]\n",
      "variance =  [  6.98330310e-03   4.71601220e+01   5.08838785e-03   3.63197464e-03]\n",
      "\n",
      "logL = 135.19900833556378\n"
     ]
    }
   ],
   "source": [
    "my_testword = 'CHOCOLATE'\n",
    "model, logL = train_a_word(my_testword, 4, features_custom) # Experiment here with different parameters\n",
    "show_model_stats(my_testword, model)\n",
    "print(\"logL = {}\".format(logL))"
   ]
  },
  {
   "cell_type": "code",
   "execution_count": 195,
   "metadata": {
    "collapsed": false,
    "deletable": true,
    "editable": true
   },
   "outputs": [
    {
     "name": "stdout",
     "output_type": "stream",
     "text": [
      "Number of states trained in model for CHOCOLATE is 5\n",
      "hidden state #0\n",
      "mean =  [ -7.20871781 -19.07271725   0.19743554   0.14847757]\n",
      "variance =  [ 12.82803729  12.13675635   7.0002266   20.58575968]\n",
      "\n",
      "hidden state #1\n",
      "mean =  [-15.43233947 -55.37352356  -1.2009956   13.43189378]\n",
      "variance =  [  29.0678686   135.43520526   17.42250124    5.12420701]\n",
      "\n",
      "hidden state #2\n",
      "mean =  [-15.98338973 -14.68973472  -1.69252238   1.07421948]\n",
      "variance =  [ 29.76013959  11.70463957  20.05637961   6.8752881 ]\n",
      "\n",
      "hidden state #3\n",
      "mean =  [-11.48991033 -30.4618441    5.2693854    7.92607328]\n",
      "variance =  [ 68.40261203  50.62250412  15.4361538   15.80561846]\n",
      "\n",
      "hidden state #4\n",
      "mean =  [  0.99999985 -62.50000036   0.99999985   2.49999964]\n",
      "variance =  [ 1.005  6.255  1.005  6.255]\n",
      "\n",
      "logL = -563.29299334998\n"
     ]
    }
   ],
   "source": [
    "my_testword = 'CHOCOLATE'\n",
    "model, logL = train_a_word(my_testword, 5, features_custom_2) # Experiment here with different parameters\n",
    "show_model_stats(my_testword, model)\n",
    "print(\"logL = {}\".format(logL))"
   ]
  },
  {
   "cell_type": "markdown",
   "metadata": {
    "deletable": true,
    "editable": true
   },
   "source": [
    "##### Visualize the hidden states\n",
    "We can plot the means and variances for each state and feature.  Try varying the number of states trained for the HMM model and examine the variances.  Are there some models that are \"better\" than others?  How can you tell?  We would like to hear what you think in the classroom online."
   ]
  },
  {
   "cell_type": "code",
   "execution_count": 72,
   "metadata": {
    "collapsed": false,
    "deletable": true,
    "editable": true
   },
   "outputs": [],
   "source": [
    "%matplotlib inline"
   ]
  },
  {
   "cell_type": "code",
   "execution_count": 73,
   "metadata": {
    "collapsed": false,
    "deletable": true,
    "editable": true
   },
   "outputs": [
    {
     "data": {
      "image/png": "[encoded data removed]",
      "text/plain": [
       "<matplotlib.figure.Figure at 0x11c57e748>"
      ]
     },
     "metadata": {},
     "output_type": "display_data"
    },
    {
     "data": {
      "image/png": "[encoded data removed]",
      "text/plain": [
       "<matplotlib.figure.Figure at 0x11c5b7978>"
      ]
     },
     "metadata": {},
     "output_type": "display_data"
    },
    {
     "data": {
      "image/png": "[encoded data removed]",
      "text/plain": [
       "<matplotlib.figure.Figure at 0x11c527c50>"
      ]
     },
     "metadata": {},
     "output_type": "display_data"
    },
    {
     "data": {
      "image/png": "[encoded data removed]",
      "text/plain": [
       "<matplotlib.figure.Figure at 0x1150f8f28>"
      ]
     },
     "metadata": {},
     "output_type": "display_data"
    }
   ],
   "source": [
    "import math\n",
    "from matplotlib import (cm, pyplot as plt, mlab)\n",
    "\n",
    "def visualize(word, model):\n",
    "    \"\"\" visualize the input model for a particular word \"\"\"\n",
    "    variance=np.array([np.diag(model.covars_[i]) for i in range(model.n_components)])\n",
    "    figures = []\n",
    "    for parm_idx in range(len(model.means_[0])):\n",
    "        xmin = int(min(model.means_[:,parm_idx]) - max(variance[:,parm_idx]))\n",
    "        xmax = int(max(model.means_[:,parm_idx]) + max(variance[:,parm_idx]))\n",
    "        fig, axs = plt.subplots(model.n_components, sharex=True, sharey=False)\n",
    "        colours = cm.rainbow(np.linspace(0, 1, model.n_components))\n",
    "        for i, (ax, colour) in enumerate(zip(axs, colours)):\n",
    "            x = np.linspace(xmin, xmax, 100)\n",
    "            mu = model.means_[i,parm_idx]\n",
    "            sigma = math.sqrt(np.diag(model.covars_[i])[parm_idx])\n",
    "            ax.plot(x, mlab.normpdf(x, mu, sigma), c=colour)\n",
    "            ax.set_title(\"{} feature {} hidden state #{}\".format(word, parm_idx, i))\n",
    "\n",
    "            ax.grid(True)\n",
    "        figures.append(plt)\n",
    "    for p in figures:\n",
    "        p.show()\n",
    "        \n",
    "visualize(my_testword, model)"
   ]
  },
  {
   "cell_type": "markdown",
   "metadata": {
    "deletable": true,
    "editable": true
   },
   "source": [
    "#####  ModelSelector class\n",
    "Review the `ModelSelector` class from the codebase found in the `my_model_selectors.py` module.  It is designed to be a strategy pattern for choosing different model selectors.  For the project submission in this section, subclass `SelectorModel` to implement the following model selectors.  In other words, you will write your own classes/functions in the `my_model_selectors.py` module and run them from this notebook:\n",
    "\n",
    "- `SelectorCV `:  Log likelihood with CV\n",
    "- `SelectorBIC`: BIC \n",
    "- `SelectorDIC`: DIC\n",
    "\n",
    "You will train each word in the training set with a range of values for the number of hidden states, and then score these alternatives with the model selector, choosing the \"best\" according to each strategy. The simple case of training with a constant value for `n_components` can be called using the provided `SelectorConstant` subclass as follow:"
   ]
  },
  {
   "cell_type": "code",
   "execution_count": 74,
   "metadata": {
    "collapsed": false,
    "deletable": true,
    "editable": true
   },
   "outputs": [
    {
     "name": "stdout",
     "output_type": "stream",
     "text": [
      "Number of states trained in model for VEGETABLE is 3\n"
     ]
    }
   ],
   "source": [
    "from my_model_selectors import SelectorConstant\n",
    "\n",
    "training = asl.build_training(features_ground)  # Experiment here with different feature sets defined in part 1\n",
    "word = 'VEGETABLE' # Experiment here with different words\n",
    "model = SelectorConstant(training.get_all_sequences(), training.get_all_Xlengths(), word, n_constant=3).select()\n",
    "print(\"Number of states trained in model for {} is {}\".format(word, model.n_components))"
   ]
  },
  {
   "cell_type": "markdown",
   "metadata": {
    "deletable": true,
    "editable": true
   },
   "source": [
    "##### Cross-validation folds\n",
    "If we simply score the model with the Log Likelihood calculated from the feature sequences it has been trained on, we should expect that more complex models will have higher likelihoods. However, that doesn't tell us which would have a better likelihood score on unseen data.  The model will likely be overfit as complexity is added.  To estimate which topology model is better using only the training data, we can compare scores using cross-validation.  One technique for cross-validation is to break the training set into \"folds\" and rotate which fold is left out of training.  The \"left out\" fold scored.  This gives us a proxy method of finding the best model to use on \"unseen data\". In the following example, a set of word sequences is broken into three folds using the [scikit-learn Kfold](http://scikit-learn.org/stable/modules/generated/sklearn.model_selection.KFold.html) class object. When you implement `SelectorCV`, you will use this technique."
   ]
  },
  {
   "cell_type": "code",
   "execution_count": 75,
   "metadata": {
    "collapsed": false,
    "deletable": true,
    "editable": true
   },
   "outputs": [
    {
     "name": "stdout",
     "output_type": "stream",
     "text": [
      "Train fold indices:[2 3 4 5] Test fold indices:[0 1]\n",
      "Train fold indices:[0 1 4 5] Test fold indices:[2 3]\n",
      "Train fold indices:[0 1 2 3] Test fold indices:[4 5]\n"
     ]
    }
   ],
   "source": [
    "from sklearn.model_selection import KFold\n",
    "\n",
    "training = asl.build_training(features_ground) # Experiment here with different feature sets\n",
    "word = 'VEGETABLE' # Experiment here with different words\n",
    "word_sequences = training.get_word_sequences(word)\n",
    "split_method = KFold()\n",
    "for cv_train_idx, cv_test_idx in split_method.split(word_sequences):\n",
    "    print(\"Train fold indices:{} Test fold indices:{}\".format(cv_train_idx, cv_test_idx))  # view indices of the folds"
   ]
  },
  {
   "cell_type": "markdown",
   "metadata": {
    "deletable": true,
    "editable": true
   },
   "source": [
    "**Tip:** In order to run `hmmlearn` training using the X,lengths tuples on the new folds, subsets must be combined based on the indices given for the folds.  A helper utility has been provided in the `asl_utils` module named `combine_sequences` for this purpose."
   ]
  },
  {
   "cell_type": "markdown",
   "metadata": {
    "deletable": true,
    "editable": true
   },
   "source": [
    "##### Scoring models with other criterion\n",
    "Scoring model topologies with **BIC** balances fit and complexity within the training set for each word.  In the BIC equation, a penalty term penalizes complexity to avoid overfitting, so that it is not necessary to also use cross-validation in the selection process.  There are a number of references on the internet for this criterion.  These [slides](http://www2.imm.dtu.dk/courses/02433/doc/ch6_slides.pdf) include a formula you may find helpful for your implementation.\n",
    "\n",
    "The advantages of scoring model topologies with **DIC** over BIC are presented by Alain Biem in this [reference](http://citeseerx.ist.psu.edu/viewdoc/download?doi=10.1.1.58.6208&rep=rep1&type=pdf) (also found [here](https://pdfs.semanticscholar.org/ed3d/7c4a5f607201f3848d4c02dd9ba17c791fc2.pdf)).  DIC scores the discriminant ability of a training set for one word against competing words.  Instead of a penalty term for complexity, it provides a penalty if model liklihoods for non-matching words are too similar to model likelihoods for the correct word in the word set."
   ]
  },
  {
   "cell_type": "markdown",
   "metadata": {
    "deletable": true,
    "editable": true
   },
   "source": [
    "<a id='part2_submission'></a>\n",
    "### Model Selection Implementation Submission\n",
    "Implement `SelectorCV`, `SelectorBIC`, and `SelectorDIC` classes in the `my_model_selectors.py` module.  Run the selectors on the following five words. Then answer the questions about your results.\n",
    "\n",
    "**Tip:** The `hmmlearn` library may not be able to train or score all models.  Implement try/except contructs as necessary to eliminate non-viable models from consideration."
   ]
  },
  {
   "cell_type": "code",
   "execution_count": 99,
   "metadata": {
    "collapsed": false,
    "deletable": true,
    "editable": true
   },
   "outputs": [],
   "source": [
    "words_to_train = ['FISH', 'BOOK', 'VEGETABLE', 'FUTURE', 'JOHN']\n",
    "words_to_train = ['CHICKEN', 'BOOK', 'VEGETABLE', 'FUTURE', 'JOHN']\n",
    "\n",
    "import timeit"
   ]
  },
  {
   "cell_type": "code",
   "execution_count": 100,
   "metadata": {
    "collapsed": false,
    "deletable": true,
    "editable": true
   },
   "outputs": [
    {
     "name": "stdout",
     "output_type": "stream",
     "text": [
      "The autoreload extension is already loaded. To reload it, use:\n",
      "  %reload_ext autoreload\n"
     ]
    }
   ],
   "source": [
    "%load_ext autoreload\n",
    "%autoreload 2"
   ]
  },
  {
   "cell_type": "code",
   "execution_count": 224,
   "metadata": {
    "collapsed": false,
    "deletable": true,
    "editable": true
   },
   "outputs": [
    {
     "name": "stdout",
     "output_type": "stream",
     "text": [
      "---------train CHICKEN-------\n",
      "model created for CHICKEN with 2 states. fold=1, score=-484.63997423914657\n",
      "model created for CHICKEN with 2 states. fold=2, score=-477.5579278283532\n",
      "best model for CHICKEN whith 2 states scores -477.5579278283532\n",
      "average score for CHICKEN with 2 states is -481.09895103374987\n",
      "model created for CHICKEN with 3 states. fold=1, score=-605.4173088714142\n",
      "model created for CHICKEN with 3 states. fold=2, score=-637.214832751519\n",
      "best model for CHICKEN whith 3 states scores -605.4173088714142\n",
      "average score for CHICKEN with 3 states is -621.3160708114666\n",
      "failed to build model for CHICKEN with 4 states in fold 1\n",
      "failed to build model for CHICKEN with 4 states in fold 2\n",
      "best model for CHICKEN whith 4 states scores None\n",
      "average score for CHICKEN with 4 states is 0.0\n",
      "model created for CHICKEN with 5 states. fold=1, score=-605.4191807269274\n",
      "failed to build model for CHICKEN with 5 states in fold 2\n",
      "best model for CHICKEN whith 5 states scores -605.4191807269274\n",
      "average score for CHICKEN with 5 states is -302.7095903634637\n",
      "failed to build model for CHICKEN with 6 states in fold 1\n",
      "failed to build model for CHICKEN with 6 states in fold 2\n",
      "best model for CHICKEN whith 6 states scores None\n",
      "average score for CHICKEN with 6 states is 0.0\n",
      "failed to build model for CHICKEN with 7 states in fold 1\n",
      "failed to build model for CHICKEN with 7 states in fold 2\n",
      "best model for CHICKEN whith 7 states scores None\n",
      "average score for CHICKEN with 7 states is 0.0\n",
      "failed to build model for CHICKEN with 8 states in fold 1\n",
      "failed to build model for CHICKEN with 8 states in fold 2\n",
      "best model for CHICKEN whith 8 states scores None\n",
      "average score for CHICKEN with 8 states is 0.0\n",
      "failed to build model for CHICKEN with 9 states in fold 1\n",
      "failed to build model for CHICKEN with 9 states in fold 2\n",
      "best model for CHICKEN whith 9 states scores None\n",
      "average score for CHICKEN with 9 states is 0.0\n",
      "failed to build model for CHICKEN with 10 states in fold 1\n",
      "failed to build model for CHICKEN with 10 states in fold 2\n",
      "best model for CHICKEN whith 10 states scores None\n",
      "average score for CHICKEN with 10 states is 0.0\n",
      "failed to build model for CHICKEN with 11 states in fold 1\n",
      "failed to build model for CHICKEN with 11 states in fold 2\n",
      "best model for CHICKEN whith 11 states scores None\n",
      "average score for CHICKEN with 11 states is 0.0\n",
      "failed to build model for CHICKEN with 12 states in fold 1\n",
      "failed to build model for CHICKEN with 12 states in fold 2\n",
      "best model for CHICKEN whith 12 states scores None\n",
      "average score for CHICKEN with 12 states is 0.0\n",
      "failed to build model for CHICKEN with 13 states in fold 1\n",
      "failed to build model for CHICKEN with 13 states in fold 2\n",
      "best model for CHICKEN whith 13 states scores None\n",
      "average score for CHICKEN with 13 states is 0.0\n",
      "failed to build model for CHICKEN with 14 states in fold 1\n",
      "failed to build model for CHICKEN with 14 states in fold 2\n",
      "best model for CHICKEN whith 14 states scores None\n",
      "average score for CHICKEN with 14 states is 0.0\n",
      "best model for CHICKEN has 4 states\n",
      "Training failed for CHICKEN\n",
      "---------train BOOK-------\n",
      "model created for BOOK with 2 states. fold=1, score=-734.8865515585578\n",
      "model created for BOOK with 2 states. fold=2, score=-982.8394520681416\n",
      "model created for BOOK with 2 states. fold=3, score=-970.9583413751118\n",
      "best model for BOOK whith 2 states scores -734.8865515585578\n",
      "average score for BOOK with 2 states is -896.2281150006038\n",
      "model created for BOOK with 3 states. fold=1, score=-717.2635842912338\n",
      "model created for BOOK with 3 states. fold=2, score=-951.3629281570942\n",
      "model created for BOOK with 3 states. fold=3, score=-1022.9721607309527\n",
      "best model for BOOK whith 3 states scores -717.2635842912338\n",
      "average score for BOOK with 3 states is -897.199557726427\n",
      "model created for BOOK with 4 states. fold=1, score=-709.5329438103385\n",
      "model created for BOOK with 4 states. fold=2, score=-938.9531243555323\n",
      "model created for BOOK with 4 states. fold=3, score=-1023.2405541984142\n",
      "best model for BOOK whith 4 states scores -709.5329438103385\n",
      "average score for BOOK with 4 states is -890.5755407880948\n",
      "model created for BOOK with 5 states. fold=1, score=-671.9744633031254\n",
      "model created for BOOK with 5 states. fold=2, score=-951.2320734262476\n",
      "model created for BOOK with 5 states. fold=3, score=-1000.2759650677706\n",
      "best model for BOOK whith 5 states scores -671.9744633031254\n",
      "average score for BOOK with 5 states is -874.4941672657145\n",
      "model created for BOOK with 6 states. fold=1, score=-691.906722267139\n",
      "model created for BOOK with 6 states. fold=2, score=-930.7726190788884\n",
      "model created for BOOK with 6 states. fold=3, score=-993.8654122313362\n",
      "best model for BOOK whith 6 states scores -691.906722267139\n",
      "average score for BOOK with 6 states is -872.1815845257879\n",
      "model created for BOOK with 7 states. fold=1, score=-720.7489856118091\n",
      "model created for BOOK with 7 states. fold=2, score=-1104.0364246551615\n",
      "model created for BOOK with 7 states. fold=3, score=-1011.929213154807\n",
      "best model for BOOK whith 7 states scores -720.7489856118091\n",
      "average score for BOOK with 7 states is -945.5715411405926\n",
      "model created for BOOK with 8 states. fold=1, score=-888.8341835820202\n",
      "model created for BOOK with 8 states. fold=2, score=-1474.1359473400244\n",
      "model created for BOOK with 8 states. fold=3, score=-1012.6249693511609\n",
      "best model for BOOK whith 8 states scores -888.8341835820202\n",
      "average score for BOOK with 8 states is -1125.1983667577351\n",
      "model created for BOOK with 9 states. fold=1, score=-725.199006182004\n",
      "model created for BOOK with 9 states. fold=2, score=-1276.2513232260803\n",
      "model created for BOOK with 9 states. fold=3, score=-995.8864330653735\n",
      "best model for BOOK whith 9 states scores -725.199006182004\n",
      "average score for BOOK with 9 states is -999.1122541578193\n",
      "model created for BOOK with 10 states. fold=1, score=-874.6057964342826\n",
      "model created for BOOK with 10 states. fold=2, score=-1568.3264120653182\n",
      "model created for BOOK with 10 states. fold=3, score=-1118.9061212654901\n",
      "best model for BOOK whith 10 states scores -874.6057964342826\n",
      "average score for BOOK with 10 states is -1187.2794432550304\n",
      "model created for BOOK with 11 states. fold=1, score=-827.6497961741409\n",
      "model created for BOOK with 11 states. fold=2, score=-1337.367251391406\n",
      "model created for BOOK with 11 states. fold=3, score=-1192.7939072945603\n",
      "best model for BOOK whith 11 states scores -827.6497961741409\n",
      "average score for BOOK with 11 states is -1119.2703182867024\n",
      "model created for BOOK with 12 states. fold=1, score=-956.4421688877175\n",
      "model created for BOOK with 12 states. fold=2, score=-1381.561947740302\n",
      "model created for BOOK with 12 states. fold=3, score=-1189.3187679531436\n",
      "best model for BOOK whith 12 states scores -956.4421688877175\n",
      "average score for BOOK with 12 states is -1175.7742948603875\n",
      "model created for BOOK with 13 states. fold=1, score=-993.3275231342037\n",
      "model created for BOOK with 13 states. fold=2, score=-1503.9530791258721\n",
      "model created for BOOK with 13 states. fold=3, score=-1169.6374969080243\n",
      "best model for BOOK whith 13 states scores -993.3275231342037\n",
      "average score for BOOK with 13 states is -1222.3060330560334\n",
      "model created for BOOK with 14 states. fold=1, score=-978.1150707158508\n",
      "model created for BOOK with 14 states. fold=2, score=-1324.2798202835925\n",
      "model created for BOOK with 14 states. fold=3, score=-1303.2530638041162\n",
      "best model for BOOK whith 14 states scores -978.1150707158508\n",
      "average score for BOOK with 14 states is -1201.8826516011866\n",
      "best model for BOOK has 6 states\n",
      "Training complete for BOOK with 6 states with time 4.472948214999633 seconds\n",
      "---------train VEGETABLE-------\n",
      "model created for VEGETABLE with 2 states. fold=1, score=-1413.039491092959\n",
      "model created for VEGETABLE with 2 states. fold=2, score=-437.28359840234924\n",
      "model created for VEGETABLE with 2 states. fold=3, score=-348.9858524996051\n",
      "best model for VEGETABLE whith 2 states scores -348.9858524996051\n",
      "average score for VEGETABLE with 2 states is -733.1029806649711\n",
      "model created for VEGETABLE with 3 states. fold=1, score=-4152.548389252357\n",
      "model created for VEGETABLE with 3 states. fold=2, score=-540.8739636018922\n",
      "model created for VEGETABLE with 3 states. fold=3, score=-2102.6525110979255\n",
      "best model for VEGETABLE whith 3 states scores -540.8739636018922\n",
      "average score for VEGETABLE with 3 states is -2265.3582879840583\n",
      "model created for VEGETABLE with 4 states. fold=1, score=-4578.964868873972\n",
      "model created for VEGETABLE with 4 states. fold=2, score=-540.8739636018922\n",
      "model created for VEGETABLE with 4 states. fold=3, score=-2273.3603767175478\n",
      "best model for VEGETABLE whith 4 states scores -540.8739636018922\n",
      "average score for VEGETABLE with 4 states is -2464.3997363978037\n",
      "model created for VEGETABLE with 5 states. fold=1, score=-4767.695527482219\n",
      "model created for VEGETABLE with 5 states. fold=2, score=-753.1578003149999\n",
      "model created for VEGETABLE with 5 states. fold=3, score=-2292.861950339022\n",
      "best model for VEGETABLE whith 5 states scores -753.1578003149999\n",
      "average score for VEGETABLE with 5 states is -2604.571759378747\n",
      "model created for VEGETABLE with 6 states. fold=1, score=-4767.695326068593\n",
      "model created for VEGETABLE with 6 states. fold=2, score=-1213.526670279278\n",
      "model created for VEGETABLE with 6 states. fold=3, score=-3485.47655651862\n",
      "best model for VEGETABLE whith 6 states scores -1213.526670279278\n",
      "average score for VEGETABLE with 6 states is -3155.5661842888308\n",
      "model created for VEGETABLE with 7 states. fold=1, score=-9697.980261170247\n",
      "model created for VEGETABLE with 7 states. fold=2, score=-750.6679303202875\n",
      "model created for VEGETABLE with 7 states. fold=3, score=-3479.525539173432\n",
      "best model for VEGETABLE whith 7 states scores -750.6679303202875\n",
      "average score for VEGETABLE with 7 states is -4642.724576887988\n",
      "model created for VEGETABLE with 8 states. fold=1, score=-6518.999520153693\n",
      "model created for VEGETABLE with 8 states. fold=2, score=-1234.5730414398258\n",
      "model created for VEGETABLE with 8 states. fold=3, score=-2704.057097427608\n",
      "best model for VEGETABLE whith 8 states scores -1234.5730414398258\n",
      "average score for VEGETABLE with 8 states is -3485.8765530070427\n",
      "model created for VEGETABLE with 9 states. fold=1, score=-7076.166292654554\n",
      "model created for VEGETABLE with 9 states. fold=2, score=-1083.2845850476886\n",
      "model created for VEGETABLE with 9 states. fold=3, score=-2757.8586673236628\n",
      "best model for VEGETABLE whith 9 states scores -1083.2845850476886\n",
      "average score for VEGETABLE with 9 states is -3639.103181675302\n",
      "model created for VEGETABLE with 10 states. fold=1, score=-7076.166292636867\n",
      "model created for VEGETABLE with 10 states. fold=2, score=-962.0907602788421\n",
      "model created for VEGETABLE with 10 states. fold=3, score=-2815.9473154339153\n",
      "best model for VEGETABLE whith 10 states scores -962.0907602788421\n",
      "average score for VEGETABLE with 10 states is -3618.0681227832083\n",
      "model created for VEGETABLE with 11 states. fold=1, score=-7076.166292627997\n",
      "model created for VEGETABLE with 11 states. fold=2, score=-10297.458497432748\n",
      "model created for VEGETABLE with 11 states. fold=3, score=-2347.2114992933007\n",
      "best model for VEGETABLE whith 11 states scores -2347.2114992933007\n",
      "average score for VEGETABLE with 11 states is -6573.612096451349\n",
      "model created for VEGETABLE with 12 states. fold=1, score=-5348.913391202606\n",
      "model created for VEGETABLE with 12 states. fold=2, score=-14513.794589911577\n",
      "model created for VEGETABLE with 12 states. fold=3, score=-3710.154664734093\n",
      "best model for VEGETABLE whith 12 states scores -3710.154664734093\n",
      "average score for VEGETABLE with 12 states is -7857.620881949425\n",
      "model created for VEGETABLE with 13 states. fold=1, score=-5512.315803630143\n",
      "failed to build model for VEGETABLE with 13 states in fold 2\n",
      "model created for VEGETABLE with 13 states. fold=3, score=-11676.725103551127\n",
      "best model for VEGETABLE whith 13 states scores -5512.315803630143\n",
      "average score for VEGETABLE with 13 states is -5729.680302393756\n",
      "model created for VEGETABLE with 14 states. fold=1, score=-1131.155768040563\n",
      "failed to build model for VEGETABLE with 14 states in fold 2\n",
      "model created for VEGETABLE with 14 states. fold=3, score=-1846.3685692029298\n",
      "best model for VEGETABLE whith 14 states scores -1131.155768040563\n",
      "average score for VEGETABLE with 14 states is -992.5081124144976\n",
      "best model for VEGETABLE has 2 states\n",
      "Training complete for VEGETABLE with 2 states with time 1.8159221170062665 seconds\n",
      "---------train FUTURE-------\n",
      "model created for FUTURE with 2 states. fold=1, score=-582.7568535859054\n",
      "model created for FUTURE with 2 states. fold=2, score=-901.3407135096643\n",
      "model created for FUTURE with 2 states. fold=3, score=-986.7694100682497\n",
      "best model for FUTURE whith 2 states scores -582.7568535859054\n",
      "average score for FUTURE with 2 states is -823.6223257212732\n",
      "model created for FUTURE with 3 states. fold=1, score=-664.7725313622552\n",
      "model created for FUTURE with 3 states. fold=2, score=-899.756692690292\n",
      "model created for FUTURE with 3 states. fold=3, score=-1018.4819630739181\n",
      "best model for FUTURE whith 3 states scores -664.7725313622552\n",
      "average score for FUTURE with 3 states is -861.0037290421551\n",
      "model created for FUTURE with 4 states. fold=1, score=-630.5284668415562\n",
      "model created for FUTURE with 4 states. fold=2, score=-928.1404671041018\n",
      "model created for FUTURE with 4 states. fold=3, score=-1091.1747430981527\n",
      "best model for FUTURE whith 4 states scores -630.5284668415562\n",
      "average score for FUTURE with 4 states is -883.2812256812703\n",
      "model created for FUTURE with 5 states. fold=1, score=-650.5037631980422\n",
      "model created for FUTURE with 5 states. fold=2, score=-1098.2233150944448\n",
      "model created for FUTURE with 5 states. fold=3, score=-1087.1032671926712\n",
      "best model for FUTURE whith 5 states scores -650.5037631980422\n",
      "average score for FUTURE with 5 states is -945.2767818283861\n",
      "model created for FUTURE with 6 states. fold=1, score=-666.8267075965617\n",
      "model created for FUTURE with 6 states. fold=2, score=-1084.3834537708974\n",
      "model created for FUTURE with 6 states. fold=3, score=-1084.0648922820587\n",
      "best model for FUTURE whith 6 states scores -666.8267075965617\n",
      "average score for FUTURE with 6 states is -945.0916845498392\n",
      "model created for FUTURE with 7 states. fold=1, score=-675.5577109056057\n",
      "model created for FUTURE with 7 states. fold=2, score=-1530.1793265165823\n",
      "model created for FUTURE with 7 states. fold=3, score=-1110.2388333624376\n",
      "best model for FUTURE whith 7 states scores -675.5577109056057\n",
      "average score for FUTURE with 7 states is -1105.325290261542\n",
      "model created for FUTURE with 8 states. fold=1, score=-671.0096975122417\n",
      "model created for FUTURE with 8 states. fold=2, score=-1238.6929957653517\n",
      "model created for FUTURE with 8 states. fold=3, score=-1363.5934249073703\n",
      "best model for FUTURE whith 8 states scores -671.0096975122417\n",
      "average score for FUTURE with 8 states is -1091.0987060616546\n",
      "model created for FUTURE with 9 states. fold=1, score=-639.9087715094995\n",
      "model created for FUTURE with 9 states. fold=2, score=-1585.9442797040936\n",
      "model created for FUTURE with 9 states. fold=3, score=-1054.7909515966983\n",
      "best model for FUTURE whith 9 states scores -639.9087715094995\n",
      "average score for FUTURE with 9 states is -1093.5480009367639\n",
      "model created for FUTURE with 10 states. fold=1, score=-735.89283862053\n",
      "model created for FUTURE with 10 states. fold=2, score=-1542.2957346330447\n",
      "model created for FUTURE with 10 states. fold=3, score=-1689.045923730584\n",
      "best model for FUTURE whith 10 states scores -735.89283862053\n",
      "average score for FUTURE with 10 states is -1322.4114989947195\n",
      "model created for FUTURE with 11 states. fold=1, score=-731.2322630553391\n",
      "model created for FUTURE with 11 states. fold=2, score=-1697.4316563705513\n",
      "model created for FUTURE with 11 states. fold=3, score=-1811.3758081964522\n",
      "best model for FUTURE whith 11 states scores -731.2322630553391\n",
      "average score for FUTURE with 11 states is -1413.3465758741143\n",
      "model created for FUTURE with 12 states. fold=1, score=-969.8962843685545\n",
      "model created for FUTURE with 12 states. fold=2, score=-1664.0518761456124\n",
      "model created for FUTURE with 12 states. fold=3, score=-1742.4896783351355\n",
      "best model for FUTURE whith 12 states scores -969.8962843685545\n",
      "average score for FUTURE with 12 states is -1458.8126129497675\n",
      "model created for FUTURE with 13 states. fold=1, score=-813.7527797535625\n",
      "model created for FUTURE with 13 states. fold=2, score=-1554.0414731066212\n",
      "model created for FUTURE with 13 states. fold=3, score=-1789.914174330731\n",
      "best model for FUTURE whith 13 states scores -813.7527797535625\n",
      "average score for FUTURE with 13 states is -1385.9028090636384\n",
      "model created for FUTURE with 14 states. fold=1, score=-851.3124484560469\n",
      "model created for FUTURE with 14 states. fold=2, score=-1559.988958744018\n",
      "model created for FUTURE with 14 states. fold=3, score=-1901.9585183797951\n",
      "best model for FUTURE whith 14 states scores -851.3124484560469\n",
      "average score for FUTURE with 14 states is -1437.7533085266202\n",
      "best model for FUTURE has 2 states\n",
      "Training complete for FUTURE with 2 states with time 3.8908940690162126 seconds\n",
      "---------train JOHN-------\n",
      "model created for JOHN with 2 states. fold=1, score=-6209.562671445444\n",
      "model created for JOHN with 2 states. fold=2, score=-6687.413845632844\n",
      "model created for JOHN with 2 states. fold=3, score=-7104.900164752572\n",
      "best model for JOHN whith 2 states scores -6209.562671445444\n",
      "average score for JOHN with 2 states is -6667.292227276954\n",
      "model created for JOHN with 3 states. fold=1, score=-6060.885731961192\n",
      "model created for JOHN with 3 states. fold=2, score=-6559.453057061334\n",
      "model created for JOHN with 3 states. fold=3, score=-7045.534710731611\n",
      "best model for JOHN whith 3 states scores -6060.885731961192\n",
      "average score for JOHN with 3 states is -6555.291166584712\n",
      "model created for JOHN with 4 states. fold=1, score=-5996.929527202417\n",
      "model created for JOHN with 4 states. fold=2, score=-6443.4336373283395\n",
      "model created for JOHN with 4 states. fold=3, score=-8072.971786202571\n",
      "best model for JOHN whith 4 states scores -5996.929527202417\n",
      "average score for JOHN with 4 states is -6837.77831691111\n",
      "model created for JOHN with 5 states. fold=1, score=-5915.654634271071\n",
      "model created for JOHN with 5 states. fold=2, score=-6200.569535200522\n",
      "model created for JOHN with 5 states. fold=3, score=-8032.817226015321\n",
      "best model for JOHN whith 5 states scores -5915.654634271071\n",
      "average score for JOHN with 5 states is -6716.347131828971\n",
      "model created for JOHN with 6 states. fold=1, score=-5892.147725089507\n",
      "model created for JOHN with 6 states. fold=2, score=-6069.769029937493\n",
      "model created for JOHN with 6 states. fold=3, score=-7971.441460684866\n",
      "best model for JOHN whith 6 states scores -5892.147725089507\n",
      "average score for JOHN with 6 states is -6644.4527385706215\n",
      "model created for JOHN with 7 states. fold=1, score=-5793.50130217245\n",
      "model created for JOHN with 7 states. fold=2, score=-6103.218484121968\n",
      "model created for JOHN with 7 states. fold=3, score=-7956.799887895866\n",
      "best model for JOHN whith 7 states scores -5793.50130217245\n",
      "average score for JOHN with 7 states is -6617.839891396761\n",
      "model created for JOHN with 8 states. fold=1, score=-5837.382273061063\n",
      "model created for JOHN with 8 states. fold=2, score=-5846.502974054201\n",
      "model created for JOHN with 8 states. fold=3, score=-7932.018990787593\n",
      "best model for JOHN whith 8 states scores -5837.382273061063\n",
      "average score for JOHN with 8 states is -6538.634745967619\n",
      "model created for JOHN with 9 states. fold=1, score=-5833.69751113817\n",
      "model created for JOHN with 9 states. fold=2, score=-5801.482403776655\n",
      "model created for JOHN with 9 states. fold=3, score=-7946.30616864955\n",
      "best model for JOHN whith 9 states scores -5801.482403776655\n",
      "average score for JOHN with 9 states is -6527.162027854792\n",
      "model created for JOHN with 10 states. fold=1, score=-5809.908370790337\n",
      "model created for JOHN with 10 states. fold=2, score=-5816.428384722896\n",
      "model created for JOHN with 10 states. fold=3, score=-7644.021113050683\n",
      "best model for JOHN whith 10 states scores -5809.908370790337\n",
      "average score for JOHN with 10 states is -6423.452622854638\n",
      "model created for JOHN with 11 states. fold=1, score=-5898.781082834853\n",
      "model created for JOHN with 11 states. fold=2, score=-5828.423406158385\n",
      "model created for JOHN with 11 states. fold=3, score=-7589.304270196378\n",
      "best model for JOHN whith 11 states scores -5828.423406158385\n",
      "average score for JOHN with 11 states is -6438.836253063205\n",
      "model created for JOHN with 12 states. fold=1, score=-5813.808942028088\n",
      "model created for JOHN with 12 states. fold=2, score=-5765.328248546225\n",
      "model created for JOHN with 12 states. fold=3, score=-7675.956400519424\n",
      "best model for JOHN whith 12 states scores -5765.328248546225\n",
      "average score for JOHN with 12 states is -6418.364530364579\n",
      "model created for JOHN with 13 states. fold=1, score=-5884.683592248223\n",
      "model created for JOHN with 13 states. fold=2, score=-5960.819164939315\n",
      "model created for JOHN with 13 states. fold=3, score=-8307.080466088959\n",
      "best model for JOHN whith 13 states scores -5884.683592248223\n",
      "average score for JOHN with 13 states is -6717.527741092165\n",
      "model created for JOHN with 14 states. fold=1, score=-5830.023107597054\n",
      "model created for JOHN with 14 states. fold=2, score=-5901.623462084336\n",
      "model created for JOHN with 14 states. fold=3, score=-8340.397853584156\n",
      "best model for JOHN whith 14 states scores -5830.023107597054\n",
      "average score for JOHN with 14 states is -6690.681474421849\n",
      "best model for JOHN has 12 states\n",
      "Training complete for JOHN with 12 states with time 39.30188075400656 seconds\n"
     ]
    }
   ],
   "source": [
    "# TODO: Implement SelectorCV in my_model_selector.py\n",
    "%autoreload 2\n",
    "from my_model_selectors import SelectorCV\n",
    "\n",
    "training = asl.build_training(features_ground)  # Experiment here with different feature sets defined in part 1\n",
    "sequences = training.get_all_sequences()\n",
    "\n",
    "Xlengths = training.get_all_Xlengths()\n",
    "for word in words_to_train:\n",
    "    print(f\"---------train {word}-------\")\n",
    "    start = timeit.default_timer()\n",
    "    model = SelectorCV(sequences, Xlengths, word, min_n_components=2, max_n_components=15, random_state = 14, verbose=True).select()\n",
    "    end = timeit.default_timer()-start\n",
    "    if model is not None:\n",
    "        print(\"Training complete for {} with {} states with time {} seconds\".format(word, model.n_components, end))\n",
    "    else:\n",
    "        print(\"Training failed for {}\".format(word))"
   ]
  },
  {
   "cell_type": "code",
   "execution_count": 241,
   "metadata": {
    "collapsed": false,
    "deletable": true,
    "editable": true
   },
   "outputs": [
    {
     "name": "stdout",
     "output_type": "stream",
     "text": [
      "trying to build models with 2 -> 15 states\n",
      "model created for CHICKEN with 2 states. score=-334.28572548762804\n",
      "model created for CHICKEN with 3 states. score=-299.58445563361545\n",
      "model created for CHICKEN with 4 states. score=-287.3708086214201\n",
      "model created for CHICKEN with 5 states. score=-231.75553048896086\n",
      "model created for CHICKEN with 6 states. score=-206.60335850303215\n",
      "failed to build model with 7 states for CHICKEN\n",
      "failed to build model with 8 states for CHICKEN\n",
      "failed to build model with 9 states for CHICKEN\n",
      "failed to build model with 10 states for CHICKEN\n",
      "failed to build model with 11 states for CHICKEN\n",
      "failed to build model with 12 states for CHICKEN\n",
      "failed to build model with 13 states for CHICKEN\n",
      "failed to build model with 14 states for CHICKEN\n",
      "best model for CHICKEN has 6 states\n",
      "Training complete for CHICKEN with 6 states with time 0.5180080379941501 seconds\n",
      "trying to build models with 2 -> 15 states\n",
      "model created for BOOK with 2 states. score=-2070.531368214913\n",
      "model created for BOOK with 3 states. score=-1973.0947577551435\n",
      "model created for BOOK with 4 states. score=-1965.637540001522\n",
      "model created for BOOK with 5 states. score=-1897.4006935637508\n",
      "model created for BOOK with 6 states. score=-1853.8532152686996\n",
      "model created for BOOK with 7 states. score=-1454.8655961598088\n",
      "model created for BOOK with 8 states. score=-1772.6659275482834\n",
      "model created for BOOK with 9 states. score=-1755.227353095437\n",
      "model created for BOOK with 10 states. score=-1592.213844822065\n",
      "model created for BOOK with 11 states. score=-1579.236751497177\n",
      "model created for BOOK with 12 states. score=-1563.601349313665\n",
      "failed to build model with 13 states for BOOK\n",
      "failed to build model with 14 states for BOOK\n",
      "best model for BOOK has 7 states\n",
      "Training complete for BOOK with 7 states with time 3.584634192986414 seconds\n",
      "trying to build models with 2 -> 15 states\n",
      "model created for VEGETABLE with 2 states. score=-859.1385385583615\n",
      "model created for VEGETABLE with 3 states. score=-752.7087248754885\n",
      "model created for VEGETABLE with 4 states. score=-602.5005578534046\n",
      "model created for VEGETABLE with 5 states. score=-584.501948077628\n",
      "model created for VEGETABLE with 6 states. score=-455.29832427442085\n",
      "model created for VEGETABLE with 7 states. score=-437.65814655194146\n",
      "model created for VEGETABLE with 8 states. score=-419.9589269491998\n",
      "model created for VEGETABLE with 9 states. score=-302.9887948199557\n",
      "model created for VEGETABLE with 10 states. score=-285.8150852487983\n",
      "model created for VEGETABLE with 11 states. score=-263.6561482838102\n",
      "model created for VEGETABLE with 12 states. score=-236.08737265266666\n",
      "model created for VEGETABLE with 13 states. score=-262.3553612994291\n",
      "model created for VEGETABLE with 14 states. score=-247.62214663049068\n",
      "best model for VEGETABLE has 9 states\n",
      "Training complete for VEGETABLE with 9 states with time 0.9405143879994284 seconds\n",
      "trying to build models with 2 -> 15 states\n",
      "model created for FUTURE with 2 states. score=-1927.6029043134345\n",
      "model created for FUTURE with 3 states. score=-1852.3030744501766\n",
      "model created for FUTURE with 4 states. score=-1808.9108505853562\n",
      "model created for FUTURE with 5 states. score=-1786.7563673785871\n",
      "model created for FUTURE with 6 states. score=-1768.5983637683441\n",
      "model created for FUTURE with 7 states. score=-1752.70340665894\n",
      "model created for FUTURE with 8 states. score=-1714.1721379417168\n",
      "model created for FUTURE with 9 states. score=-1686.3758633670798\n",
      "model created for FUTURE with 10 states. score=-1693.6516231771861\n",
      "model created for FUTURE with 11 states. score=-1655.5072901092228\n",
      "model created for FUTURE with 12 states. score=-1582.6997654295808\n",
      "model created for FUTURE with 13 states. score=-1455.8279205257543\n",
      "model created for FUTURE with 14 states. score=-1543.0891297636124\n",
      "best model for FUTURE has 13 states\n",
      "Training complete for FUTURE with 13 states with time 2.3898796060238965 seconds\n",
      "trying to build models with 2 -> 15 states\n",
      "model created for JOHN with 2 states. score=-17147.412832848477\n",
      "model created for JOHN with 3 states. score=-16724.373081466936\n",
      "model created for JOHN with 4 states. score=-16458.666284916988\n",
      "model created for JOHN with 5 states. score=-16194.308402356948\n",
      "model created for JOHN with 6 states. score=-16009.262027374527\n",
      "model created for JOHN with 7 states. score=-13088.989513364022\n",
      "model created for JOHN with 8 states. score=-12943.18597455103\n",
      "model created for JOHN with 9 states. score=-12779.711103495845\n",
      "model created for JOHN with 10 states. score=-12609.43485329105\n",
      "model created for JOHN with 11 states. score=-12485.699304222053\n",
      "model created for JOHN with 12 states. score=-12356.005564640556\n",
      "model created for JOHN with 13 states. score=-12235.659458250719\n",
      "model created for JOHN with 14 states. score=-12197.84085719131\n",
      "best model for JOHN has 13 states\n",
      "Training complete for JOHN with 13 states with time 35.549930359993596 seconds\n"
     ]
    }
   ],
   "source": [
    "%autoreload 2\n",
    "# TODO: Implement SelectorBIC in module my_model_selectors.py\n",
    "from my_model_selectors import SelectorBIC\n",
    "\n",
    "training = asl.build_training(features_custom_2)  # Experiment here with different feature sets defined in part 1\n",
    "sequences = training.get_all_sequences()\n",
    "Xlengths = training.get_all_Xlengths()\n",
    "for word in words_to_train:\n",
    "    start = timeit.default_timer()\n",
    "    model = SelectorBIC(sequences, Xlengths, word, \n",
    "                    min_n_components=2, max_n_components=15, random_state = 14, verbose=True).select()\n",
    "    end = timeit.default_timer()-start\n",
    "    if model is not None:\n",
    "        print(\"Training complete for {} with {} states with time {} seconds\".format(word, model.n_components, end))\n",
    "    else:\n",
    "        print(\"Training failed for {}\".format(word))"
   ]
  },
  {
   "cell_type": "code",
   "execution_count": 239,
   "metadata": {
    "collapsed": false,
    "deletable": true,
    "editable": true
   },
   "outputs": [
    {
     "name": "stdout",
     "output_type": "stream",
     "text": [
      "My sequences for CHICKEN: [[[-46, -51, 1.0, -4.0], [-42, -51, 4.0, 0.0], [-39, -53, 3.0, -2.0], [-36, -59, 3.0, -6.0], [-36, -59, 0.0, 0.0], [-33, -60, 3.0, -1.0], [-31, -64, 2.0, -4.0], [-30, -65, 1.0, -1.0], [-30, -65, 0.0, 0.0], [-30, -65, 0.0, 0.0], [-30, -65, 0.0, 0.0], [-30, -69, 0.0, -4.0], [-30, -69, 0.0, 0.0], [-28, -64, 2.0, 5.0], [-21, -70, 7.0, -6.0]], [[-48, -40, 0.0, 0.0], [-48, -40, 0.0, 0.0], [-48, -40, 0.0, 0.0], [-44, -44, 4.0, -4.0], [-41, -45, 3.0, -1.0], [-35, -54, 6.0, -9.0], [-35, -54, 0.0, 0.0], [-28, -58, 7.0, -4.0], [-28, -58, 0.0, 0.0], [-28, -60, 0.0, -2.0], [-27, -62, 1.0, -2.0], [-27, -62, 0.0, 0.0], [-27, -62, 0.0, 0.0], [-27, -62, 0.0, 0.0], [-27, -65, 0.0, -3.0], [-25, -66, 2.0, -1.0], [-17, -63, 8.0, 3.0]]]\n",
      "trying to build models with 2 -> 15 states\n",
      "model created for CHICKEN with 2 states. score=-1974.2709109330265\n",
      "model created for CHICKEN with 3 states. score=-1512.097322143376\n",
      "model created for CHICKEN with 4 states. score=-3771.9985143688523\n",
      "model created for CHICKEN with 5 states. score=-3940.4402337382835\n",
      "model created for CHICKEN with 6 states. score=-2804.271433043934\n",
      "failed to build model with 7 states for CHICKEN\n",
      "failed to build model with 8 states for CHICKEN\n",
      "failed to build model with 9 states for CHICKEN\n",
      "failed to build model with 10 states for CHICKEN\n",
      "failed to build model with 11 states for CHICKEN\n",
      "failed to build model with 12 states for CHICKEN\n",
      "failed to build model with 13 states for CHICKEN\n",
      "failed to build model with 14 states for CHICKEN\n",
      "best model for CHICKEN has 3 states\n",
      "Training complete for CHICKEN with 3 states with time 1.2457319659879431 seconds\n",
      "My sequences for BOOK: [[[-20, -1, 9.0, 2.0], [-16, -2, 4.0, -1.0], [-16, -2, 0.0, 0.0], [-16, -2, 0.0, 0.0], [-16, -2, 0.0, 0.0], [-25, -2, -9.0, 0.0]], [[-23, 0, 2.0, -3.0], [-13, 2, 10.0, 2.0], [-13, 2, 0.0, 0.0], [-13, 2, 0.0, 0.0], [-20, -3, -7.0, -5.0], [-32, -3, -12.0, 0.0]], [[-14, 0, 15.0, 20.0], [-7, 3, 7.0, 3.0], [-11, 1, -4.0, -2.0], [-16, 3, -5.0, 2.0], [-21, 3, -5.0, 0.0], [-25, 2, -4.0, -1.0], [-29, 0, -4.0, -2.0]], [[-17, -16, 2.0, 18.0], [-9, -7, 8.0, 9.0], [-7, 0, 2.0, 7.0], [-11, 0, -4.0, 0.0], [-14, 1, -3.0, 1.0], [-22, -1, -8.0, -2.0], [-25, 0, -3.0, 1.0]], [[-30, -22, 0.0, 0.0], [-30, -18, 0.0, 4.0], [-30, -16, 0.0, 2.0], [-30, -16, 0.0, 0.0], [-30, -16, 0.0, 0.0], [-30, -16, 0.0, 0.0], [-30, -16, 0.0, 0.0], [-32, -7, -2.0, 9.0], [-40, -7, -8.0, 0.0], [-39, -5, 1.0, 2.0], [-46, -6, -7.0, -1.0]], [[-17, -11, 4.0, 5.0], [-7, 0, 10.0, 11.0], [-9, -1, -2.0, -1.0], [-14, 0, -5.0, 1.0], [-14, 0, 0.0, 0.0], [-26, -1, -12.0, -1.0], [-27, -1, -1.0, 0.0], [-28, -1, -1.0, 0.0]], [[-47, 2, 0.0, 5.0], [-49, -3, -2.0, -5.0], [-36, 0, 13.0, 3.0], [-41, -2, -5.0, -2.0], [-38, -2, 3.0, 0.0], [-38, -1, 0.0, 1.0], [-35, 0, 3.0, 1.0], [-34, -1, 1.0, -1.0]], [[-39, -10, 9.0, 6.0], [-42, -3, -3.0, 7.0], [-37, -9, 5.0, -6.0], [-37, -3, 0.0, 6.0], [-32, -1, 5.0, 2.0], [-36, -5, -4.0, -4.0], [-33, -4, 3.0, 1.0], [-37, -1, -4.0, 3.0]], [[-22, -20, 12.0, 15.0], [-11, -10, 11.0, 10.0], [-11, -10, 0.0, 0.0], [-12, -3, -1.0, 7.0], [-19, -1, -7.0, 2.0], [-29, -1, -10.0, 0.0], [-36, -1, -7.0, 0.0]], [[-34, 7, 5.0, 1.0], [-28, 3, 6.0, -4.0], [-19, 2, 9.0, -1.0], [-11, 3, 8.0, 1.0], [-11, 3, 0.0, 0.0], [-20, 0, -9.0, -3.0], [-25, -1, -5.0, -1.0], [-26, -3, -1.0, -2.0]], [[-40, -20, 15.0, 13.0], [-29, -10, 11.0, 10.0], [-19, -7, 10.0, 3.0], [-19, -7, 0.0, 0.0], [-19, -7, 0.0, 0.0], [-19, -7, 0.0, 0.0], [-15, -11, 4.0, -4.0], [-15, -11, 0.0, 0.0], [-15, -11, 0.0, 0.0], [-18, -8, -3.0, 3.0], [-18, -8, 0.0, 0.0], [-18, -8, 0.0, 0.0], [-16, -12, 2.0, -4.0], [-16, -12, 0.0, 0.0], [-16, -12, 0.0, 0.0], [-18, -6, -2.0, 6.0], [-15, -10, 3.0, -4.0]], [[-20, -10, 11.0, 11.0], [-11, -4, 9.0, 6.0], [-11, -4, 0.0, 0.0], [-16, -3, -5.0, 1.0], [-16, -3, 0.0, 0.0], [-15, -5, 1.0, -2.0], [-12, 0, 3.0, 5.0], [-12, 0, 0.0, 0.0], [-12, 0, 0.0, 0.0], [-12, 0, 0.0, 0.0], [-17, -4, -5.0, -4.0], [-17, -4, 0.0, 0.0], [-14, -2, 3.0, 2.0], [-16, -3, -2.0, -1.0], [-15, 0, 1.0, 3.0]], [[-12, -1, 18.0, 7.0], [-12, -1, 0.0, 0.0], [-12, -1, 0.0, 0.0], [-12, -1, 0.0, 0.0], [-23, 1, -11.0, 2.0], [-23, 1, 0.0, 0.0], [-13, 2, 10.0, 1.0], [-13, 2, 0.0, 0.0], [-13, 2, 0.0, 0.0], [-13, 2, 0.0, 0.0], [-22, -3, -9.0, -5.0], [-21, 2, 1.0, 5.0], [-26, -1, -5.0, -3.0]], [[-16, -5, 13.0, 1.0], [-6, -2, 10.0, 3.0], [-12, -3, -6.0, -1.0], [-20, 0, -8.0, 3.0], [-20, 0, 0.0, 0.0], [-20, 0, 0.0, 0.0], [-20, 0, 0.0, 0.0], [-10, -1, 10.0, -1.0], [-10, -1, 0.0, 0.0], [-10, -1, 0.0, 0.0], [-22, 1, -12.0, 2.0], [-22, 1, 0.0, 0.0], [-27, 0, -5.0, -1.0], [-26, -7, 1.0, -7.0]], [[-26, -14, 6.0, -2.0], [-12, -8, 14.0, 6.0], [-13, -8, -1.0, 0.0], [-13, -8, 0.0, 0.0], [-13, -8, 0.0, 0.0], [-13, -8, 0.0, 0.0], [-13, -8, 0.0, 0.0], [-13, -8, 0.0, 0.0], [-13, -8, 0.0, 0.0], [-17, -8, -4.0, 0.0], [-17, -8, 0.0, 0.0]], [[-25, -15, 8.0, 18.0], [-19, -7, 6.0, 8.0], [-17, -7, 2.0, 0.0], [-17, -7, 0.0, 0.0], [-16, -1, 1.0, 6.0], [-16, -1, 0.0, 0.0], [-14, -1, 2.0, 0.0], [-14, 1, 0.0, 2.0]], [[-22, -6, 2.0, 2.0], [-20, -4, 2.0, 2.0], [-20, -4, 0.0, 0.0], [-22, -2, -2.0, 2.0], [-22, -2, 0.0, 0.0], [-21, 0, 1.0, 2.0], [-21, 0, 0.0, 0.0], [-17, 0, 4.0, 0.0], [-19, -3, -2.0, -3.0], [-21, -4, -2.0, -1.0]], [[-40, -28, 5.0, 13.0], [-41, -21, -1.0, 7.0], [-37, -3, 4.0, 18.0], [-33, -4, 4.0, -1.0], [-25, -4, 8.0, 0.0], [-25, -4, 0.0, 0.0], [-30, -12, -5.0, -8.0], [-26, -26, 4.0, -14.0]]]\n",
      "trying to build models with 2 -> 15 states\n",
      "model created for BOOK with 2 states. score=-1890.8988238831605\n",
      "model created for BOOK with 3 states. score=-1888.3596210489275\n",
      "model created for BOOK with 4 states. score=-1564.3173590745962\n",
      "model created for BOOK with 5 states. score=-1585.1794913673116\n",
      "model created for BOOK with 6 states. score=-2161.5559693509226\n",
      "model created for BOOK with 7 states. score=-1469.1003525205476\n",
      "model created for BOOK with 8 states. score=-1854.5112545491536\n",
      "model created for BOOK with 9 states. score=-3165.0811064996137\n",
      "model created for BOOK with 10 states. score=-5084.57999796004\n",
      "model created for BOOK with 11 states. score=-4944.113419763656\n",
      "model created for BOOK with 12 states. score=-5728.251850065335\n",
      "failed to build model with 13 states for BOOK\n",
      "failed to build model with 14 states for BOOK\n",
      "best model for BOOK has 7 states\n",
      "Training complete for BOOK with 7 states with time 5.510815883986652 seconds\n",
      "My sequences for VEGETABLE: [[[-48, -82, -1.0, -6.0], [-48, -82, 0.0, 0.0], [-47, -88, 1.0, -6.0], [-47, -88, 0.0, 0.0], [-44, -92, 3.0, -4.0], [-44, -92, 0.0, 0.0], [-44, -92, 0.0, 0.0], [-42, -92, 2.0, 0.0], [-42, -92, 0.0, 0.0], [-42, -92, 0.0, 0.0], [-42, -92, 0.0, 0.0], [-42, -92, 0.0, 0.0], [-42, -92, 0.0, 0.0]], [[-48, -89, -1.0, -7.0], [-44, -93, 4.0, -4.0], [-47, -97, -3.0, -4.0], [-47, -97, 0.0, 0.0], [-47, -97, 0.0, 0.0], [-47, -97, 0.0, 0.0], [-47, -97, 0.0, 0.0], [-47, -97, 0.0, 0.0], [-47, -97, 0.0, 0.0]], [[-46, -135, -1.0, -4.0], [-47, -137, -1.0, -2.0], [-50, -140, -3.0, -3.0], [-50, -140, 0.0, 0.0], [-50, -140, 0.0, 0.0], [-50, -140, 0.0, 0.0], [-50, -140, 0.0, 0.0], [-51, -139, -1.0, 1.0], [-49, -134, 2.0, 5.0], [-49, -134, 0.0, 0.0], [-49, -131, 0.0, 3.0], [-49, -131, 0.0, 0.0], [-54, -134, -5.0, -3.0]], [[-6, -90, 0.0, 0.0], [-8, -91, -2.0, -1.0], [-8, -91, 0.0, 0.0], [-7, -95, 1.0, -4.0], [-4, -96, 3.0, -1.0], [-1, -96, 3.0, 0.0], [1, -96, 2.0, 0.0], [1, -96, 0.0, 0.0], [-2, -98, -3.0, -2.0], [-2, -95, 0.0, 3.0], [-1, -93, 1.0, 2.0], [-1, -91, 0.0, 2.0], [-1, -91, 0.0, 0.0], [-2, -93, -1.0, -2.0], [-2, -93, 0.0, 0.0], [-2, -93, 0.0, 0.0], [-2, -93, 0.0, 0.0]], [[-8, -85, 0.0, 0.0], [-8, -85, 0.0, 0.0], [-8, -85, 0.0, 0.0], [-8, -85, 0.0, 0.0], [-5, -89, 3.0, -4.0], [-5, -89, 0.0, 0.0], [-5, -89, 0.0, 0.0], [-6, -92, -1.0, -3.0], [-9, -94, -3.0, -2.0], [-9, -94, 0.0, 0.0], [-9, -94, 0.0, 0.0], [-9, -94, 0.0, 0.0], [-9, -94, 0.0, 0.0], [-9, -94, 0.0, 0.0], [-9, -94, 0.0, 0.0], [-11, -98, -2.0, -4.0]], [[-38, -131, 0.0, 0.0], [-43, -134, -5.0, -3.0], [-43, -134, 0.0, 0.0], [-47, -138, -4.0, -4.0], [-47, -138, 0.0, 0.0], [-47, -138, 0.0, 0.0], [-47, -138, 0.0, 0.0], [-47, -138, 0.0, 0.0], [-48, -132, -1.0, 6.0], [-45, -129, 3.0, 3.0], [-45, -129, 0.0, 0.0], [-45, -129, 0.0, 0.0], [-45, -129, 0.0, 0.0]]]\n",
      "trying to build models with 2 -> 15 states\n",
      "model created for VEGETABLE with 2 states. score=-725.7365502608486\n",
      "model created for VEGETABLE with 3 states. score=-929.7986856696343\n",
      "model created for VEGETABLE with 4 states. score=-903.7959535162179\n",
      "model created for VEGETABLE with 5 states. score=-914.1735143805257\n",
      "model created for VEGETABLE with 6 states. score=-903.8584654269921\n",
      "model created for VEGETABLE with 7 states. score=-1095.9514687839276\n",
      "model created for VEGETABLE with 8 states. score=-1282.8849249543896\n",
      "model created for VEGETABLE with 9 states. score=-1283.1710282612967\n",
      "model created for VEGETABLE with 10 states. score=-1289.584571633865\n",
      "model created for VEGETABLE with 11 states. score=-1307.8513084567064\n",
      "model created for VEGETABLE with 12 states. score=-1292.8895105216081\n",
      "model created for VEGETABLE with 13 states. score=-1835.730144293326\n",
      "model created for VEGETABLE with 14 states. score=-1748.0016542443557\n",
      "best model for VEGETABLE has 11 states\n",
      "Training complete for VEGETABLE with 11 states with time 3.2558128850068897 seconds\n",
      "My sequences for FUTURE: [[[-36, -95, -3.0, -1.0], [-31, -95, 5.0, 0.0], [-24, -94, 7.0, 1.0], [-31, -89, -7.0, 5.0], [-35, -86, -4.0, 3.0]], [[-51, -51, 12.0, -2.0], [-43, -58, 8.0, -7.0], [-31, -58, 12.0, 0.0], [-24, -61, 7.0, -3.0], [-18, -64, 6.0, -3.0]], [[-37, -111, -2.0, -8.0], [-34, -114, 3.0, -3.0], [-36, -113, -2.0, 1.0], [-36, -113, 0.0, 0.0], [-36, -113, 0.0, 0.0], [-36, -113, 0.0, 0.0], [-32, -114, 4.0, -1.0], [-29, -108, 3.0, 6.0], [-31, -95, -2.0, 13.0]], [[-14, -89, 0.0, 0.0], [-13, -94, 1.0, -5.0], [-15, -96, -2.0, -2.0], [-15, -96, 0.0, 0.0], [-15, -96, 0.0, 0.0], [-15, -96, 0.0, 0.0]], [[-52, -42, 4.0, -2.0], [-52, -42, 0.0, 0.0], [-44, -51, 8.0, -9.0], [-44, -51, 0.0, 0.0], [-38, -54, 6.0, -3.0], [-35, -60, 3.0, -6.0], [-35, -60, 0.0, 0.0], [-31, -66, 4.0, -6.0], [-35, -72, -4.0, -6.0], [-34, -67, 1.0, 5.0], [-36, -61, -2.0, 6.0]], [[-54, -57, 3.0, -10.0], [-45, -63, 9.0, -6.0], [-42, -64, 3.0, -1.0], [-42, -78, 0.0, -14.0], [-42, -82, 0.0, -4.0], [-43, -92, -1.0, -10.0], [-37, -99, 6.0, -7.0], [-38, -107, -1.0, -8.0], [-36, -115, 2.0, -8.0], [-39, -118, -3.0, -3.0], [-38, -125, 1.0, -7.0], [-34, -122, 4.0, 3.0], [-33, -112, 1.0, 10.0], [-30, -106, 3.0, 6.0], [-30, -100, 0.0, 6.0]], [[-48, -37, 10.0, -14.0], [-39, -52, 9.0, -15.0], [-31, -63, 8.0, -11.0], [-25, -77, 6.0, -14.0]], [[-29, -86, 0.0, -6.0], [-28, -88, 1.0, -2.0], [-21, -96, 7.0, -8.0], [-21, -96, 0.0, 0.0], [-16, -96, 5.0, 0.0], [-13, -94, 3.0, 2.0], [-13, -94, 0.0, 0.0], [-13, -94, 0.0, 0.0]], [[-52, -39, 8.0, -8.0], [-48, -47, 4.0, -8.0], [-45, -64, 3.0, -17.0], [-43, -66, 2.0, -2.0], [-37, -79, 6.0, -13.0], [-37, -87, 0.0, -8.0], [-37, -97, 0.0, -10.0], [-36, -101, 1.0, -4.0], [-40, -105, -4.0, -4.0], [-40, -105, 0.0, 0.0], [-40, -105, 0.0, 0.0], [-40, -105, 0.0, 0.0], [-40, -111, 0.0, -6.0], [-40, -111, 0.0, 0.0], [-45, -101, -5.0, 10.0], [-45, -101, 0.0, 0.0], [-44, -92, 1.0, 9.0], [-44, -92, 0.0, 0.0]], [[-4, -82, -6.0, -19.0], [-11, -90, -7.0, -8.0], [-15, -98, -4.0, -8.0], [-19, -109, -4.0, -11.0], [-21, -115, -2.0, -6.0], [-21, -115, 0.0, 0.0]], [[-36, -59, 13.0, -5.0], [-26, -62, 10.0, -3.0], [-21, -72, 5.0, -10.0], [-19, -80, 2.0, -8.0], [-7, -82, 12.0, -2.0], [-8, -90, -1.0, -8.0], [-2, -95, 6.0, -5.0], [-2, -95, 0.0, 0.0], [-1, -84, 1.0, 11.0], [-1, -84, 0.0, 0.0], [-1, -79, 0.0, 5.0], [-1, -79, 0.0, 0.0]], [[-18, -91, -5.0, -9.0], [-18, -91, 0.0, 0.0], [-18, -91, 0.0, 0.0], [-17, -100, 1.0, -9.0], [-18, -104, -1.0, -4.0], [-22, -109, -4.0, -5.0], [-22, -109, 0.0, 0.0], [-22, -109, 0.0, 0.0], [-25, -120, -3.0, -11.0], [-25, -120, 0.0, 0.0], [-31, -133, -6.0, -13.0], [-36, -133, -5.0, 0.0], [-40, -135, -4.0, -2.0], [-43, -130, -3.0, 5.0]], [[-27, -101, 0.0, -7.0], [-25, -108, 2.0, -7.0], [-26, -114, -1.0, -6.0], [-26, -114, 0.0, 0.0], [-26, -114, 0.0, 0.0], [-29, -124, -3.0, -10.0], [-29, -124, 0.0, 0.0], [-29, -124, 0.0, 0.0], [-29, -124, 0.0, 0.0], [-29, -124, 0.0, 0.0]], [[-31, -115, -2.0, -6.0], [-31, -115, 0.0, 0.0], [-31, -122, 0.0, -7.0], [-31, -122, 0.0, 0.0], [-31, -122, 0.0, 0.0], [-30, -129, 1.0, -7.0], [-24, -132, 6.0, -3.0], [-19, -130, 5.0, 2.0], [-19, -130, 0.0, 0.0], [-16, -125, 3.0, 5.0], [-16, -125, 0.0, 0.0]], [[-34, -116, 5.0, -2.0], [-34, -116, 0.0, 0.0], [-34, -121, 0.0, -5.0], [-34, -121, 0.0, 0.0], [-36, -114, -2.0, 7.0], [-36, -103, 0.0, 11.0], [-44, -100, -8.0, 3.0]]]\n",
      "trying to build models with 2 -> 15 states\n",
      "model created for FUTURE with 2 states. score=-277.42052425643845\n",
      "model created for FUTURE with 3 states. score=-355.50293651626725\n",
      "model created for FUTURE with 4 states. score=-362.5106770411447\n",
      "model created for FUTURE with 5 states. score=-366.0779264271454\n",
      "model created for FUTURE with 6 states. score=-369.6682196281536\n",
      "model created for FUTURE with 7 states. score=-347.47053835813017\n",
      "model created for FUTURE with 8 states. score=-360.8688895173313\n",
      "model created for FUTURE with 9 states. score=-362.2895241762206\n",
      "model created for FUTURE with 10 states. score=-342.0320385836851\n",
      "model created for FUTURE with 11 states. score=-432.99576660246584\n",
      "model created for FUTURE with 12 states. score=-348.309746445177\n",
      "model created for FUTURE with 13 states. score=-385.7635642099855\n",
      "model created for FUTURE with 14 states. score=-472.1390891820747\n",
      "best model for FUTURE has 13 states\n",
      "Training complete for FUTURE with 13 states with time 4.439379176998045 seconds\n",
      "My sequences for JOHN: [[[13, -45, -6.0, -10.0], [10, -59, -3.0, -14.0], [6, -73, -4.0, -14.0], [0, -83, -6.0, -10.0], [-2, -90, -2.0, -7.0], [-5, -93, -3.0, -3.0], [-5, -98, 0.0, -5.0], [-7, -100, -2.0, -2.0], [-8, -99, -1.0, 1.0], [-7, -99, 1.0, 0.0]], [[-34, -109, -1.0, -4.0], [-37, -107, -3.0, 2.0], [-36, -108, 1.0, -1.0], [-35, -106, 1.0, 2.0], [-36, -107, -1.0, -1.0], [-37, -106, -1.0, 1.0], [-39, -106, -2.0, 0.0], [-38, -108, 1.0, -2.0], [-39, -110, -1.0, -2.0], [-36, -106, 3.0, 4.0], [-35, -108, 1.0, -2.0], [-35, -112, 0.0, -4.0]], [[19, -41, -2.0, -16.0], [10, -50, -9.0, -9.0], [9, -65, -1.0, -15.0], [7, -76, -2.0, -11.0], [3, -87, -4.0, -11.0], [5, -87, 2.0, 0.0], [0, -95, -5.0, -8.0], [6, -99, 6.0, -4.0], [-2, -102, -8.0, -3.0], [0, -104, 2.0, -2.0], [-6, -105, -6.0, -1.0], [0, -100, 6.0, 5.0]], [[-4, -91, -2.0, -1.0], [-6, -95, -2.0, -4.0], [-5, -92, 1.0, 3.0], [-6, -94, -1.0, -2.0], [-9, -96, -3.0, -2.0], [-10, -90, -1.0, 6.0], [-11, -90, -1.0, 0.0], [-11, -86, 0.0, 4.0], [-9, -88, 2.0, -2.0], [-9, -86, 0.0, 2.0], [-8, -87, 1.0, -1.0], [-8, -84, 0.0, 3.0], [-10, -87, -2.0, -3.0], [-14, -85, -4.0, 2.0], [-10, -85, 4.0, 0.0], [-11, -85, -1.0, 0.0], [-9, -84, 2.0, 1.0], [-9, -83, 0.0, 1.0], [-7, -83, 2.0, 0.0], [-9, -79, -2.0, 4.0], [-7, -77, 2.0, 2.0], [-2, -73, 5.0, 4.0]], [[-14, -84, 1.0, 2.0], [-19, -82, -5.0, 2.0], [-13, -84, 6.0, -2.0], [-19, -81, -6.0, 3.0], [-19, -82, 0.0, -1.0], [-22, -86, -3.0, -4.0], [-25, -86, -3.0, 0.0], [-30, -92, -5.0, -6.0], [-27, -97, 3.0, -5.0], [-31, -97, -4.0, 0.0], [-34, -101, -3.0, -4.0], [-35, -102, -1.0, -1.0], [-36, -98, -1.0, 4.0], [-37, -98, -1.0, 0.0]], [[-38, -82, -3.0, -17.0], [-44, -95, -6.0, -13.0], [-49, -106, -5.0, -11.0], [-50, -108, -1.0, -2.0], [-57, -113, -7.0, -5.0], [-58, -112, -1.0, 1.0], [-57, -113, 1.0, -1.0], [-60, -115, -3.0, -2.0], [-56, -116, 4.0, -1.0], [-60, -121, -4.0, -5.0], [-60, -121, 0.0, 0.0], [-62, -121, -2.0, 0.0], [-58, -117, 4.0, 4.0], [-58, -118, 0.0, -1.0], [-60, -100, -2.0, 18.0], [-63, -81, -3.0, 19.0]], [[4, -46, -5.0, -11.0], [-1, -57, -5.0, -11.0], [-12, -62, -11.0, -5.0], [-16, -67, -4.0, -5.0], [-24, -68, -8.0, -1.0], [-30, -72, -6.0, -4.0], [-34, -70, -4.0, 2.0], [-38, -60, -4.0, 10.0], [-45, -42, -7.0, 18.0]], [[23, -51, -5.0, -14.0], [15, -63, -8.0, -12.0], [10, -75, -5.0, -12.0], [8, -82, -2.0, -7.0], [6, -91, -2.0, -9.0], [4, -98, -2.0, -7.0], [2, -100, -2.0, -2.0], [3, -100, 1.0, 0.0], [-2, -98, -5.0, 2.0]], [[9, -21, -4.0, -7.0], [8, -31, -1.0, -10.0], [1, -42, -7.0, -11.0], [0, -54, -1.0, -12.0], [-9, -60, -9.0, -6.0], [-18, -69, -9.0, -9.0], [-16, -75, 2.0, -6.0], [-22, -73, -6.0, 2.0], [-28, -69, -6.0, 4.0]], [[-18, -36, -2.0, -17.0], [-28, -53, -10.0, -17.0], [-35, -62, -7.0, -9.0], [-40, -66, -5.0, -4.0], [-42, -73, -2.0, -7.0], [-46, -76, -4.0, -3.0], [-53, -75, -7.0, 1.0]], [[11, -20, 1.0, -8.0], [11, -34, 0.0, -14.0], [3, -46, -8.0, -12.0], [-4, -51, -7.0, -5.0], [-11, -59, -7.0, -8.0], [-17, -65, -6.0, -6.0], [-20, -76, -3.0, -11.0], [-29, -69, -9.0, 7.0]], [[-28, -29, 4.0, -10.0], [-28, -43, 0.0, -14.0], [-33, -53, -5.0, -10.0], [-37, -62, -4.0, -9.0], [-34, -71, 3.0, -9.0], [-36, -80, -2.0, -9.0], [-36, -84, 0.0, -4.0], [-43, -89, -7.0, -5.0], [-39, -96, 4.0, -7.0], [-42, -92, -3.0, 4.0], [-40, -97, 2.0, -5.0], [-37, -93, 3.0, 4.0], [-38, -93, -1.0, 0.0], [-38, -92, 0.0, 1.0]], [[-47, -130, -3.0, -9.0], [-48, -133, -1.0, -3.0], [-52, -135, -4.0, -2.0], [-55, -136, -3.0, -1.0], [-51, -140, 4.0, -4.0], [-52, -139, -1.0, 1.0], [-51, -137, 1.0, 2.0], [-53, -142, -2.0, -5.0], [-50, -137, 3.0, 5.0], [-50, -138, 0.0, -1.0], [-52, -135, -2.0, 3.0], [-51, -133, 1.0, 2.0], [-50, -134, 1.0, -1.0], [-49, -136, 1.0, -2.0], [-52, -133, -3.0, 3.0], [-50, -133, 2.0, 0.0], [-54, -133, -4.0, 0.0], [-49, -131, 5.0, 2.0], [-51, -132, -2.0, -1.0], [-52, -129, -1.0, 3.0], [-52, -133, 0.0, -4.0], [-54, -135, -2.0, -2.0], [-52, -136, 2.0, -1.0], [-54, -130, -2.0, 6.0], [-52, -135, 2.0, -5.0], [-51, -136, 1.0, -1.0], [-51, -135, 0.0, 1.0]], [[18, -38, -5.0, -10.0], [15, -51, -3.0, -13.0], [11, -62, -4.0, -11.0], [6, -71, -5.0, -9.0], [3, -80, -3.0, -9.0], [1, -89, -2.0, -9.0]], [[11, -34, -2.0, -12.0], [11, -48, 0.0, -14.0], [1, -60, -10.0, -12.0], [-3, -69, -4.0, -9.0], [-1, -79, 2.0, -10.0]], [[6, -35, -1.0, -13.0], [0, -43, -6.0, -8.0], [-3, -53, -3.0, -10.0], [-9, -64, -6.0, -11.0], [-13, -71, -4.0, -7.0], [-15, -77, -2.0, -6.0], [-17, -83, -2.0, -6.0], [-18, -85, -1.0, -2.0], [-18, -85, 0.0, 0.0], [-18, -85, 0.0, 0.0], [-18, -85, 0.0, 0.0], [-18, -85, 0.0, 0.0], [-18, -85, 0.0, 0.0], [-18, -85, 0.0, 0.0], [-25, -75, -7.0, 10.0]], [[-11, -30, -2.0, -12.0], [-15, -39, -4.0, -9.0], [-21, -52, -6.0, -13.0], [-25, -60, -4.0, -8.0], [-25, -66, 0.0, -6.0], [-27, -74, -2.0, -8.0], [-30, -77, -3.0, -3.0], [-33, -83, -3.0, -6.0], [-33, -83, 0.0, 0.0], [-33, -83, 0.0, 0.0], [-33, -83, 0.0, 0.0], [-33, -83, 0.0, 0.0], [-33, -83, 0.0, 0.0], [-33, -83, 0.0, 0.0], [-33, -83, 0.0, 0.0], [-33, -83, 0.0, 0.0], [-33, -83, 0.0, 0.0], [-29, -80, 4.0, 3.0]], [[1, -41, 2.0, -7.0], [1, -50, 0.0, -9.0], [-3, -57, -4.0, -7.0], [-6, -66, -3.0, -9.0], [-4, -74, 2.0, -8.0], [-7, -78, -3.0, -4.0], [-11, -84, -4.0, -6.0], [-11, -84, 0.0, 0.0], [-11, -84, 0.0, 0.0]], [[1, -20, 0.0, -5.0], [1, -20, 0.0, 0.0], [-8, -37, -9.0, -17.0], [-9, -45, -1.0, -8.0], [-15, -54, -6.0, -9.0], [-18, -59, -3.0, -5.0], [-22, -63, -4.0, -4.0], [-23, -70, -1.0, -7.0]], [[-12, -20, -2.0, -4.0], [-14, -31, -2.0, -11.0], [-14, -40, 0.0, -9.0], [-14, -53, 0.0, -13.0], [-18, -64, -4.0, -11.0], [-23, -67, -5.0, -3.0], [-28, -72, -5.0, -5.0], [-28, -72, 0.0, 0.0]], [[-50, -79, -3.0, -11.0], [-53, -90, -3.0, -11.0], [-55, -95, -2.0, -5.0], [-55, -95, 0.0, 0.0], [-55, -95, 0.0, 0.0], [-55, -95, 0.0, 0.0], [-55, -95, 0.0, 0.0], [-55, -95, 0.0, 0.0], [-55, -95, 0.0, 0.0], [-55, -95, 0.0, 0.0]], [[-57, -96, -1.0, -8.0], [-59, -104, -2.0, -8.0], [-59, -111, 0.0, -7.0], [-59, -114, 0.0, -3.0], [-59, -114, 0.0, 0.0], [-59, -114, 0.0, 0.0], [-59, -114, 0.0, 0.0], [-59, -114, 0.0, 0.0], [-59, -114, 0.0, 0.0], [-59, -114, 0.0, 0.0], [-59, -114, 0.0, 0.0], [-59, -114, 0.0, 0.0], [-59, -114, 0.0, 0.0], [-59, -114, 0.0, 0.0], [-59, -114, 0.0, 0.0], [-59, -114, 0.0, 0.0], [-58, -124, 1.0, -10.0]], [[-28, -36, 1.0, -7.0], [-32, -46, -4.0, -10.0], [-35, -50, -3.0, -4.0], [-36, -61, -1.0, -11.0], [-39, -67, -3.0, -6.0], [-40, -70, -1.0, -3.0], [-44, -75, -4.0, -5.0], [-47, -81, -3.0, -6.0], [-47, -82, 0.0, -1.0], [-47, -86, 0.0, -4.0]], [[-29, -30, -4.0, -9.0], [-28, -35, 1.0, -5.0], [-26, -44, 2.0, -9.0], [-30, -52, -4.0, -8.0], [-29, -60, 1.0, -8.0], [-31, -72, -2.0, -12.0]], [[-32, -36, -1.0, -16.0], [-38, -48, -6.0, -12.0], [-37, -64, 1.0, -16.0], [-37, -82, 0.0, -18.0], [-40, -89, -3.0, -7.0], [-37, -97, 3.0, -8.0], [-38, -101, -1.0, -4.0], [-38, -109, 0.0, -8.0], [-38, -109, 0.0, 0.0]], [[-53, -90, -6.0, -21.0], [-60, -103, -7.0, -13.0], [-64, -115, -4.0, -12.0], [-70, -121, -6.0, -6.0], [-67, -129, 3.0, -8.0], [-70, -134, -3.0, -5.0], [-70, -134, 0.0, 0.0], [-70, -134, 0.0, 0.0], [-70, -134, 0.0, 0.0], [-65, -139, 5.0, -5.0], [-65, -139, 0.0, 0.0], [-65, -139, 0.0, 0.0], [-65, -139, 0.0, 0.0], [-65, -139, 0.0, 0.0], [-65, -139, 0.0, 0.0]], [[-16, -70, -3.0, -13.0], [-18, -81, -2.0, -11.0], [-22, -91, -4.0, -10.0], [-24, -97, -2.0, -6.0], [-25, -104, -1.0, -7.0], [-24, -109, 1.0, -5.0], [-24, -109, 0.0, 0.0]], [[7, -43, -2.0, -11.0], [2, -58, -5.0, -15.0], [-2, -68, -4.0, -10.0], [-5, -79, -3.0, -11.0], [-9, -91, -4.0, -12.0], [-10, -95, -1.0, -4.0], [-10, -98, 0.0, -3.0], [-14, -100, -4.0, -2.0], [-14, -100, 0.0, 0.0], [-14, -100, 0.0, 0.0]], [[-30, -43, -2.0, -14.0], [-30, -63, 0.0, -20.0], [-29, -74, 1.0, -11.0], [-30, -86, -1.0, -12.0], [-36, -94, -6.0, -8.0], [-35, -99, 1.0, -5.0], [-35, -103, 0.0, -4.0]], [[8, -33, -3.0, -12.0], [4, -45, -4.0, -12.0], [2, -59, -2.0, -14.0], [-5, -70, -7.0, -11.0], [-11, -76, -6.0, -6.0], [-14, -82, -3.0, -6.0]], [[9, -23, 1.0, -10.0], [3, -35, -6.0, -12.0], [0, -46, -3.0, -11.0], [-3, -61, -3.0, -15.0], [-7, -68, -4.0, -7.0]], [[-26, -37, -2.0, -15.0], [-27, -51, -1.0, -14.0], [-30, -65, -3.0, -14.0], [-40, -81, -10.0, -16.0], [-40, -91, 0.0, -10.0]], [[17, -31, 0.0, -13.0], [13, -43, -4.0, -12.0], [10, -61, -3.0, -18.0], [2, -71, -8.0, -10.0], [-2, -81, -4.0, -10.0], [-6, -83, -4.0, -2.0], [-6, -91, 0.0, -8.0], [-7, -94, -1.0, -3.0]], [[14, -47, -4.0, -13.0], [10, -58, -4.0, -11.0], [7, -66, -3.0, -8.0], [2, -74, -5.0, -8.0], [-1, -80, -3.0, -6.0], [-5, -83, -4.0, -3.0]], [[3, -18, -4.0, -9.0], [1, -28, -2.0, -10.0], [-2, -39, -3.0, -11.0], [-11, -51, -9.0, -12.0], [-16, -59, -5.0, -8.0], [-19, -65, -3.0, -6.0], [-23, -72, -4.0, -7.0], [-27, -76, -4.0, -4.0], [-28, -81, -1.0, -5.0]], [[8, -19, 4.0, -5.0], [1, -32, -7.0, -13.0], [-2, -43, -3.0, -11.0], [-7, -57, -5.0, -14.0], [-15, -65, -8.0, -8.0], [-18, -74, -3.0, -9.0], [-19, -77, -1.0, -3.0], [-20, -80, -1.0, -3.0], [-20, -86, 0.0, -6.0]], [[-25, -36, -2.0, -13.0], [-33, -50, -8.0, -14.0], [-35, -64, -2.0, -14.0], [-36, -78, -1.0, -14.0], [-38, -88, -2.0, -10.0], [-36, -93, 2.0, -5.0], [-29, -99, 7.0, -6.0], [-29, -103, 0.0, -4.0]], [[-23, -29, -2.0, -10.0], [-25, -46, -2.0, -17.0], [-24, -58, 1.0, -12.0], [-30, -66, -6.0, -8.0], [-31, -78, -1.0, -12.0], [-35, -87, -4.0, -9.0], [-38, -95, -3.0, -8.0]], [[-40, -24, 2.0, -16.0], [-41, -41, -1.0, -17.0], [-47, -58, -6.0, -17.0], [-49, -69, -2.0, -11.0], [-58, -79, -9.0, -10.0], [-58, -79, 0.0, 0.0], [-58, -79, 0.0, 0.0], [-60, -94, -2.0, -15.0], [-60, -94, 0.0, 0.0], [-60, -94, 0.0, 0.0], [-62, -100, -2.0, -6.0], [-56, -92, 6.0, 8.0]], [[-50, -54, -2.0, -22.0], [-53, -73, -3.0, -19.0], [-55, -85, -2.0, -12.0], [-57, -101, -2.0, -16.0], [-52, -111, 5.0, -10.0], [-57, -118, -5.0, -7.0], [-59, -125, -2.0, -7.0], [-57, -132, 2.0, -7.0], [-57, -132, 0.0, 0.0], [-57, -132, 0.0, 0.0], [-57, -132, 0.0, 0.0], [-57, -132, 0.0, 0.0], [-57, -138, 0.0, -6.0], [-64, -139, -7.0, -1.0], [-60, -137, 4.0, 2.0], [-60, -137, 0.0, 0.0], [-60, -137, 0.0, 0.0], [-60, -137, 0.0, 0.0], [-60, -137, 0.0, 0.0], [-60, -137, 0.0, 0.0], [-60, -137, 0.0, 0.0], [-60, -137, 0.0, 0.0], [-60, -137, 0.0, 0.0], [-60, -137, 0.0, 0.0], [-60, -137, 0.0, 0.0], [-60, -137, 0.0, 0.0]], [[-4, -28, -2.0, -14.0], [-9, -43, -5.0, -15.0], [-13, -60, -4.0, -17.0], [-19, -70, -6.0, -10.0], [-26, -71, -7.0, -1.0]], [[-1, -35, -5.0, -8.0], [-3, -45, -2.0, -10.0], [-10, -59, -7.0, -14.0], [-14, -70, -4.0, -11.0], [-16, -79, -2.0, -9.0], [-23, -83, -7.0, -4.0]], [[0, -24, -3.0, -5.0], [-4, -39, -4.0, -15.0], [-8, -52, -4.0, -13.0], [-9, -66, -1.0, -14.0], [-14, -74, -5.0, -8.0]], [[1, -32, -3.0, -15.0], [-6, -44, -7.0, -12.0], [-11, -59, -5.0, -15.0], [-15, -73, -4.0, -14.0], [-22, -77, -7.0, -4.0], [-24, -85, -2.0, -8.0], [-24, -89, 0.0, -4.0]], [[-21, -115, 0.0, 0.0], [-21, -115, 0.0, 0.0], [-23, -103, -2.0, 12.0], [-23, -103, 0.0, 0.0], [-18, -102, 5.0, 1.0], [-18, -102, 0.0, 0.0], [-18, -102, 0.0, 0.0], [-19, -99, -1.0, 3.0], [-23, -91, -4.0, 8.0]], [[4, -32, -2.0, -8.0], [-2, -45, -6.0, -13.0], [-5, -61, -3.0, -16.0], [-9, -72, -4.0, -11.0], [-14, -83, -5.0, -11.0], [-17, -90, -3.0, -7.0], [-19, -96, -2.0, -6.0], [-22, -100, -3.0, -4.0], [-22, -100, 0.0, 0.0], [-22, -100, 0.0, 0.0]], [[-36, -13, 0.0, 0.0], [-42, -7, -6.0, 6.0], [-48, -11, -6.0, -4.0], [-49, -21, -1.0, -10.0], [-52, -27, -3.0, -6.0], [-53, -35, -1.0, -8.0], [-58, -44, -5.0, -9.0], [-58, -44, 0.0, 0.0], [-58, -44, 0.0, 0.0]], [[4, -33, -4.0, -12.0], [-3, -47, -7.0, -14.0], [-10, -55, -7.0, -8.0], [-12, -65, -2.0, -10.0], [-19, -73, -7.0, -8.0], [-21, -80, -2.0, -7.0], [-16, -76, 5.0, 4.0]], [[-38, -43, 0.0, 0.0], [-38, -43, 0.0, 0.0], [-33, -46, 5.0, -3.0], [-33, -46, 0.0, 0.0], [-30, -50, 3.0, -4.0], [-30, -50, 0.0, 0.0], [-30, -50, 0.0, 0.0], [-30, -50, 0.0, 0.0], [-30, -50, 0.0, 0.0], [-34, -51, -4.0, -1.0], [-34, -51, 0.0, 0.0]], [[-17, -37, -2.0, -13.0], [-13, -51, 4.0, -14.0], [-16, -66, -3.0, -15.0], [-20, -77, -4.0, -11.0], [-24, -83, -4.0, -6.0], [-26, -93, -2.0, -10.0], [-25, -102, 1.0, -9.0], [-31, -107, -6.0, -5.0]], [[-23, -25, -4.0, -7.0], [-23, -41, 0.0, -16.0], [-27, -51, -4.0, -10.0], [-24, -67, 3.0, -16.0], [-29, -76, -5.0, -9.0], [-29, -87, 0.0, -11.0], [-35, -94, -6.0, -7.0], [-38, -102, -3.0, -8.0], [-38, -107, 0.0, -5.0]], [[-24, -32, 3.0, -9.0], [-24, -50, 0.0, -18.0], [-30, -65, -6.0, -15.0], [-28, -84, 2.0, -19.0], [-35, -93, -7.0, -9.0], [-36, -104, -1.0, -11.0], [-37, -107, -1.0, -3.0], [-37, -107, 0.0, 0.0], [-37, -116, 0.0, -9.0]], [[-39, -116, -3.0, -1.0], [-41, -119, -2.0, -3.0], [-41, -119, 0.0, 0.0], [-46, -122, -5.0, -3.0], [-46, -122, 0.0, 0.0], [-49, -126, -3.0, -4.0], [-51, -128, -2.0, -2.0], [-51, -128, 0.0, 0.0], [-51, -128, 0.0, 0.0], [-51, -128, 0.0, 0.0], [-51, -128, 0.0, 0.0], [-51, -128, 0.0, 0.0]], [[-29, -22, -2.0, -11.0], [-24, -32, 5.0, -10.0], [-25, -42, -1.0, -10.0], [-23, -55, 2.0, -13.0], [-23, -73, 0.0, -18.0], [-24, -79, -1.0, -6.0], [-27, -94, -3.0, -15.0], [-27, -101, 0.0, -7.0]], [[-15, -33, 5.0, -11.0], [-16, -47, -1.0, -14.0], [-18, -65, -2.0, -18.0], [-20, -76, -2.0, -11.0], [-24, -85, -4.0, -9.0], [-27, -93, -3.0, -8.0], [-29, -104, -2.0, -11.0], [-29, -109, 0.0, -5.0], [-31, -115, -2.0, -6.0]], [[-21, -44, -2.0, -17.0], [-18, -62, 3.0, -18.0], [-25, -75, -7.0, -13.0], [-28, -89, -3.0, -14.0], [-32, -102, -4.0, -13.0], [-37, -113, -5.0, -11.0], [-38, -119, -1.0, -6.0], [-42, -120, -4.0, -1.0]], [[-22, -26, 0.0, -10.0], [-22, -36, 0.0, -10.0], [-28, -55, -6.0, -19.0], [-28, -70, 0.0, -15.0], [-27, -81, 1.0, -11.0], [-36, -93, -9.0, -12.0], [-37, -101, -1.0, -8.0], [-38, -105, -1.0, -4.0], [-38, -105, 0.0, 0.0], [-39, -114, -1.0, -9.0], [-39, -114, 0.0, 0.0], [-39, -114, 0.0, 0.0], [-39, -114, 0.0, 0.0], [-39, -114, 0.0, 0.0], [-39, -114, 0.0, 0.0]], [[-22, -24, -1.0, -11.0], [-32, -36, -10.0, -12.0], [-33, -55, -1.0, -19.0], [-36, -74, -3.0, -19.0], [-41, -81, -5.0, -7.0], [-42, -92, -1.0, -11.0], [-42, -92, 0.0, 0.0]], [[7, -27, -1.0, -9.0], [2, -38, -5.0, -11.0], [-1, -48, -3.0, -10.0], [-9, -61, -8.0, -13.0], [-7, -72, 2.0, -11.0], [-15, -81, -8.0, -9.0], [-19, -81, -4.0, 0.0], [-22, -86, -3.0, -5.0]], [[15, -30, -3.0, -13.0], [11, -43, -4.0, -13.0], [3, -55, -8.0, -12.0], [1, -68, -2.0, -13.0], [-8, -81, -9.0, -13.0], [-13, -95, -5.0, -14.0], [-18, -102, -5.0, -7.0], [-18, -102, 0.0, 0.0], [-15, -113, 3.0, -11.0]], [[-33, -34, 0.0, -13.0], [-28, -45, 5.0, -11.0], [-30, -57, -2.0, -12.0], [-34, -72, -4.0, -15.0], [-35, -80, -1.0, -8.0], [-33, -92, 2.0, -12.0], [-34, -103, -1.0, -11.0], [-36, -108, -2.0, -5.0], [-35, -109, 1.0, -1.0], [-35, -111, 0.0, -2.0], [-32, -118, 3.0, -7.0], [-32, -118, 0.0, 0.0], [-36, -123, -4.0, -5.0]], [[-28, -35, -2.0, -13.0], [-31, -50, -3.0, -15.0], [-30, -63, 1.0, -13.0], [-30, -75, 0.0, -12.0], [-32, -88, -2.0, -13.0], [-34, -97, -2.0, -9.0], [-34, -102, 0.0, -5.0], [-33, -111, 1.0, -9.0], [-34, -117, -1.0, -6.0], [-34, -117, 0.0, 0.0], [-34, -117, 0.0, 0.0], [-34, -117, 0.0, 0.0]], [[-28, -39, -10.0, -18.0], [-35, -53, -7.0, -14.0], [-34, -74, 1.0, -21.0], [-34, -82, 0.0, -8.0], [-33, -97, 1.0, -15.0], [-36, -103, -3.0, -6.0]], [[-55, -127, -4.0, -7.0], [-55, -127, 0.0, 0.0], [-55, -131, 0.0, -4.0], [-58, -135, -3.0, -4.0], [-58, -135, 0.0, 0.0], [-55, -139, 3.0, -4.0], [-55, -139, 0.0, 0.0], [-55, -139, 0.0, 0.0], [-53, -140, 2.0, -1.0], [-53, -145, 0.0, -5.0], [-53, -145, 0.0, 0.0], [-53, -145, 0.0, 0.0], [-53, -145, 0.0, 0.0], [-53, -145, 0.0, 0.0], [-53, -145, 0.0, 0.0], [-53, -145, 0.0, 0.0], [-53, -145, 0.0, 0.0], [-52, -141, 1.0, 4.0], [-52, -141, 0.0, 0.0], [-52, -141, 0.0, 0.0], [-52, -141, 0.0, 0.0], [-50, -142, 2.0, -1.0], [-50, -142, 0.0, 0.0], [-50, -142, 0.0, 0.0]], [[-26, -33, 1.0, -14.0], [-25, -49, 1.0, -16.0], [-25, -68, 0.0, -19.0], [-26, -84, -1.0, -16.0], [-27, -95, -1.0, -11.0], [-31, -101, -4.0, -6.0], [-30, -110, 1.0, -9.0], [-29, -110, 1.0, 0.0], [-29, -117, 0.0, -7.0], [-29, -117, 0.0, 0.0], [-29, -117, 0.0, 0.0], [-29, -117, 0.0, 0.0]], [[-31, -20, -3.0, -10.0], [-34, -34, -3.0, -14.0], [-38, -52, -4.0, -18.0], [-36, -70, 2.0, -18.0], [-41, -86, -5.0, -16.0], [-39, -100, 2.0, -14.0], [-43, -105, -4.0, -5.0], [-43, -105, 0.0, 0.0], [-44, -110, -1.0, -5.0], [-39, -112, 5.0, -2.0]], [[11, -35, -2.0, -10.0], [8, -44, -3.0, -9.0], [5, -56, -3.0, -12.0], [-1, -66, -6.0, -10.0], [-5, -78, -4.0, -12.0], [-7, -87, -2.0, -9.0], [-11, -93, -4.0, -6.0], [-11, -93, 0.0, 0.0], [-11, -93, 0.0, 0.0]], [[13, -48, -1.0, -11.0], [9, -60, -4.0, -12.0], [5, -74, -4.0, -14.0], [3, -81, -2.0, -7.0], [1, -92, -2.0, -11.0], [-1, -98, -2.0, -6.0], [-4, -99, -3.0, -1.0], [-4, -99, 0.0, 0.0], [-4, -99, 0.0, 0.0]], [[-55, -109, -6.0, -16.0], [-56, -116, -1.0, -7.0], [-61, -122, -5.0, -6.0], [-66, -127, -5.0, -5.0], [-67, -129, -1.0, -2.0], [-66, -132, 1.0, -3.0], [-66, -132, 0.0, 0.0], [-61, -129, 5.0, 3.0], [-61, -129, 0.0, 0.0], [-59, -134, 2.0, -5.0], [-59, -134, 0.0, 0.0], [-59, -127, 0.0, 7.0], [-59, -124, 0.0, 3.0], [-60, -119, -1.0, 5.0], [-60, -115, 0.0, 4.0], [-60, -115, 0.0, 0.0], [-61, -113, -1.0, 2.0]], [[-49, -131, -7.0, -131.0], [-49, -131, 0.0, 0.0], [-49, -131, 0.0, 0.0], [-49, -131, 0.0, 0.0], [-51, -132, -2.0, -1.0], [-51, -132, 0.0, 0.0], [-51, -132, 0.0, 0.0], [-51, -132, 0.0, 0.0], [-51, -132, 0.0, 0.0], [-51, -132, 0.0, 0.0], [-51, -132, 0.0, 0.0], [-51, -132, 0.0, 0.0], [-51, -132, 0.0, 0.0], [-51, -132, 0.0, 0.0], [-51, -132, 0.0, 0.0]], [[-31, -53, -3.0, -11.0], [-32, -70, -1.0, -17.0], [-33, -86, -1.0, -16.0], [-34, -95, -1.0, -9.0], [-34, -105, 0.0, -10.0], [-39, -111, -5.0, -6.0], [-35, -114, 4.0, -3.0], [-38, -119, -3.0, -5.0], [-38, -119, 0.0, 0.0], [-38, -119, 0.0, 0.0], [-38, -119, 0.0, 0.0], [-36, -113, 2.0, 6.0], [-37, -103, -1.0, 10.0]], [[22, -49, -4.0, -16.0], [16, -63, -6.0, -14.0], [11, -72, -5.0, -9.0], [5, -80, -6.0, -8.0], [2, -88, -3.0, -8.0], [6, -90, 4.0, -2.0], [2, -95, -4.0, -5.0], [1, -98, -1.0, -3.0]], [[-53, -105, -1.0, -9.0], [-57, -114, -4.0, -9.0], [-54, -116, 3.0, -2.0], [-57, -121, -3.0, -5.0], [-58, -125, -1.0, -4.0], [-57, -127, 1.0, -2.0], [-53, -129, 4.0, -2.0], [-56, -130, -3.0, -1.0], [-56, -130, 0.0, 0.0], [-54, -137, 2.0, -7.0]], [[-38, -81, 2.0, -6.0], [-32, -84, 6.0, -3.0], [-32, -84, 0.0, 0.0], [-32, -84, 0.0, 0.0], [-26, -95, 6.0, -11.0], [-26, -95, 0.0, 0.0], [-26, -95, 0.0, 0.0], [-24, -97, 2.0, -2.0]], [[-52, -74, -2.0, -15.0], [-52, -74, 0.0, 0.0], [-61, -93, -9.0, -19.0], [-60, -99, 1.0, -6.0], [-59, -101, 1.0, -2.0], [-59, -103, 0.0, -2.0], [-59, -103, 0.0, 0.0], [-59, -103, 0.0, 0.0], [-62, -97, -3.0, 6.0], [-62, -97, 0.0, 0.0], [-62, -97, 0.0, 0.0], [-59, -93, 3.0, 4.0], [-59, -93, 0.0, 0.0]], [[-42, -91, -2.0, -17.0], [-47, -100, -5.0, -9.0], [-50, -110, -3.0, -10.0], [-55, -115, -5.0, -5.0], [-57, -119, -2.0, -4.0], [-57, -119, 0.0, 0.0], [-58, -121, -1.0, -2.0], [-59, -122, -1.0, -1.0], [-59, -122, 0.0, 0.0], [-59, -119, 0.0, 3.0], [-59, -117, 0.0, 2.0], [-59, -113, 0.0, 4.0], [-59, -110, 0.0, 3.0], [-58, -106, 1.0, 4.0], [-58, -103, 0.0, 3.0], [-56, -99, 2.0, 4.0], [-56, -99, 0.0, 0.0]], [[-118, -32, -1.0, -6.0], [-116, -34, 2.0, -2.0], [-118, -35, -2.0, -1.0], [-118, -35, 0.0, 0.0], [-118, -35, 0.0, 0.0], [-118, -35, 0.0, 0.0], [-118, -35, 0.0, 0.0], [-112, -34, 6.0, 1.0], [-108, -30, 4.0, 4.0]], [[-53, -51, 9.0, -7.0], [-49, -53, 4.0, -2.0], [-51, -51, -2.0, 2.0], [-48, -53, 3.0, -2.0], [-42, -63, 6.0, -10.0], [-42, -63, 0.0, 0.0], [-42, -63, 0.0, 0.0], [-40, -65, 2.0, -2.0]], [[-60, -47, 0.0, 0.0], [-60, -47, 0.0, 0.0], [-51, -56, 9.0, -9.0], [-44, -60, 7.0, -4.0], [-44, -60, 0.0, 0.0], [-44, -60, 0.0, 0.0], [-40, -68, 4.0, -8.0], [-40, -68, 0.0, 0.0], [-40, -68, 0.0, 0.0]], [[-44, -23, -3.0, -13.0], [-44, -43, 0.0, -20.0], [-47, -60, -3.0, -17.0], [-53, -73, -6.0, -13.0], [-57, -81, -4.0, -8.0], [-63, -89, -6.0, -8.0], [-65, -92, -2.0, -3.0], [-63, -82, 2.0, 10.0]], [[8, -23, 0.0, -3.0], [4, -35, -4.0, -12.0], [2, -45, -2.0, -10.0], [-1, -53, -3.0, -8.0], [-5, -66, -4.0, -13.0], [-7, -73, -2.0, -7.0]], [[20, -47, -7.0, -15.0], [15, -60, -5.0, -13.0], [11, -70, -4.0, -10.0], [6, -67, -5.0, 3.0], [5, -76, -1.0, -9.0]], [[6, -41, -6.0, -5.0], [2, -59, -4.0, -18.0], [-1, -70, -3.0, -11.0], [-1, -74, 0.0, -4.0], [-4, -81, -3.0, -7.0], [-4, -87, 0.0, -6.0], [-8, -94, -4.0, -7.0]], [[-24, -86, 0.0, 0.0], [-26, -90, -2.0, -4.0], [-26, -90, 0.0, 0.0], [-26, -90, 0.0, 0.0], [-26, -90, 0.0, 0.0], [-26, -90, 0.0, 0.0], [-26, -90, 0.0, 0.0]], [[-65, -77, -7.0, -12.0], [-69, -90, -4.0, -13.0], [-71, -98, -2.0, -8.0], [-71, -102, 0.0, -4.0], [-72, -109, -1.0, -7.0], [-73, -115, -1.0, -6.0], [-75, -119, -2.0, -4.0], [-59, -124, 16.0, -5.0], [-59, -124, 0.0, 0.0], [-56, -113, 3.0, 11.0]], [[-49, -140, 0.0, 0.0], [-49, -140, 0.0, 0.0], [-56, -140, -7.0, 0.0], [-56, -140, 0.0, 0.0], [-56, -140, 0.0, 0.0], [-56, -140, 0.0, 0.0], [-56, -140, 0.0, 0.0], [-56, -140, 0.0, 0.0], [-59, -132, -3.0, 8.0], [-59, -132, 0.0, 0.0], [-59, -132, 0.0, 0.0]], [[14, -41, -4.0, -13.0], [6, -55, -8.0, -14.0], [1, -66, -5.0, -11.0], [1, -77, 0.0, -11.0], [-3, -82, -4.0, -5.0], [-6, -91, -3.0, -9.0], [-6, -91, 0.0, 0.0], [-12, -96, -6.0, -5.0], [-12, -96, 0.0, 0.0]], [[12, -34, -5.0, -12.0], [8, -49, -4.0, -15.0], [6, -64, -2.0, -15.0], [3, -79, -3.0, -15.0], [0, -90, -3.0, -11.0], [-4, -99, -4.0, -9.0], [-7, -102, -3.0, -3.0]], [[-46, -73, -2.0, -23.0], [-52, -88, -6.0, -15.0], [-55, -102, -3.0, -14.0], [-59, -109, -4.0, -7.0], [-63, -117, -4.0, -8.0], [-65, -122, -2.0, -5.0], [-68, -128, -3.0, -6.0], [-64, -128, 4.0, 0.0]], [[-40, -48, 1.0, -22.0], [-46, -74, -6.0, -26.0], [-58, -86, -12.0, -12.0], [-61, -100, -3.0, -14.0], [-69, -109, -8.0, -9.0], [-71, -117, -2.0, -8.0], [-68, -122, 3.0, -5.0], [-70, -123, -2.0, -1.0], [-68, -124, 2.0, -1.0], [-68, -124, 0.0, 0.0], [-68, -124, 0.0, 0.0], [-72, -129, -4.0, -5.0], [-72, -129, 0.0, 0.0], [-72, -129, 0.0, 0.0]], [[8, -57, -4.0, -15.0], [2, -70, -6.0, -13.0], [-4, -83, -6.0, -13.0], [-6, -92, -2.0, -9.0], [-8, -97, -2.0, -5.0], [-6, -104, 2.0, -7.0], [-7, -107, -1.0, -3.0]], [[-47, -49, -2.0, -18.0], [-52, -69, -5.0, -20.0], [-61, -86, -9.0, -17.0], [-63, -93, -2.0, -7.0], [-67, -103, -4.0, -10.0], [-66, -109, 1.0, -6.0], [-66, -109, 0.0, 0.0], [-66, -109, 0.0, 0.0], [-66, -109, 0.0, 0.0], [-68, -113, -2.0, -4.0], [-68, -113, 0.0, 0.0], [-68, -113, 0.0, 0.0]], [[-3, -59, -9.0, -24.0], [-17, -84, -14.0, -25.0], [-27, -107, -10.0, -23.0], [-32, -123, -5.0, -16.0], [-43, -130, -11.0, -7.0], [-43, -130, 0.0, 0.0], [-43, -130, 0.0, 0.0], [-43, -130, 0.0, 0.0]], [[5, -55, -8.0, -18.0], [-3, -67, -8.0, -12.0], [-9, -79, -6.0, -12.0], [-11, -84, -2.0, -5.0], [-16, -89, -5.0, -5.0], [-14, -90, 2.0, -1.0], [-10, -90, 4.0, 0.0], [-7, -92, 3.0, -2.0], [-3, -87, 4.0, 5.0], [-3, -87, 0.0, 0.0]], [[-29, -92, -2.0, 3.0], [-30, -93, -1.0, -1.0], [-34, -93, -4.0, 0.0], [-32, -89, 2.0, 4.0], [-32, -89, 0.0, 0.0], [-29, -81, 3.0, 8.0]], [[-63, -51, 2.0, -3.0], [-63, -51, 0.0, 0.0], [-51, -56, 12.0, -5.0], [-51, -56, 0.0, 0.0], [-45, -64, 6.0, -8.0]], [[-50, -72, -1.0, -18.0], [-54, -87, -4.0, -15.0], [-59, -97, -5.0, -10.0], [-61, -104, -2.0, -7.0], [-61, -104, 0.0, 0.0], [-61, -104, 0.0, 0.0], [-61, -104, 0.0, 0.0], [-61, -104, 0.0, 0.0], [-61, -104, 0.0, 0.0], [-61, -104, 0.0, 0.0], [-61, -104, 0.0, 0.0], [-61, -104, 0.0, 0.0]], [[-42, -35, 2.0, -16.0], [-48, -54, -6.0, -19.0], [-50, -67, -2.0, -13.0], [-55, -79, -5.0, -12.0], [-59, -86, -4.0, -7.0], [-60, -94, -1.0, -8.0], [-59, -99, 1.0, -5.0], [-58, -103, 1.0, -4.0], [-58, -103, 0.0, 0.0], [-59, -105, -1.0, -2.0], [-59, -105, 0.0, 0.0], [-58, -110, 1.0, -5.0], [-58, -113, 0.0, -3.0], [-57, -115, 1.0, -2.0], [-57, -115, 0.0, 0.0], [-57, -115, 0.0, 0.0], [-57, -115, 0.0, 0.0], [-57, -115, 0.0, 0.0]], [[-51, -131, 1.0, -2.0], [-56, -132, -5.0, -1.0], [-61, -130, -5.0, 2.0], [-59, -127, 2.0, 3.0], [-60, -127, -1.0, 0.0], [-61, -126, -1.0, 1.0], [-61, -126, 0.0, 0.0], [-61, -126, 0.0, 0.0], [-55, -122, 6.0, 4.0], [-55, -119, 0.0, 3.0], [-48, -112, 7.0, 7.0]], [[-52, -88, 0.0, -13.0], [-54, -103, -2.0, -15.0], [-55, -108, -1.0, -5.0], [-59, -113, -4.0, -5.0], [-59, -113, 0.0, 0.0], [-59, -117, 0.0, -4.0], [-55, -120, 4.0, -3.0], [-55, -120, 0.0, 0.0], [-55, -120, 0.0, 0.0], [-55, -120, 0.0, 0.0], [-55, -120, 0.0, 0.0], [-55, -120, 0.0, 0.0], [-55, -120, 0.0, 0.0], [-57, -119, -2.0, 1.0], [-55, -120, 2.0, -1.0]], [[-98, -103, 3.0, -8.0], [-101, -109, -3.0, -6.0], [-96, -112, 5.0, -3.0], [-95, -116, 1.0, -4.0], [-93, -123, 2.0, -7.0], [-93, -123, 0.0, 0.0], [-93, -123, 0.0, 0.0], [-93, -123, 0.0, 0.0], [-93, -123, 0.0, 0.0], [-93, -123, 0.0, 0.0], [-93, -123, 0.0, 0.0], [-99, -130, -6.0, -7.0], [-99, -130, 0.0, 0.0], [-94, -130, 5.0, 0.0], [-94, -130, 0.0, 0.0], [-94, -130, 0.0, 0.0], [-91, -127, 3.0, 3.0], [-91, -127, 0.0, 0.0], [-91, -124, 0.0, 3.0], [-91, -124, 0.0, 0.0], [-89, -119, 2.0, 5.0], [-89, -119, 0.0, 0.0], [-89, -119, 0.0, 0.0], [-89, -119, 0.0, 0.0]], [[-52, -84, -1.0, -17.0], [-59, -95, -7.0, -11.0], [-61, -102, -2.0, -7.0], [-67, -111, -6.0, -9.0], [-67, -111, 0.0, 0.0], [-68, -116, -1.0, -5.0], [-68, -116, 0.0, 0.0], [-68, -116, 0.0, 0.0], [-68, -116, 0.0, 0.0], [-71, -121, -3.0, -5.0], [-71, -121, 0.0, 0.0], [-75, -121, -4.0, 0.0]], [[-69, -101, -2.0, -13.0], [-71, -110, -2.0, -9.0], [-70, -119, 1.0, -9.0], [-74, -124, -4.0, -5.0], [-74, -124, 0.0, 0.0], [-74, -124, 0.0, 0.0], [-77, -130, -3.0, -6.0], [-77, -130, 0.0, 0.0], [-77, -130, 0.0, 0.0], [-77, -130, 0.0, 0.0], [-77, -130, 0.0, 0.0], [-77, -130, 0.0, 0.0], [-77, -130, 0.0, 0.0], [-77, -130, 0.0, 0.0], [-74, -123, 3.0, 7.0], [-74, -123, 0.0, 0.0], [-74, -123, 0.0, 0.0], [-74, -123, 0.0, 0.0], [-74, -123, 0.0, 0.0], [-74, -123, 0.0, 0.0], [-74, -123, 0.0, 0.0]], [[-65, -97, -5.0, -13.0], [-66, -109, -1.0, -12.0], [-70, -117, -4.0, -8.0], [-66, -122, 4.0, -5.0], [-67, -125, -1.0, -3.0], [-67, -125, 0.0, 0.0], [-72, -130, -5.0, -5.0], [-72, -130, 0.0, 0.0], [-72, -130, 0.0, 0.0], [-72, -130, 0.0, 0.0], [-72, -130, 0.0, 0.0], [-72, -130, 0.0, 0.0], [-72, -130, 0.0, 0.0], [-72, -130, 0.0, 0.0], [-72, -130, 0.0, 0.0], [-71, -132, 1.0, -2.0]], [[-27, -127, -8.0, 1.0], [-33, -129, -6.0, -2.0], [-34, -136, -1.0, -7.0], [-34, -136, 0.0, 0.0], [-39, -132, -5.0, 4.0], [-43, -129, -4.0, 3.0], [-43, -129, 0.0, 0.0], [-43, -129, 0.0, 0.0], [-34, -119, 9.0, 10.0]], [[-25, -115, -3.0, -5.0], [-27, -115, -2.0, 0.0], [-30, -115, -3.0, 0.0], [-30, -115, 0.0, 0.0], [-34, -121, -4.0, -6.0], [-36, -120, -2.0, 1.0], [-39, -121, -3.0, -1.0], [-39, -121, 0.0, 0.0], [-38, -117, 1.0, 4.0], [-47, -109, -9.0, 8.0]], [[-20, -129, -4.0, -3.0], [-27, -130, -7.0, -1.0], [-31, -129, -4.0, 1.0], [-31, -129, 0.0, 0.0], [-33, -128, -2.0, 1.0], [-33, -128, 0.0, 0.0], [-33, -128, 0.0, 0.0], [-37, -130, -4.0, -2.0], [-39, -127, -2.0, 3.0], [-41, -128, -2.0, -1.0], [-40, -123, 1.0, 5.0], [-46, -114, -6.0, 9.0]], [[-60, -110, 6.0, -16.0], [-56, -119, 4.0, -9.0], [-49, -125, 7.0, -6.0], [-49, -131, 0.0, -6.0], [-52, -133, -3.0, -2.0], [-47, -133, 5.0, 0.0], [-50, -135, -3.0, -2.0], [-52, -139, -2.0, -4.0]], [[-41, -89, 1.0, -19.0], [-47, -103, -6.0, -14.0], [-54, -114, -7.0, -11.0], [-56, -122, -2.0, -8.0], [-55, -126, 1.0, -4.0], [-56, -129, -1.0, -3.0], [-58, -130, -2.0, -1.0], [-58, -130, 0.0, 0.0], [-58, -130, 0.0, 0.0], [-58, -130, 0.0, 0.0], [-58, -130, 0.0, 0.0], [-54, -131, 4.0, -1.0], [-54, -131, 0.0, 0.0], [-54, -131, 0.0, 0.0], [-54, -131, 0.0, 0.0], [-54, -131, 0.0, 0.0]], [[14, -101, -3.0, -1.0], [14, -101, 0.0, 0.0], [14, -101, 0.0, 0.0], [18, -101, 4.0, 0.0], [18, -101, 0.0, 0.0], [15, -93, -3.0, 8.0], [15, -92, 0.0, 1.0], [15, -92, 0.0, 0.0], [9, -90, -6.0, 2.0], [9, -90, 0.0, 0.0], [9, -90, 0.0, 0.0], [6, -92, -3.0, -2.0], [6, -92, 0.0, 0.0], [6, -92, 0.0, 0.0], [1, -95, -5.0, -3.0], [1, -95, 0.0, 0.0], [-3, -95, -4.0, 0.0]], [[-21, -54, 1.0, -17.0], [-26, -67, -5.0, -13.0], [-30, -80, -4.0, -13.0], [-33, -93, -3.0, -13.0], [-35, -102, -2.0, -9.0], [-40, -104, -5.0, -2.0], [-42, -111, -2.0, -7.0], [-42, -111, 0.0, 0.0]], [[-46, -35, -3.0, -19.0], [-48, -56, -2.0, -21.0], [-54, -72, -6.0, -16.0], [-57, -84, -3.0, -12.0], [-59, -94, -2.0, -10.0], [-61, -103, -2.0, -9.0], [-61, -103, 0.0, 0.0], [-61, -103, 0.0, 0.0], [-61, -110, 0.0, -7.0]], [[25, -42, 3.0, -14.0], [20, -54, -5.0, -12.0], [13, -67, -7.0, -13.0], [8, -78, -5.0, -11.0], [5, -88, -3.0, -10.0], [0, -96, -5.0, -8.0], [0, -100, 0.0, -4.0], [-3, -102, -3.0, -2.0]]]\n",
      "trying to build models with 2 -> 15 states\n",
      "model created for JOHN with 2 states. score=-288.44555177756206\n",
      "model created for JOHN with 3 states. score=-288.3951173376199\n",
      "model created for JOHN with 4 states. score=-298.38747283924596\n",
      "model created for JOHN with 5 states. score=-301.24233454136544\n",
      "model created for JOHN with 6 states. score=-302.0050662579437\n",
      "model created for JOHN with 7 states. score=-252.49967973113047\n",
      "model created for JOHN with 8 states. score=-252.70668873496203\n",
      "model created for JOHN with 9 states. score=-227.86528350783144\n",
      "model created for JOHN with 10 states. score=-244.29642338206125\n",
      "model created for JOHN with 11 states. score=-224.76610161551034\n",
      "model created for JOHN with 12 states. score=-227.42540728028658\n",
      "model created for JOHN with 13 states. score=-237.9766470538427\n",
      "model created for JOHN with 14 states. score=-248.1583909978119\n",
      "best model for JOHN has 11 states\n",
      "Training complete for JOHN with 11 states with time 37.79034658399178 seconds\n"
     ]
    }
   ],
   "source": [
    "%autoreload 2\n",
    "# TODO: Implement SelectorDIC in module my_model_selectors.py\n",
    "from my_model_selectors import SelectorDIC\n",
    "\n",
    "training = asl.build_training(features_custom_2)  # Experiment here with different feature sets defined in part 1\n",
    "sequences = training.get_all_sequences()\n",
    "Xlengths = training.get_all_Xlengths()\n",
    "for word in words_to_train:\n",
    "    start = timeit.default_timer()\n",
    "    model = SelectorDIC(sequences, Xlengths, word, \n",
    "                    min_n_components=2, max_n_components=15, random_state = 14, verbose=True).select()\n",
    "    end = timeit.default_timer()-start\n",
    "    if model is not None:\n",
    "        print(\"Training complete for {} with {} states with time {} seconds\".format(word, model.n_components, end))\n",
    "    else:\n",
    "        print(\"Training failed for {}\".format(word))"
   ]
  },
  {
   "cell_type": "markdown",
   "metadata": {
    "deletable": true,
    "editable": true
   },
   "source": [
    "**Question 2:**  Compare and contrast the possible advantages and disadvantages of the various model selectors implemented.\n",
    "\n",
    "**Answer 2:**\n",
    "\n",
    "- CV cannot be used if only one sample is available\n",
    "- BIC is fastest, DIC is slowest, CV is slow. This is because CV trains several models for each number of states (one for each fold) and DIC evaluates each model on all available samples, not just the samples for the word it selects.\n"
   ]
  },
  {
   "cell_type": "markdown",
   "metadata": {
    "deletable": true,
    "editable": true
   },
   "source": [
    "<a id='part2_test'></a>\n",
    "### Model Selector Unit Testing\n",
    "Run the following unit tests as a sanity check on the implemented model selectors.  The test simply looks for valid interfaces  but is not exhaustive. However, the project should not be submitted if these tests don't pass."
   ]
  },
  {
   "cell_type": "code",
   "execution_count": 240,
   "metadata": {
    "collapsed": false,
    "deletable": true,
    "editable": true
   },
   "outputs": [
    {
     "name": "stderr",
     "output_type": "stream",
     "text": [
      "....\n",
      "----------------------------------------------------------------------\n",
      "Ran 4 tests in 50.107s\n",
      "\n",
      "OK\n"
     ]
    },
    {
     "data": {
      "text/plain": [
       "<unittest.runner.TextTestResult run=4 errors=0 failures=0>"
      ]
     },
     "execution_count": 240,
     "metadata": {},
     "output_type": "execute_result"
    }
   ],
   "source": [
    "from asl_test_model_selectors import TestSelectors\n",
    "suite = unittest.TestLoader().loadTestsFromModule(TestSelectors())\n",
    "unittest.TextTestRunner().run(suite)"
   ]
  },
  {
   "cell_type": "markdown",
   "metadata": {
    "collapsed": false,
    "deletable": true,
    "editable": true
   },
   "source": [
    "<a id='part3_tutorial'></a>\n",
    "## PART 3: Recognizer\n",
    "The objective of this section is to \"put it all together\".  Using the four feature sets created and the three model selectors, you will experiment with the models and present your results.  Instead of training only five specific words as in the previous section, train the entire set with a feature set and model selector strategy.  \n",
    "### Recognizer Tutorial\n",
    "##### Train the full training set\n",
    "The following example trains the entire set with the example `features_ground` and `SelectorConstant` features and model selector.  Use this pattern for you experimentation and final submission cells.\n",
    "\n"
   ]
  },
  {
   "cell_type": "code",
   "execution_count": 124,
   "metadata": {
    "collapsed": false,
    "deletable": true,
    "editable": true
   },
   "outputs": [
    {
     "name": "stdout",
     "output_type": "stream",
     "text": [
      "The autoreload extension is already loaded. To reload it, use:\n",
      "  %reload_ext autoreload\n",
      "Number of word models returned = 112\n"
     ]
    }
   ],
   "source": [
    "# autoreload for automatically reloading changes made in my_model_selectors and my_recognizer\n",
    "# %load_ext autoreload\n",
    "%autoreload 2\n",
    "\n",
    "from my_model_selectors import SelectorConstant\n",
    "\n",
    "def train_all_words(features, model_selector):\n",
    "    training = asl.build_training(features)  # Experiment here with different feature sets defined in part 1\n",
    "    sequences = training.get_all_sequences()\n",
    "    Xlengths = training.get_all_Xlengths()\n",
    "    model_dict = {}\n",
    "    for word in training.words:\n",
    "        model = model_selector(sequences, Xlengths, word, \n",
    "                        n_constant=3).select()\n",
    "        model_dict[word]=model\n",
    "    return model_dict\n",
    "\n",
    "models = train_all_words(features_ground, SelectorConstant)\n",
    "print(\"Number of word models returned = {}\".format(len(models)))"
   ]
  },
  {
   "cell_type": "markdown",
   "metadata": {
    "deletable": true,
    "editable": true
   },
   "source": [
    "##### Load the test set\n",
    "The `build_test` method in `ASLdb` is similar to the `build_training` method already presented, but there are a few differences:\n",
    "- the object is type `SinglesData` \n",
    "- the internal dictionary keys are the index of the test word rather than the word itself\n",
    "- the getter methods are `get_all_sequences`, `get_all_Xlengths`, `get_item_sequences` and `get_item_Xlengths`"
   ]
  },
  {
   "cell_type": "code",
   "execution_count": 125,
   "metadata": {
    "collapsed": false,
    "deletable": true,
    "editable": true
   },
   "outputs": [
    {
     "name": "stdout",
     "output_type": "stream",
     "text": [
      "Number of test set items: 178\n",
      "Number of test set sentences: 40\n"
     ]
    }
   ],
   "source": [
    "test_set = asl.build_test(features_ground)\n",
    "print(\"Number of test set items: {}\".format(test_set.num_items))\n",
    "print(\"Number of test set sentences: {}\".format(len(test_set.sentences_index)))"
   ]
  },
  {
   "cell_type": "markdown",
   "metadata": {
    "deletable": true,
    "editable": true
   },
   "source": [
    "<a id='part3_submission'></a>\n",
    "### Recognizer Implementation Submission\n",
    "For the final project submission, students must implement a recognizer following guidance in the `my_recognizer.py` module.  Experiment with the four feature sets and the three model selection methods (that's 12 possible combinations). You can add and remove cells for experimentation or run the recognizers locally in some other way during your experiments, but retain the results for your discussion.  For submission, you will provide code cells of **only three** interesting combinations for your discussion (see questions below). At least one of these should produce a word error rate of less than 60%, i.e. WER < 0.60 . \n",
    "\n",
    "**Tip:** The hmmlearn library may not be able to train or score all models.  Implement try/except contructs as necessary to eliminate non-viable models from consideration."
   ]
  },
  {
   "cell_type": "code",
   "execution_count": 202,
   "metadata": {
    "collapsed": false,
    "deletable": true,
    "editable": true
   },
   "outputs": [],
   "source": [
    "# TODO implement the recognize method in my_recognizer\n",
    "%autoreload 2\n",
    "from my_recognizer import recognize\n",
    "from asl_utils import show_errors\n",
    "\n",
    "# TODO Choose a feature set and model selector\n",
    "features = features_ground # change as needed\n",
    "model_selector = SelectorCV # change as needed\n",
    "\n",
    "# TODO Recognize the test set and display the result with the show_errors method\n",
    "models = train_all_words(features, model_selector)\n",
    "test_set = asl.build_test(features)\n",
    "probabilities, guesses = recognize(models, test_set)\n",
    "show_errors(guesses, test_set)"
   ]
  },
  {
   "cell_type": "code",
   "execution_count": 176,
   "metadata": {
    "collapsed": false,
    "deletable": true,
    "editable": true
   },
   "outputs": [
    {
     "name": "stdout",
     "output_type": "stream",
     "text": [
      "\n",
      "**** WER = 0.5786516853932584\n",
      "Total correct: 75 out of 178\n",
      "Video  Recognized                                                    Correct\n",
      "=====================================================================================================\n",
      "    2: JOHN WRITE *ARRIVE                                            JOHN WRITE HOMEWORK\n",
      "    7: JOHN *GO1 GO CAN                                              JOHN CAN GO CAN\n",
      "   12: *IX *HAVE *WHAT CAN                                           JOHN CAN GO CAN\n",
      "   21: JOHN *HOMEWORK *JOHN *WHO *CAR *CAR *VISIT *MARY              JOHN FISH WONT EAT BUT CAN EAT CHICKEN\n",
      "   25: JOHN *MARY IX *MARY *LOVE                                     JOHN LIKE IX IX IX\n",
      "   28: JOHN *MARY IX *MARY *LOVE                                     JOHN LIKE IX IX IX\n",
      "   30: JOHN LIKE *MARY *MARY *GO                                     JOHN LIKE IX IX IX\n",
      "   36: *VISIT VEGETABLE *GIVE *GO *MARY *MARY                        MARY VEGETABLE KNOW IX LIKE CORN1\n",
      "   40: *JANA *VISIT *GIVE MARY *GO                                   JOHN IX THINK MARY LOVE\n",
      "   43: JOHN *GO BUY HOUSE                                            JOHN MUST BUY HOUSE\n",
      "   50: *JOHN *GO *ARRIVE CAR *POTATO                                 FUTURE JOHN BUY CAR SHOULD\n",
      "   54: JOHN SHOULD *MARY BUY HOUSE                                   JOHN SHOULD NOT BUY HOUSE\n",
      "   57: *MARY *MARY VISIT MARY                                        JOHN DECIDE VISIT MARY\n",
      "   67: JOHN *MOTHER NOT BUY HOUSE                                    JOHN FUTURE NOT BUY HOUSE\n",
      "   71: JOHN *FINISH VISIT MARY                                       JOHN WILL VISIT MARY\n",
      "   74: *IX *VISIT *GO *GO                                            JOHN NOT VISIT MARY\n",
      "   77: *JOHN BLAME *LOVE                                             ANN BLAME MARY\n",
      "   84: *LOVE *ARRIVE *HOMEWORK BOOK                                  IX-1P FIND SOMETHING-ONE BOOK\n",
      "   89: *FUTURE *FUTURE *IX *IX IX *ARRIVE *BOOK                      JOHN IX GIVE MAN IX NEW COAT\n",
      "   90: *POSS *IX IX *IX *VISIT *CHOCOLATE                            JOHN GIVE IX SOMETHING-ONE WOMAN BOOK\n",
      "   92: JOHN *WOMAN IX *IX *SOMETHING-ONE BOOK                        JOHN GIVE IX SOMETHING-ONE WOMAN BOOK\n",
      "  100: *IX NEW CAR BREAK-DOWN                                        POSS NEW CAR BREAK-DOWN\n",
      "  105: JOHN *FRANK                                                   JOHN LEG\n",
      "  107: JOHN *IX *HAVE *GO *JOHN                                      JOHN POSS FRIEND HAVE CANDY\n",
      "  108: *MARY *LOVE                                                   WOMAN ARRIVE\n",
      "  113: IX CAR *IX *MARY *POTATO                                      IX CAR BLUE SUE BUY\n",
      "  119: *PREFER *LOVE IX CAR *IX                                      SUE BUY IX CAR BLUE\n",
      "  122: JOHN *GIVE1 *COAT                                             JOHN READ BOOK\n",
      "  139: JOHN *BUY1 WHAT *BOX BOOK                                     JOHN BUY WHAT YESTERDAY BOOK\n",
      "  142: JOHN BUY YESTERDAY *TEACHER BOOK                              JOHN BUY YESTERDAY WHAT BOOK\n",
      "  158: LOVE JOHN WHO                                                 LOVE JOHN WHO\n",
      "  167: JOHN *MARY *VISIT LOVE MARY                                   JOHN IX SAY LOVE MARY\n",
      "  171: JOHN MARY BLAME                                               JOHN MARY BLAME\n",
      "  174: *CAN *NEW-YORK GIVE1 *YESTERDAY *WHAT                         PEOPLE GROUP GIVE1 JANA TOY\n",
      "  181: JOHN ARRIVE                                                   JOHN ARRIVE\n",
      "  184: *IX *GO *GIVE1 TEACHER *YESTERDAY                             ALL BOY GIVE TEACHER APPLE\n",
      "  189: *JANA *IX *VISIT *WHAT                                        JOHN GIVE GIRL BOX\n",
      "  193: JOHN *IX *VISIT BOX                                           JOHN GIVE GIRL BOX\n",
      "  199: *LOVE CHOCOLATE WHO                                           LIKE CHOCOLATE WHO\n",
      "  201: JOHN *MAN *WOMAN *JOHN *ARRIVE HOUSE                          JOHN TELL MARY IX-1P BUY HOUSE\n"
     ]
    }
   ],
   "source": [
    "# TODO Choose a feature set and model selector\n",
    "# TODO Recognize the test set and display the result with the show_errors method\n",
    "\n",
    "%autoreload 2\n",
    "from my_recognizer import recognize\n",
    "\n",
    "# TODO Choose a feature set and model selector\n",
    "features = features_custom_2 # change as needed\n",
    "model_selector = SelectorDIC # change as needed\n",
    "\n",
    "# TODO Recognize the test set and display the result with the show_errors method\n",
    "models = train_all_words(features, model_selector)\n",
    "test_set = asl.build_test(features)\n",
    "\n",
    "probabilities, guesses = recognize(models, test_set)\n",
    "show_errors(guesses, test_set)"
   ]
  },
  {
   "cell_type": "code",
   "execution_count": 211,
   "metadata": {
    "collapsed": false,
    "deletable": true,
    "editable": true
   },
   "outputs": [
    {
     "name": "stdout",
     "output_type": "stream",
     "text": [
      "\n",
      "**** WER = 0.6348314606741573\n",
      "Total correct: 65 out of 178\n",
      "Video  Recognized                                                    Correct\n",
      "=====================================================================================================\n",
      "    2: *WHO WRITE HOMEWORK                                           JOHN WRITE HOMEWORK\n",
      "    7: JOHN *GO1 *HAVE *WHAT                                         JOHN CAN GO CAN\n",
      "   12: JOHN CAN *CAN CAN                                             JOHN CAN GO CAN\n",
      "   21: *FRANK *HOMEWORK WONT *TELL *CAR *CAR EAT *TOMORROW           JOHN FISH WONT EAT BUT CAN EAT CHICKEN\n",
      "   25: JOHN *TELL *MARY *TELL *LOVE                                  JOHN LIKE IX IX IX\n",
      "   28: JOHN *TELL *MARY *TELL *LOVE                                  JOHN LIKE IX IX IX\n",
      "   30: *LIKE LIKE *MARY *MARY IX                                     JOHN LIKE IX IX IX\n",
      "   36: *WHO VEGETABLE *IX *GIVE *BILL *MARY                          MARY VEGETABLE KNOW IX LIKE CORN1\n",
      "   40: *JANA *BILL *FUTURE1 *JANA *MARY                              JOHN IX THINK MARY LOVE\n",
      "   43: JOHN *SHOULD BUY HOUSE                                        JOHN MUST BUY HOUSE\n",
      "   50: *FRANK *SEE BUY CAR *ARRIVE                                   FUTURE JOHN BUY CAR SHOULD\n",
      "   54: JOHN *GIVE *FINISH BUY HOUSE                                  JOHN SHOULD NOT BUY HOUSE\n",
      "   57: *MARY *MARY *MARY MARY                                        JOHN DECIDE VISIT MARY\n",
      "   67: *LIKE *MOTHER NOT *ARRIVE HOUSE                               JOHN FUTURE NOT BUY HOUSE\n",
      "   71: JOHN *FINISH *GIVE1 *GIVE1                                    JOHN WILL VISIT MARY\n",
      "   74: *MARY *BILL *MARY MARY                                        JOHN NOT VISIT MARY\n",
      "   77: *LOVE BLAME *LOVE                                             ANN BLAME MARY\n",
      "   84: *LOVE *ARRIVE *HOMEWORK *COAT                                 IX-1P FIND SOMETHING-ONE BOOK\n",
      "   89: *GIVE *GIVE GIVE *GIVE IX *BUY COAT                           JOHN IX GIVE MAN IX NEW COAT\n",
      "   90: *POSS *IX IX *IX WOMAN *CHOCOLATE                             JOHN GIVE IX SOMETHING-ONE WOMAN BOOK\n",
      "   92: *IX-1P GIVE *GIVE *GIVE WOMAN BOOK                            JOHN GIVE IX SOMETHING-ONE WOMAN BOOK\n",
      "  100: POSS NEW CAR BREAK-DOWN                                       POSS NEW CAR BREAK-DOWN\n",
      "  105: JOHN *SEE                                                     JOHN LEG\n",
      "  107: *LIKE *IX FRIEND *VISIT *WHO                                  JOHN POSS FRIEND HAVE CANDY\n",
      "  108: *GIVE *LOVE                                                   WOMAN ARRIVE\n",
      "  113: IX CAR BLUE SUE *ARRIVE                                       IX CAR BLUE SUE BUY\n",
      "  119: *PREFER *BUY1 *HAVE CAR *SUE                                  SUE BUY IX CAR BLUE\n",
      "  122: JOHN *HOUSE *COAT                                             JOHN READ BOOK\n",
      "  139: *SHOULD *BUY1 *CAN *VISIT *CHOCOLATE                          JOHN BUY WHAT YESTERDAY BOOK\n",
      "  142: JOHN *VIDEOTAPE YESTERDAY *TEACHER BOOK                       JOHN BUY YESTERDAY WHAT BOOK\n",
      "  158: LOVE *MARY *VEGETABLE                                         LOVE JOHN WHO\n",
      "  167: *MARY *SUE *BILL LOVE *LOVE                                   JOHN IX SAY LOVE MARY\n",
      "  171: *SUE *SUE BLAME                                               JOHN MARY BLAME\n",
      "  174: *WHAT *GIVE3 GIVE1 *APPLE *WHAT                               PEOPLE GROUP GIVE1 JANA TOY\n",
      "  181: *GO ARRIVE                                                    JOHN ARRIVE\n",
      "  184: *IX BOY *GIVE1 TEACHER APPLE                                  ALL BOY GIVE TEACHER APPLE\n",
      "  189: *JANA GIVE *APPLE *CAN                                        JOHN GIVE GIRL BOX\n",
      "  193: JOHN *IX *YESTERDAY BOX                                       JOHN GIVE GIRL BOX\n",
      "  199: *LOVE CHOCOLATE *TELL                                         LIKE CHOCOLATE WHO\n",
      "  201: JOHN *MAN *GIVE *JOHN BUY HOUSE                               JOHN TELL MARY IX-1P BUY HOUSE\n"
     ]
    }
   ],
   "source": [
    "# TODO Choose a feature set and model selector\n",
    "# TODO Recognize the test set and display the result with the show_errors method\n",
    "\n",
    "%autoreload 2\n",
    "from my_recognizer import recognize\n",
    "\n",
    "# TODO Choose a feature set and model selector\n",
    "features = features_custom # change as needed\n",
    "model_selector = SelectorBIC # change as needed\n",
    "\n",
    "# TODO Recognize the test set and display the result with the show_errors method\n",
    "models = train_all_words(features, model_selector)\n",
    "test_set = asl.build_test(features)\n",
    "\n",
    "probabilities, guesses = recognize(models, test_set)\n",
    "show_errors(guesses, test_set)"
   ]
  },
  {
   "cell_type": "code",
   "execution_count": 244,
   "metadata": {
    "collapsed": false
   },
   "outputs": [
    {
     "name": "stdout",
     "output_type": "stream",
     "text": [
      "features gound, selector CV \n",
      "\n",
      "**** WER = 0.5730337078651685\n",
      "Total correct: 76 out of 178\n",
      "Video  Recognized                                                    Correct\n",
      "=====================================================================================================\n",
      "    2: JOHN *STUDENT *NEW                                            JOHN WRITE HOMEWORK\n",
      "    7: JOHN *WHAT *IX *WHAT                                          JOHN CAN GO CAN\n",
      "   12: JOHN *CAR *CAN CAN                                            JOHN CAN GO CAN\n",
      "   21: JOHN *VIDEOTAPE *FUTURE *TELL *CAR *CAR *VISIT *WHO           JOHN FISH WONT EAT BUT CAN EAT CHICKEN\n",
      "   25: JOHN *TELL *LOVE *TELL *LOVE                                  JOHN LIKE IX IX IX\n",
      "   28: JOHN *TELL *LOVE *JOHN *LOVE                                  JOHN LIKE IX IX IX\n",
      "   30: JOHN *MARY *MARY *MARY IX                                     JOHN LIKE IX IX IX\n",
      "   36: MARY VEGETABLE *IX *GIVE *MARY *MARY                          MARY VEGETABLE KNOW IX LIKE CORN1\n",
      "   40: JOHN *MARY *APPLE *JOHN *MARY                                 JOHN IX THINK MARY LOVE\n",
      "   43: JOHN *SHOULD BUY HOUSE                                        JOHN MUST BUY HOUSE\n",
      "   50: *JOHN *SEE BUY CAR *ARRIVE                                    FUTURE JOHN BUY CAR SHOULD\n",
      "   54: JOHN SHOULD *FINISH BUY HOUSE                                 JOHN SHOULD NOT BUY HOUSE\n",
      "   57: *MARY *VEGETABLE *MARY MARY                                   JOHN DECIDE VISIT MARY\n",
      "   67: JOHN FUTURE NOT BUY HOUSE                                     JOHN FUTURE NOT BUY HOUSE\n",
      "   71: JOHN *FINISH *BLAME *GIVE1                                    JOHN WILL VISIT MARY\n",
      "   74: *IX *JOHN *MARY MARY                                          JOHN NOT VISIT MARY\n",
      "   77: *JOHN BLAME *LOVE                                             ANN BLAME MARY\n",
      "   84: *LOVE *ARRIVE *FUTURE BOOK                                    IX-1P FIND SOMETHING-ONE BOOK\n",
      "   89: *FRANK IX GIVE *IX IX NEW *BOOK                               JOHN IX GIVE MAN IX NEW COAT\n",
      "   90: *POSS *SOMETHING-ONE IX *IX *SOMETHING-ONE *CHOCOLATE         JOHN GIVE IX SOMETHING-ONE WOMAN BOOK\n",
      "   92: JOHN GIVE IX *IX WOMAN BOOK                                   JOHN GIVE IX SOMETHING-ONE WOMAN BOOK\n",
      "  100: POSS NEW CAR BREAK-DOWN                                       POSS NEW CAR BREAK-DOWN\n",
      "  105: JOHN *FRANK                                                   JOHN LEG\n",
      "  107: JOHN *IX *ARRIVE *VISIT *JOHN                                 JOHN POSS FRIEND HAVE CANDY\n",
      "  108: *FRANK ARRIVE                                                 WOMAN ARRIVE\n",
      "  113: IX CAR *IX *JOHN *ARRIVE                                      IX CAR BLUE SUE BUY\n",
      "  119: *VEGETABLE *LOVE IX CAR *IX                                   SUE BUY IX CAR BLUE\n",
      "  122: JOHN *GIVE1 BOOK                                              JOHN READ BOOK\n",
      "  139: JOHN *BUY1 *CAN YESTERDAY *CHOCOLATE                          JOHN BUY WHAT YESTERDAY BOOK\n",
      "  142: JOHN *GIVE1 YESTERDAY *CAR BOOK                               JOHN BUY YESTERDAY WHAT BOOK\n",
      "  158: LOVE JOHN WHO                                                 LOVE JOHN WHO\n",
      "  167: JOHN IX *JANA *WOMAN *LOVE                                    JOHN IX SAY LOVE MARY\n",
      "  171: JOHN *JOHN BLAME                                              JOHN MARY BLAME\n",
      "  174: *CAN *ARRIVE GIVE1 *APPLE *WHAT                               PEOPLE GROUP GIVE1 JANA TOY\n",
      "  181: *GO ARRIVE                                                    JOHN ARRIVE\n",
      "  184: *SOMETHING-ONE *MAN *GIVE1 TEACHER APPLE                      ALL BOY GIVE TEACHER APPLE\n",
      "  189: JOHN *IX *YESTERDAY *CAN                                      JOHN GIVE GIRL BOX\n",
      "  193: *MARY *SOMETHING-ONE *YESTERDAY BOX                           JOHN GIVE GIRL BOX\n",
      "  199: *LOVE CHOCOLATE *TELL                                         LIKE CHOCOLATE WHO\n",
      "  201: JOHN *SHOULD *GIVE *FRANK BUY HOUSE                           JOHN TELL MARY IX-1P BUY HOUSE\n",
      "features gound, selector CV: duration 93.78798632998951 \n",
      "features gound, selector BIC \n",
      "\n",
      "**** WER = 0.550561797752809\n",
      "Total correct: 80 out of 178\n",
      "Video  Recognized                                                    Correct\n",
      "=====================================================================================================\n",
      "    2: JOHN *NEW *GIVE1                                              JOHN WRITE HOMEWORK\n",
      "    7: *SOMETHING-ONE CAN GO *WHAT                                   JOHN CAN GO CAN\n",
      "   12: *IX *WHAT *CAN CAN                                            JOHN CAN GO CAN\n",
      "   21: JOHN *GIVE1 *JOHN *FUTURE *GIVE1 *WHAT *VISIT *FUTURE         JOHN FISH WONT EAT BUT CAN EAT CHICKEN\n",
      "   25: JOHN *MARY IX *MARY IX                                        JOHN LIKE IX IX IX\n",
      "   28: JOHN *MARY IX *MARY *LOVE                                     JOHN LIKE IX IX IX\n",
      "   30: JOHN *MARY *MARY *MARY *MARY                                  JOHN LIKE IX IX IX\n",
      "   36: *VISIT *VISIT *GIVE *GO *MARY *MARY                           MARY VEGETABLE KNOW IX LIKE CORN1\n",
      "   40: *MARY *GO *GIVE MARY *MARY                                    JOHN IX THINK MARY LOVE\n",
      "   43: JOHN *IX BUY HOUSE                                            JOHN MUST BUY HOUSE\n",
      "   50: *JOHN *SEE BUY CAR *JOHN                                      FUTURE JOHN BUY CAR SHOULD\n",
      "   54: JOHN SHOULD NOT BUY HOUSE                                     JOHN SHOULD NOT BUY HOUSE\n",
      "   57: *MARY *VISIT VISIT MARY                                       JOHN DECIDE VISIT MARY\n",
      "   67: JOHN *YESTERDAY *WOMAN BUY HOUSE                              JOHN FUTURE NOT BUY HOUSE\n",
      "   71: JOHN *FUTURE VISIT MARY                                       JOHN WILL VISIT MARY\n",
      "   74: *IX *VISIT *GO MARY                                           JOHN NOT VISIT MARY\n",
      "   77: *JOHN *GIVE1 MARY                                             ANN BLAME MARY\n",
      "   84: *JOHN *ARRIVE *VISIT BOOK                                     IX-1P FIND SOMETHING-ONE BOOK\n",
      "   89: *MARY IX *IX *IX IX *ARRIVE *BOOK                             JOHN IX GIVE MAN IX NEW COAT\n",
      "   90: *POSS *IX IX *IX *VISIT *ARRIVE                               JOHN GIVE IX SOMETHING-ONE WOMAN BOOK\n",
      "   92: JOHN *IX IX *IX WOMAN BOOK                                    JOHN GIVE IX SOMETHING-ONE WOMAN BOOK\n",
      "  100: *IX NEW CAR BREAK-DOWN                                        POSS NEW CAR BREAK-DOWN\n",
      "  105: JOHN *FRANK                                                   JOHN LEG\n",
      "  107: JOHN *GO *BOOK *ARRIVE *JOHN                                  JOHN POSS FRIEND HAVE CANDY\n",
      "  108: *MARY *LOVE                                                   WOMAN ARRIVE\n",
      "  113: IX CAR *IX *MARY *BOX                                         IX CAR BLUE SUE BUY\n",
      "  119: *VISIT *ARRIVE IX *BOX *GO                                    SUE BUY IX CAR BLUE\n",
      "  122: JOHN *GIVE1 BOOK                                              JOHN READ BOOK\n",
      "  139: JOHN *BUY1 WHAT *MARY BOOK                                    JOHN BUY WHAT YESTERDAY BOOK\n",
      "  142: JOHN BUY YESTERDAY WHAT BOOK                                  JOHN BUY YESTERDAY WHAT BOOK\n",
      "  158: LOVE JOHN WHO                                                 LOVE JOHN WHO\n",
      "  167: JOHN *MARY *VISIT LOVE MARY                                   JOHN IX SAY LOVE MARY\n",
      "  171: JOHN MARY BLAME                                               JOHN MARY BLAME\n",
      "  174: *CAN *GIVE1 GIVE1 *YESTERDAY *WHAT                            PEOPLE GROUP GIVE1 JANA TOY\n",
      "  181: JOHN ARRIVE                                                   JOHN ARRIVE\n",
      "  184: *IX BOY *GIVE1 TEACHER *YESTERDAY                             ALL BOY GIVE TEACHER APPLE\n",
      "  189: JOHN *IX *VISIT BOX                                           JOHN GIVE GIRL BOX\n",
      "  193: JOHN *IX *VISIT BOX                                           JOHN GIVE GIRL BOX\n",
      "  199: *JOHN *ARRIVE WHO                                             LIKE CHOCOLATE WHO\n",
      "  201: JOHN *GIVE *WOMAN *LOVE BUY HOUSE                             JOHN TELL MARY IX-1P BUY HOUSE\n",
      "features gound, selector BIC: duration 63.52189791802084 \n",
      "features gound, selector DIC \n",
      "\n",
      "**** WER = 0.5786516853932584\n",
      "Total correct: 75 out of 178\n",
      "Video  Recognized                                                    Correct\n",
      "=====================================================================================================\n",
      "    2: JOHN WRITE *ARRIVE                                            JOHN WRITE HOMEWORK\n",
      "    7: JOHN *GO1 GO CAN                                              JOHN CAN GO CAN\n",
      "   12: *IX *HAVE *WHAT CAN                                           JOHN CAN GO CAN\n",
      "   21: JOHN *HOMEWORK *JOHN *WHO *CAR *CAR *VISIT *MARY              JOHN FISH WONT EAT BUT CAN EAT CHICKEN\n",
      "   25: JOHN *MARY IX *MARY *LOVE                                     JOHN LIKE IX IX IX\n",
      "   28: JOHN *MARY IX *MARY *LOVE                                     JOHN LIKE IX IX IX\n",
      "   30: JOHN LIKE *MARY *MARY *GO                                     JOHN LIKE IX IX IX\n",
      "   36: *VISIT VEGETABLE *GIVE *GO *MARY *MARY                        MARY VEGETABLE KNOW IX LIKE CORN1\n",
      "   40: *JANA *VISIT *GIVE MARY *GO                                   JOHN IX THINK MARY LOVE\n",
      "   43: JOHN *GO BUY HOUSE                                            JOHN MUST BUY HOUSE\n",
      "   50: *JOHN *GO *ARRIVE CAR *POTATO                                 FUTURE JOHN BUY CAR SHOULD\n",
      "   54: JOHN SHOULD *MARY BUY HOUSE                                   JOHN SHOULD NOT BUY HOUSE\n",
      "   57: *MARY *MARY VISIT MARY                                        JOHN DECIDE VISIT MARY\n",
      "   67: JOHN *MOTHER NOT BUY HOUSE                                    JOHN FUTURE NOT BUY HOUSE\n",
      "   71: JOHN *FINISH VISIT MARY                                       JOHN WILL VISIT MARY\n",
      "   74: *IX *VISIT *GO *GO                                            JOHN NOT VISIT MARY\n",
      "   77: *JOHN BLAME *LOVE                                             ANN BLAME MARY\n",
      "   84: *LOVE *ARRIVE *HOMEWORK BOOK                                  IX-1P FIND SOMETHING-ONE BOOK\n",
      "   89: *FUTURE *FUTURE *IX *IX IX *ARRIVE *BOOK                      JOHN IX GIVE MAN IX NEW COAT\n",
      "   90: *POSS *IX IX *IX *VISIT *CHOCOLATE                            JOHN GIVE IX SOMETHING-ONE WOMAN BOOK\n",
      "   92: JOHN *WOMAN IX *IX *SOMETHING-ONE BOOK                        JOHN GIVE IX SOMETHING-ONE WOMAN BOOK\n",
      "  100: *IX NEW CAR BREAK-DOWN                                        POSS NEW CAR BREAK-DOWN\n",
      "  105: JOHN *FRANK                                                   JOHN LEG\n",
      "  107: JOHN *IX *HAVE *GO *JOHN                                      JOHN POSS FRIEND HAVE CANDY\n",
      "  108: *MARY *LOVE                                                   WOMAN ARRIVE\n",
      "  113: IX CAR *IX *MARY *POTATO                                      IX CAR BLUE SUE BUY\n",
      "  119: *PREFER *LOVE IX CAR *IX                                      SUE BUY IX CAR BLUE\n",
      "  122: JOHN *GIVE1 *COAT                                             JOHN READ BOOK\n",
      "  139: JOHN *BUY1 WHAT *BOX BOOK                                     JOHN BUY WHAT YESTERDAY BOOK\n",
      "  142: JOHN BUY YESTERDAY *TEACHER BOOK                              JOHN BUY YESTERDAY WHAT BOOK\n",
      "  158: LOVE JOHN WHO                                                 LOVE JOHN WHO\n",
      "  167: JOHN *MARY *VISIT LOVE MARY                                   JOHN IX SAY LOVE MARY\n",
      "  171: JOHN MARY BLAME                                               JOHN MARY BLAME\n",
      "  174: *CAN *NEW-YORK GIVE1 *YESTERDAY *WHAT                         PEOPLE GROUP GIVE1 JANA TOY\n",
      "  181: JOHN ARRIVE                                                   JOHN ARRIVE\n",
      "  184: *IX *GO *GIVE1 TEACHER *YESTERDAY                             ALL BOY GIVE TEACHER APPLE\n",
      "  189: *JANA *IX *VISIT *WHAT                                        JOHN GIVE GIRL BOX\n",
      "  193: JOHN *IX *VISIT BOX                                           JOHN GIVE GIRL BOX\n",
      "  199: *LOVE CHOCOLATE WHO                                           LIKE CHOCOLATE WHO\n",
      "  201: JOHN *MAN *WOMAN *JOHN *ARRIVE HOUSE                          JOHN TELL MARY IX-1P BUY HOUSE\n",
      "features gound, selector DIC: duration 170.05248485397897 \n",
      "features norm, selector CV \n",
      "\n",
      "**** WER = 0.6629213483146067\n",
      "Total correct: 60 out of 178\n",
      "Video  Recognized                                                    Correct\n",
      "=====================================================================================================\n",
      "    2: JOHN *VIDEOTAPE *ARRIVE                                       JOHN WRITE HOMEWORK\n",
      "    7: JOHN *NEW *MARY *ARRIVE                                       JOHN CAN GO CAN\n",
      "   12: JOHN *WHAT *GO1 CAN                                           JOHN CAN GO CAN\n",
      "   21: *LIKE FISH *HAVE *IX-1P *CAR *CAR EAT *HAVE                   JOHN FISH WONT EAT BUT CAN EAT CHICKEN\n",
      "   25: *GO LIKE *GO *LIKE *GO                                        JOHN LIKE IX IX IX\n",
      "   28: JOHN LIKE *LIKE *LIKE *GO                                     JOHN LIKE IX IX IX\n",
      "   30: *IX-1P LIKE *LOVE *LIKE IX                                    JOHN LIKE IX IX IX\n",
      "   36: *LIKE *PREFER *YESTERDAY *NOT *LEAVE *LIKE                    MARY VEGETABLE KNOW IX LIKE CORN1\n",
      "   40: JOHN *JOHN *FUTURE1 *NOT LOVE                                 JOHN IX THINK MARY LOVE\n",
      "   43: JOHN *FUTURE BUY HOUSE                                        JOHN MUST BUY HOUSE\n",
      "   50: *JOHN *FRANK *HAVE *HAVE *SOMETHING-ONE                       FUTURE JOHN BUY CAR SHOULD\n",
      "   54: JOHN *FUTURE *MAN *STUDENT HOUSE                              JOHN SHOULD NOT BUY HOUSE\n",
      "   57: *IX *FUTURE *MARY *LOVE                                       JOHN DECIDE VISIT MARY\n",
      "   67: *LIKE FUTURE *JOHN *ARRIVE HOUSE                              JOHN FUTURE NOT BUY HOUSE\n",
      "   71: JOHN *PREFER VISIT MARY                                       JOHN WILL VISIT MARY\n",
      "   74: JOHN *JOHN *JOHN *LOVE                                        JOHN NOT VISIT MARY\n",
      "   77: *JOHN *ARRIVE *LOVE                                           ANN BLAME MARY\n",
      "   84: *JOHN *ARRIVE *FUTURE BOOK                                    IX-1P FIND SOMETHING-ONE BOOK\n",
      "   89: *FUTURE *POSS *THROW *VISIT IX NEW COAT                       JOHN IX GIVE MAN IX NEW COAT\n",
      "   90: *SELF *GIVE1 IX *GIVE1 *NOT *CHOCOLATE                        JOHN GIVE IX SOMETHING-ONE WOMAN BOOK\n",
      "   92: *SHOULD *GIVE1 IX *IX WOMAN BOOK                              JOHN GIVE IX SOMETHING-ONE WOMAN BOOK\n",
      "  100: POSS NEW *HOUSE BREAK-DOWN                                    POSS NEW CAR BREAK-DOWN\n",
      "  105: JOHN *SEE                                                     JOHN LEG\n",
      "  107: *BILL POSS *BLAME *LIKE *TELL                                 JOHN POSS FRIEND HAVE CANDY\n",
      "  108: *LOVE *JOHN                                                   WOMAN ARRIVE\n",
      "  113: IX CAR *IX *JOHN *BOX                                         IX CAR BLUE SUE BUY\n",
      "  119: *WHO *BUY1 *SOMETHING-ONE CAR *SUE                            SUE BUY IX CAR BLUE\n",
      "  122: *SHOULD *HOUSE BOOK                                           JOHN READ BOOK\n",
      "  139: JOHN *BUY1 *CAR YESTERDAY BOOK                                JOHN BUY WHAT YESTERDAY BOOK\n",
      "  142: JOHN BUY YESTERDAY WHAT BOOK                                  JOHN BUY YESTERDAY WHAT BOOK\n",
      "  158: LOVE *MARY *CORN                                              LOVE JOHN WHO\n",
      "  167: JOHN *JOHN *NOT LOVE MARY                                     JOHN IX SAY LOVE MARY\n",
      "  171: *JANA *JOHN BLAME                                             JOHN MARY BLAME\n",
      "  174: *NEW *BLAME GIVE1 *TELL *CAR                                  PEOPLE GROUP GIVE1 JANA TOY\n",
      "  181: *CAN *BOX                                                     JOHN ARRIVE\n",
      "  184: *THROW *IX *GIVE1 TEACHER APPLE                               ALL BOY GIVE TEACHER APPLE\n",
      "  189: *TELL *SELF *CORN *ARRIVE                                     JOHN GIVE GIRL BOX\n",
      "  193: *NOT *YESTERDAY *NOT BOX                                      JOHN GIVE GIRL BOX\n",
      "  199: *JOHN CHOCOLATE *JOHN                                         LIKE CHOCOLATE WHO\n",
      "  201: *SHOULD *WHO *WOMAN *LIKE *STUDENT HOUSE                      JOHN TELL MARY IX-1P BUY HOUSE\n",
      "features norm, selector CV: duration 109.2781655259896 \n",
      "features norm, selector BIC \n",
      "\n",
      "**** WER = 0.6348314606741573\n",
      "Total correct: 65 out of 178\n",
      "Video  Recognized                                                    Correct\n",
      "=====================================================================================================\n",
      "    2: JOHN WRITE *ARRIVE                                            JOHN WRITE HOMEWORK\n",
      "    7: *MARY *BUY GO *WHAT                                           JOHN CAN GO CAN\n",
      "   12: *MARY *WHAT *JOHN CAN                                         JOHN CAN GO CAN\n",
      "   21: *MARY *NEW *VISIT *GO *JOHN *CAR *FUTURE CHICKEN              JOHN FISH WONT EAT BUT CAN EAT CHICKEN\n",
      "   25: *MARY LIKE *MARY *LIKE *MARY                                  JOHN LIKE IX IX IX\n",
      "   28: *ANN LIKE *MARY *MARY *MARY                                   JOHN LIKE IX IX IX\n",
      "   30: *SHOOT *IX *MARY IX IX                                        JOHN LIKE IX IX IX\n",
      "   36: MARY *MARY *GIVE3 *WHO LIKE *IX                               MARY VEGETABLE KNOW IX LIKE CORN1\n",
      "   40: *MARY *JOHN *FUTURE1 *VEGETABLE *MARY                         JOHN IX THINK MARY LOVE\n",
      "   43: JOHN *FUTURE BUY HOUSE                                        JOHN MUST BUY HOUSE\n",
      "   50: *POSS *SEE BUY CAR *IX                                        FUTURE JOHN BUY CAR SHOULD\n",
      "   54: JOHN *FUTURE *MAN *ARRIVE HOUSE                               JOHN SHOULD NOT BUY HOUSE\n",
      "   57: *IX *IX *IX *VISIT                                            JOHN DECIDE VISIT MARY\n",
      "   67: *MARY *IX *JOHN BUY HOUSE                                     JOHN FUTURE NOT BUY HOUSE\n",
      "   71: JOHN *FUTURE VISIT MARY                                       JOHN WILL VISIT MARY\n",
      "   74: *IX *BILL *MARY MARY                                          JOHN NOT VISIT MARY\n",
      "   77: ANN BLAME MARY                                                ANN BLAME MARY\n",
      "   84: *JOHN *WHAT *VISIT BOOK                                       IX-1P FIND SOMETHING-ONE BOOK\n",
      "   89: *FUTURE IX *IX *IX IX NEW *BOOK                               JOHN IX GIVE MAN IX NEW COAT\n",
      "   90: *SELF *IX IX *IX WOMAN BOOK                                   JOHN GIVE IX SOMETHING-ONE WOMAN BOOK\n",
      "   92: JOHN *IX IX *IX *IX BOOK                                      JOHN GIVE IX SOMETHING-ONE WOMAN BOOK\n",
      "  100: POSS NEW *HOUSE BREAK-DOWN                                    POSS NEW CAR BREAK-DOWN\n",
      "  105: JOHN *POSS                                                    JOHN LEG\n",
      "  107: *MARY POSS *BOX *MARY *MARY                                   JOHN POSS FRIEND HAVE CANDY\n",
      "  108: *IX *JOHN                                                     WOMAN ARRIVE\n",
      "  113: *SHOULD CAR *IX *JOHN *BOX                                    IX CAR BLUE SUE BUY\n",
      "  119: *PREFER *BUY1 IX *JOHN *FINISH                                SUE BUY IX CAR BLUE\n",
      "  122: JOHN *GIVE1 BOOK                                              JOHN READ BOOK\n",
      "  139: JOHN *BUY1 *CAR *GO BOOK                                      JOHN BUY WHAT YESTERDAY BOOK\n",
      "  142: JOHN BUY *POSS WHAT BOOK                                      JOHN BUY YESTERDAY WHAT BOOK\n",
      "  158: LOVE *IX WHO                                                  LOVE JOHN WHO\n",
      "  167: *MARY IX *SAY-1P LOVE *IX                                     JOHN IX SAY LOVE MARY\n",
      "  171: *MARY *IX BLAME                                               JOHN MARY BLAME\n",
      "  174: *JOHN *GIVE1 GIVE1 *YESTERDAY *CAR                            PEOPLE GROUP GIVE1 JANA TOY\n",
      "  181: JOHN *BOX                                                     JOHN ARRIVE\n",
      "  184: *IX *IX *GIVE1 TEACHER APPLE                                  ALL BOY GIVE TEACHER APPLE\n",
      "  189: *MARY *MARY *YESTERDAY *ARRIVE                                JOHN GIVE GIRL BOX\n",
      "  193: *IX *YESTERDAY *YESTERDAY BOX                                 JOHN GIVE GIRL BOX\n",
      "  199: *JOHN *ARRIVE *JOHN                                           LIKE CHOCOLATE WHO\n",
      "  201: JOHN *GIVE1 *IX *WOMAN BUY HOUSE                              JOHN TELL MARY IX-1P BUY HOUSE\n",
      "features norm, selector BIC: duration 90.20493187499233 \n",
      "features norm, selector DIC \n",
      "\n",
      "**** WER = 0.6235955056179775\n",
      "Total correct: 67 out of 178\n",
      "Video  Recognized                                                    Correct\n",
      "=====================================================================================================\n",
      "    2: JOHN WRITE *ARRIVE                                            JOHN WRITE HOMEWORK\n",
      "    7: JOHN *PEOPLE GO CAN                                           JOHN CAN GO CAN\n",
      "   12: *WHAT *HAVE *GO1 CAN                                          JOHN CAN GO CAN\n",
      "   21: JOHN *VIDEOTAPE *HAVE *GO *CAR *CAR *CHICKEN *WRITE           JOHN FISH WONT EAT BUT CAN EAT CHICKEN\n",
      "   25: *ANN LIKE *GO *LIKE *JOHN                                     JOHN LIKE IX IX IX\n",
      "   28: *ANN LIKE IX *LIKE IX                                         JOHN LIKE IX IX IX\n",
      "   30: *IX-1P *MARY *MARY *MARY *MARY                                JOHN LIKE IX IX IX\n",
      "   36: MARY *MARY *IX *WHO *MARY *IX                                 MARY VEGETABLE KNOW IX LIKE CORN1\n",
      "   40: JOHN *JOHN *FUTURE1 *VEGETABLE *MARY                          JOHN IX THINK MARY LOVE\n",
      "   43: JOHN *JOHN BUY HOUSE                                          JOHN MUST BUY HOUSE\n",
      "   50: *POSS *SEE *CAR *CAN *HAVE                                    FUTURE JOHN BUY CAR SHOULD\n",
      "   54: JOHN SHOULD *MAN *STUDENT HOUSE                               JOHN SHOULD NOT BUY HOUSE\n",
      "   57: *SHOOT *MARY *IX MARY                                         JOHN DECIDE VISIT MARY\n",
      "   67: JOHN *IX *JOHN *LAST-WEEK *CAN                                JOHN FUTURE NOT BUY HOUSE\n",
      "   71: JOHN *FUTURE VISIT MARY                                       JOHN WILL VISIT MARY\n",
      "   74: *LIKE *BILL VISIT MARY                                        JOHN NOT VISIT MARY\n",
      "   77: ANN BLAME MARY                                                ANN BLAME MARY\n",
      "   84: *JOHN *ARRIVE *FUTURE *NEW                                    IX-1P FIND SOMETHING-ONE BOOK\n",
      "   89: *MARY *SOMETHING-ONE *IX *WOMAN IX *BOOK COAT                 JOHN IX GIVE MAN IX NEW COAT\n",
      "   90: *SELF *IX IX *IX WOMAN BOOK                                   JOHN GIVE IX SOMETHING-ONE WOMAN BOOK\n",
      "   92: JOHN *WOMAN IX *IX WOMAN BOOK                                 JOHN GIVE IX SOMETHING-ONE WOMAN BOOK\n",
      "  100: POSS NEW CAR BREAK-DOWN                                       POSS NEW CAR BREAK-DOWN\n",
      "  105: JOHN *POSS                                                    JOHN LEG\n",
      "  107: *MARY POSS *BOX *IX *MARY                                     JOHN POSS FRIEND HAVE CANDY\n",
      "  108: *LOVE *HOMEWORK                                               WOMAN ARRIVE\n",
      "  113: IX CAR *IX *JOHN *BOX                                         IX CAR BLUE SUE BUY\n",
      "  119: *WHO *BUY1 IX *PEOPLE *SUE                                    SUE BUY IX CAR BLUE\n",
      "  122: JOHN *HOUSE BOOK                                              JOHN READ BOOK\n",
      "  139: JOHN *BUY1 *VIDEOTAPE *GO BOOK                                JOHN BUY WHAT YESTERDAY BOOK\n",
      "  142: JOHN BUY *POSS WHAT BOOK                                      JOHN BUY YESTERDAY WHAT BOOK\n",
      "  158: LOVE JOHN WHO                                                 LOVE JOHN WHO\n",
      "  167: *MARY *MARY *SAY-1P LOVE *LOVE                                JOHN IX SAY LOVE MARY\n",
      "  171: *SHOOT *IX BLAME                                              JOHN MARY BLAME\n",
      "  174: *CAR *GIVE1 GIVE1 *MARY TOY                                   PEOPLE GROUP GIVE1 JANA TOY\n",
      "  181: *BLAME *BLAME                                                 JOHN ARRIVE\n",
      "  184: *IX *FUTURE *GIVE1 TEACHER APPLE                              ALL BOY GIVE TEACHER APPLE\n",
      "  189: *JANA *GIVE3 *YESTERDAY *ARRIVE                               JOHN GIVE GIRL BOX\n",
      "  193: *LEAVE *YESTERDAY *YESTERDAY BOX                              JOHN GIVE GIRL BOX\n",
      "  199: *JOHN *BUY1 *JOHN                                             LIKE CHOCOLATE WHO\n",
      "  201: JOHN *SHOULD *WOMAN *WOMAN *STUDENT HOUSE                     JOHN TELL MARY IX-1P BUY HOUSE\n",
      "features norm, selector DIC: duration 214.9637270589883 \n",
      "features polar, selector CV \n",
      "\n",
      "**** WER = 0.6460674157303371\n",
      "Total correct: 63 out of 178\n",
      "Video  Recognized                                                    Correct\n",
      "=====================================================================================================\n",
      "    2: *POSS *NEW *NEW                                               JOHN WRITE HOMEWORK\n",
      "    7: JOHN *HAVE GO *WHAT                                           JOHN CAN GO CAN\n",
      "   12: JOHN *WHAT *WHAT CAN                                          JOHN CAN GO CAN\n",
      "   21: *IX *NEW *POSS *MOTHER *CAR *CAR *VISIT *WHO                  JOHN FISH WONT EAT BUT CAN EAT CHICKEN\n",
      "   25: *FRANK LIKE IX *TELL IX                                       JOHN LIKE IX IX IX\n",
      "   28: *FRANK *TELL IX *LIKE IX                                      JOHN LIKE IX IX IX\n",
      "   30: JOHN LIKE *GO *GO *GO                                         JOHN LIKE IX IX IX\n",
      "   36: MARY *WHO *GIRL *GIVE *GO *MARY                               MARY VEGETABLE KNOW IX LIKE CORN1\n",
      "   40: JOHN *GIVE *CORN *VEGETABLE *GO                               JOHN IX THINK MARY LOVE\n",
      "   43: *FRANK *POSS BUY HOUSE                                        JOHN MUST BUY HOUSE\n",
      "   50: *FRANK *FRANK *NEW CAR *JOHN                                  FUTURE JOHN BUY CAR SHOULD\n",
      "   54: JOHN SHOULD *WHO BUY HOUSE                                    JOHN SHOULD NOT BUY HOUSE\n",
      "   57: *GO *MARY *GIVE MARY                                          JOHN DECIDE VISIT MARY\n",
      "   67: *LIKE FUTURE NOT BUY HOUSE                                    JOHN FUTURE NOT BUY HOUSE\n",
      "   71: JOHN *FINISH *GO *BLAME                                       JOHN WILL VISIT MARY\n",
      "   74: *GO *MARY *GO *GO                                             JOHN NOT VISIT MARY\n",
      "   77: *IX BLAME *SOMETHING-ONE                                      ANN BLAME MARY\n",
      "   84: *FRANK *ARRIVE *POSS *VIDEOTAPE                               IX-1P FIND SOMETHING-ONE BOOK\n",
      "   89: *GIVE *GIVE *IX *IX IX *BUY *BOOK                             JOHN IX GIVE MAN IX NEW COAT\n",
      "   90: JOHN *GIVE1 IX *IX *GIVE1 *VIDEOTAPE                          JOHN GIVE IX SOMETHING-ONE WOMAN BOOK\n",
      "   92: JOHN *IX IX *IX WOMAN BOOK                                    JOHN GIVE IX SOMETHING-ONE WOMAN BOOK\n",
      "  100: POSS NEW *HOUSE BREAK-DOWN                                    POSS NEW CAR BREAK-DOWN\n",
      "  105: *FRANK *FRANK                                                 JOHN LEG\n",
      "  107: *LIKE *IX *HAVE *VISIT *WHO                                   JOHN POSS FRIEND HAVE CANDY\n",
      "  108: *MARY ARRIVE                                                  WOMAN ARRIVE\n",
      "  113: IX CAR *IX *IX *ARRIVE                                        IX CAR BLUE SUE BUY\n",
      "  119: *VEGETABLE *BUY1 IX *HAVE *IX                                 SUE BUY IX CAR BLUE\n",
      "  122: JOHN *HOUSE BOOK                                              JOHN READ BOOK\n",
      "  139: JOHN *BUY1 *DECIDE YESTERDAY BOOK                             JOHN BUY WHAT YESTERDAY BOOK\n",
      "  142: *FRANK *NEW YESTERDAY *CAR BOOK                               JOHN BUY YESTERDAY WHAT BOOK\n",
      "  158: LOVE JOHN *TELL                                               LOVE JOHN WHO\n",
      "  167: JOHN IX *MARY *WOMAN *VISIT                                   JOHN IX SAY LOVE MARY\n",
      "  171: *IX *IX BLAME                                                 JOHN MARY BLAME\n",
      "  174: *CAN *GIVE1 GIVE1 *GIRL *WHAT                                 PEOPLE GROUP GIVE1 JANA TOY\n",
      "  181: *SUE ARRIVE                                                   JOHN ARRIVE\n",
      "  184: *IX *YESTERDAY *BLAME TEACHER *GIRL                           ALL BOY GIVE TEACHER APPLE\n",
      "  189: JOHN *IX *YESTERDAY *ARRIVE                                   JOHN GIVE GIRL BOX\n",
      "  193: JOHN *GIVE1 *YESTERDAY BOX                                    JOHN GIVE GIRL BOX\n",
      "  199: *FRANK CHOCOLATE *FRANK                                       LIKE CHOCOLATE WHO\n",
      "  201: JOHN *SHOULD *GIVE *LOVE BUY HOUSE                            JOHN TELL MARY IX-1P BUY HOUSE\n",
      "features polar, selector CV: duration 102.16173385898583 \n",
      "features polar, selector BIC \n",
      "\n",
      "**** WER = 0.5224719101123596\n",
      "Total correct: 85 out of 178\n",
      "Video  Recognized                                                    Correct\n",
      "=====================================================================================================\n",
      "    2: *GO *BROTHER *GIVE1                                           JOHN WRITE HOMEWORK\n",
      "    7: JOHN *BOX GO *ARRIVE                                          JOHN CAN GO CAN\n",
      "   12: JOHN *WHAT *JOHN CAN                                          JOHN CAN GO CAN\n",
      "   21: JOHN *ARRIVE WONT *PREFER *GIVE1 *TEACHER *FUTURE *WHO        JOHN FISH WONT EAT BUT CAN EAT CHICKEN\n",
      "   25: JOHN LIKE IX *WHO IX                                          JOHN LIKE IX IX IX\n",
      "   28: JOHN *WHO IX *WHO IX                                          JOHN LIKE IX IX IX\n",
      "   30: JOHN LIKE *MARY *MARY *MARY                                   JOHN LIKE IX IX IX\n",
      "   36: MARY VEGETABLE *GIVE *GIVE *MARY *MARY                        MARY VEGETABLE KNOW IX LIKE CORN1\n",
      "   40: JOHN *GO *MARY *JOHN *MARY                                    JOHN IX THINK MARY LOVE\n",
      "   43: JOHN *JOHN BUY HOUSE                                          JOHN MUST BUY HOUSE\n",
      "   50: *JOHN *SEE BUY CAR *JOHN                                      FUTURE JOHN BUY CAR SHOULD\n",
      "   54: JOHN SHOULD *WHO BUY HOUSE                                    JOHN SHOULD NOT BUY HOUSE\n",
      "   57: *MARY *VISIT VISIT MARY                                       JOHN DECIDE VISIT MARY\n",
      "   67: *SHOULD FUTURE *MARY BUY HOUSE                                JOHN FUTURE NOT BUY HOUSE\n",
      "   71: JOHN *FUTURE *GIVE1 MARY                                      JOHN WILL VISIT MARY\n",
      "   74: *IX *CORN VISIT *VISIT                                        JOHN NOT VISIT MARY\n",
      "   77: *JOHN BLAME MARY                                              ANN BLAME MARY\n",
      "   84: *HOMEWORK *GIVE1 *GIVE1 *COAT                                 IX-1P FIND SOMETHING-ONE BOOK\n",
      "   89: JOHN *SHOULD GIVE *IX IX *ARRIVE *BOOK                        JOHN IX GIVE MAN IX NEW COAT\n",
      "   90: JOHN *HAVE IX SOMETHING-ONE *GO *VIDEOTAPE                    JOHN GIVE IX SOMETHING-ONE WOMAN BOOK\n",
      "   92: JOHN GIVE IX *IX *IX BOOK                                     JOHN GIVE IX SOMETHING-ONE WOMAN BOOK\n",
      "  100: POSS NEW CAR BREAK-DOWN                                       POSS NEW CAR BREAK-DOWN\n",
      "  105: JOHN *SEE                                                     JOHN LEG\n",
      "  107: JOHN *IX *HAVE *GO *GO                                        JOHN POSS FRIEND HAVE CANDY\n",
      "  108: *JOHN *BOOK                                                   WOMAN ARRIVE\n",
      "  113: IX CAR *IX *IX *BUY1                                          IX CAR BLUE SUE BUY\n",
      "  119: *VISIT *BUY1 IX *BLAME *GO                                    SUE BUY IX CAR BLUE\n",
      "  122: JOHN *GIVE1 BOOK                                              JOHN READ BOOK\n",
      "  139: JOHN *BUY1 WHAT *JOHN BOOK                                    JOHN BUY WHAT YESTERDAY BOOK\n",
      "  142: JOHN BUY YESTERDAY WHAT BOOK                                  JOHN BUY YESTERDAY WHAT BOOK\n",
      "  158: LOVE JOHN WHO                                                 LOVE JOHN WHO\n",
      "  167: JOHN IX *VISIT LOVE MARY                                      JOHN IX SAY LOVE MARY\n",
      "  171: JOHN *IX BLAME                                                JOHN MARY BLAME\n",
      "  174: *JOHN *JOHN GIVE1 *YESTERDAY *JOHN                            PEOPLE GROUP GIVE1 JANA TOY\n",
      "  181: *GO ARRIVE                                                    JOHN ARRIVE\n",
      "  184: *IX BOY *GIVE1 TEACHER *YESTERDAY                             ALL BOY GIVE TEACHER APPLE\n",
      "  189: *MARY *MARY *YESTERDAY BOX                                    JOHN GIVE GIRL BOX\n",
      "  193: JOHN *HAVE *YESTERDAY BOX                                     JOHN GIVE GIRL BOX\n",
      "  199: *JOHN *STUDENT *GO                                            LIKE CHOCOLATE WHO\n",
      "  201: JOHN *MARY *LOVE *WOMAN BUY HOUSE                             JOHN TELL MARY IX-1P BUY HOUSE\n",
      "features polar, selector BIC: duration 67.97653156300657 \n",
      "features polar, selector DIC \n",
      "\n",
      "**** WER = 0.5561797752808989\n",
      "Total correct: 79 out of 178\n",
      "Video  Recognized                                                    Correct\n",
      "=====================================================================================================\n",
      "    2: *GO WRITE *GIVE1                                              JOHN WRITE HOMEWORK\n",
      "    7: *SOMETHING-ONE *PEOPLE GO *WHAT                               JOHN CAN GO CAN\n",
      "   12: *IX *CAR *WHAT CAN                                            JOHN CAN GO CAN\n",
      "   21: JOHN *NEW WONT *PREFER *TEACHER *TEACHER *CAN *WHO            JOHN FISH WONT EAT BUT CAN EAT CHICKEN\n",
      "   25: JOHN LIKE IX *WHO IX                                          JOHN LIKE IX IX IX\n",
      "   28: JOHN *WHO IX *WHO IX                                          JOHN LIKE IX IX IX\n",
      "   30: *GO LIKE *MARY *MARY IX                                       JOHN LIKE IX IX IX\n",
      "   36: *VISIT *EAT *GIVE *GIVE *MARY *MARY                           MARY VEGETABLE KNOW IX LIKE CORN1\n",
      "   40: JOHN *VISIT *DECIDE *JOHN *MARY                               JOHN IX THINK MARY LOVE\n",
      "   43: JOHN *SHOULD BUY HOUSE                                        JOHN MUST BUY HOUSE\n",
      "   50: *JOHN *SEE BUY CAR *JOHN                                      FUTURE JOHN BUY CAR SHOULD\n",
      "   54: JOHN SHOULD *MARY BUY HOUSE                                   JOHN SHOULD NOT BUY HOUSE\n",
      "   57: *MARY *VISIT VISIT MARY                                       JOHN DECIDE VISIT MARY\n",
      "   67: JOHN *MOTHER *WHO BUY HOUSE                                   JOHN FUTURE NOT BUY HOUSE\n",
      "   71: JOHN WILL *GIVE1 MARY                                         JOHN WILL VISIT MARY\n",
      "   74: JOHN *VISIT VISIT MARY                                        JOHN NOT VISIT MARY\n",
      "   77: *JOHN BLAME *LOVE                                             ANN BLAME MARY\n",
      "   84: *HOMEWORK *BUY *BROTHER BOOK                                  IX-1P FIND SOMETHING-ONE BOOK\n",
      "   89: *MARY *GIVE *WOMAN *IX IX *BUY *BOOK                          JOHN IX GIVE MAN IX NEW COAT\n",
      "   90: JOHN *IX *SOMETHING-ONE SOMETHING-ONE WOMAN *ARRIVE           JOHN GIVE IX SOMETHING-ONE WOMAN BOOK\n",
      "   92: JOHN *WOMAN *WOMAN *WOMAN WOMAN BOOK                          JOHN GIVE IX SOMETHING-ONE WOMAN BOOK\n",
      "  100: *IX NEW CAR BREAK-DOWN                                        POSS NEW CAR BREAK-DOWN\n",
      "  105: JOHN *SEE                                                     JOHN LEG\n",
      "  107: *MARY POSS *HAVE HAVE *EAT                                    JOHN POSS FRIEND HAVE CANDY\n",
      "  108: *MARY *BOOK                                                   WOMAN ARRIVE\n",
      "  113: IX CAR *POSS *POSS *BOX                                       IX CAR BLUE SUE BUY\n",
      "  119: *PREFER *BUY1 IX *BLAME *GO                                   SUE BUY IX CAR BLUE\n",
      "  122: JOHN *GIVE1 BOOK                                              JOHN READ BOOK\n",
      "  139: *SHOULD *BUY1 *BOX *MARY BOOK                                 JOHN BUY WHAT YESTERDAY BOOK\n",
      "  142: JOHN BUY YESTERDAY *TEACHER BOOK                              JOHN BUY YESTERDAY WHAT BOOK\n",
      "  158: LOVE JOHN WHO                                                 LOVE JOHN WHO\n",
      "  167: *MARY *POSS *VISIT LOVE MARY                                  JOHN IX SAY LOVE MARY\n",
      "  171: JOHN *POSS BLAME                                              JOHN MARY BLAME\n",
      "  174: *JOHN *GIVE3 GIVE1 *YESTERDAY *WHAT                           PEOPLE GROUP GIVE1 JANA TOY\n",
      "  181: *EAT ARRIVE                                                   JOHN ARRIVE\n",
      "  184: *IX BOY *GIVE1 TEACHER *YESTERDAY                             ALL BOY GIVE TEACHER APPLE\n",
      "  189: JOHN *VISIT *YESTERDAY BOX                                    JOHN GIVE GIRL BOX\n",
      "  193: JOHN *IX *YESTERDAY BOX                                       JOHN GIVE GIRL BOX\n",
      "  199: *HOMEWORK *VIDEOTAPE WHO                                      LIKE CHOCOLATE WHO\n",
      "  201: JOHN *MAN *LOVE *LOVE BUY HOUSE                               JOHN TELL MARY IX-1P BUY HOUSE\n",
      "features polar, selector DIC: duration 181.39427184298984 \n",
      "features custom1, selector CV \n",
      "\n",
      "**** WER = 0.5955056179775281\n",
      "Total correct: 72 out of 178\n",
      "Video  Recognized                                                    Correct\n",
      "=====================================================================================================\n",
      "    2: *IX *IX *BOOK                                                 JOHN WRITE HOMEWORK\n",
      "    7: JOHN *HAVE *IX *DECIDE                                        JOHN CAN GO CAN\n",
      "   12: JOHN CAN *GO1 CAN                                             JOHN CAN GO CAN\n",
      "   21: JOHN *MARY *IX *MARY *CAR *FUTURE *FUTURE *MARY               JOHN FISH WONT EAT BUT CAN EAT CHICKEN\n",
      "   25: JOHN *IX IX IX IX                                             JOHN LIKE IX IX IX\n",
      "   28: JOHN *MARY *MARY IX IX                                        JOHN LIKE IX IX IX\n",
      "   30: JOHN *MARY *MARY IX IX                                        JOHN LIKE IX IX IX\n",
      "   36: MARY *JOHN *APPLE IX *MARY *MARY                              MARY VEGETABLE KNOW IX LIKE CORN1\n",
      "   40: JOHN IX *JOHN *WHO *STOLEN                                    JOHN IX THINK MARY LOVE\n",
      "   43: JOHN *IX BUY HOUSE                                            JOHN MUST BUY HOUSE\n",
      "   50: *JOHN *SOMETHING-ONE *STUDENT CAR *FUTURE                     FUTURE JOHN BUY CAR SHOULD\n",
      "   54: JOHN SHOULD *JOHN BUY HOUSE                                   JOHN SHOULD NOT BUY HOUSE\n",
      "   57: *WHO *IX *WOMAN *IX                                           JOHN DECIDE VISIT MARY\n",
      "   67: JOHN *IX *APPLE BUY HOUSE                                     JOHN FUTURE NOT BUY HOUSE\n",
      "   71: JOHN *SOMETHING-ONE VISIT *GO1                                JOHN WILL VISIT MARY\n",
      "   74: JOHN *IX *IX MARY                                             JOHN NOT VISIT MARY\n",
      "   77: *JOHN BLAME MARY                                              ANN BLAME MARY\n",
      "   84: *JOHN *GO *FUTURE BOOK                                        IX-1P FIND SOMETHING-ONE BOOK\n",
      "   89: *THROW IX *THROW *THROW *BROTHER *CAR COAT                    JOHN IX GIVE MAN IX NEW COAT\n",
      "   90: *MARY *GIRL IX *IX WOMAN *LOVE                                JOHN GIVE IX SOMETHING-ONE WOMAN BOOK\n",
      "   92: JOHN *IX IX *IX WOMAN *CAR                                    JOHN GIVE IX SOMETHING-ONE WOMAN BOOK\n",
      "  100: *IX NEW CAR BREAK-DOWN                                        POSS NEW CAR BREAK-DOWN\n",
      "  105: JOHN *MARY                                                    JOHN LEG\n",
      "  107: JOHN *IX *HAVE HAVE *JOHN                                     JOHN POSS FRIEND HAVE CANDY\n",
      "  108: *IX *STUDENT                                                  WOMAN ARRIVE\n",
      "  113: *JOHN *PEOPLE *MARY *JOHN *BUY1                               IX CAR BLUE SUE BUY\n",
      "  119: *JOHN *BUY1 IX CAR *IX                                        SUE BUY IX CAR BLUE\n",
      "  122: JOHN *GIVE1 *CAR                                              JOHN READ BOOK\n",
      "  139: JOHN *BUY1 *HOUSE *WHO *HERE                                  JOHN BUY WHAT YESTERDAY BOOK\n",
      "  142: JOHN BUY YESTERDAY WHAT *YESTERDAY                            JOHN BUY YESTERDAY WHAT BOOK\n",
      "  158: LOVE *MARY *MARY                                              LOVE JOHN WHO\n",
      "  167: JOHN *SEE *IX *CAN *GO1                                       JOHN IX SAY LOVE MARY\n",
      "  171: JOHN MARY BLAME                                               JOHN MARY BLAME\n",
      "  174: PEOPLE *LOVE GIVE1 *MARY *CAR                                 PEOPLE GROUP GIVE1 JANA TOY\n",
      "  181: JOHN ARRIVE                                                   JOHN ARRIVE\n",
      "  184: *BROTHER *BROTHER *GIVE1 TEACHER *MARY                        ALL BOY GIVE TEACHER APPLE\n",
      "  189: JOHN *IX *MARY *BOOK                                          JOHN GIVE GIRL BOX\n",
      "  193: *IX *IX *APPLE BOX                                            JOHN GIVE GIRL BOX\n",
      "  199: *JOHN *ARRIVE *MARY                                           LIKE CHOCOLATE WHO\n",
      "  201: JOHN *BILL *WHO *JOHN *NEW HOUSE                              JOHN TELL MARY IX-1P BUY HOUSE\n",
      "features custom1, selector CV: duration 163.87206822200096 \n",
      "features custom1, selector BIC \n",
      "\n",
      "**** WER = 0.6067415730337079\n",
      "Total correct: 70 out of 178\n",
      "Video  Recognized                                                    Correct\n",
      "=====================================================================================================\n",
      "    2: JOHN *IX HOMEWORK                                             JOHN WRITE HOMEWORK\n",
      "    7: JOHN *NEW *GIVE *STUDENT                                      JOHN CAN GO CAN\n",
      "   12: JOHN *BOX *GO1 CAN                                            JOHN CAN GO CAN\n",
      "   21: JOHN *MARY *FUTURE *MARY *CAR *FUTURE *FUTURE *MARY           JOHN FISH WONT EAT BUT CAN EAT CHICKEN\n",
      "   25: JOHN *IX IX IX IX                                             JOHN LIKE IX IX IX\n",
      "   28: JOHN *MARY *MARY IX IX                                        JOHN LIKE IX IX IX\n",
      "   30: JOHN *MARY IX *JOHN IX                                        JOHN LIKE IX IX IX\n",
      "   36: MARY *JOHN *FUTURE IX *MARY *MARY                             MARY VEGETABLE KNOW IX LIKE CORN1\n",
      "   40: JOHN IX *JOHN MARY *MARY                                      JOHN IX THINK MARY LOVE\n",
      "   43: JOHN *SHOULD BUY HOUSE                                        JOHN MUST BUY HOUSE\n",
      "   50: *JOHN *SOMETHING-ONE BUY CAR *MARY                            FUTURE JOHN BUY CAR SHOULD\n",
      "   54: JOHN *IX *JOHN BUY HOUSE                                      JOHN SHOULD NOT BUY HOUSE\n",
      "   57: *MARY *IX *GIVE *IX                                           JOHN DECIDE VISIT MARY\n",
      "   67: JOHN FUTURE *IX-1P BUY *BOOK                                  JOHN FUTURE NOT BUY HOUSE\n",
      "   71: JOHN *SOMETHING-ONE VISIT *CAR                                JOHN WILL VISIT MARY\n",
      "   74: JOHN *IX *IX *IX                                              JOHN NOT VISIT MARY\n",
      "   77: *JOHN BLAME MARY                                              ANN BLAME MARY\n",
      "   84: *JOHN *GIVE1 *IX BOOK                                         IX-1P FIND SOMETHING-ONE BOOK\n",
      "   89: *LIKE IX *IX *GO *GO *CAR *BOOK                               JOHN IX GIVE MAN IX NEW COAT\n",
      "   90: JOHN *IX IX *IX *IX *LOVE                                     JOHN GIVE IX SOMETHING-ONE WOMAN BOOK\n",
      "   92: JOHN *IX IX *IX WOMAN *CAR                                    JOHN GIVE IX SOMETHING-ONE WOMAN BOOK\n",
      "  100: *IX NEW CAR *HOUSE                                            POSS NEW CAR BREAK-DOWN\n",
      "  105: JOHN *MARY                                                    JOHN LEG\n",
      "  107: JOHN *JOHN *ARRIVE HAVE *JOHN                                 JOHN POSS FRIEND HAVE CANDY\n",
      "  108: *IX *STUDENT                                                  WOMAN ARRIVE\n",
      "  113: *JOHN *PEOPLE *MARY *IX *GIVE1                                IX CAR BLUE SUE BUY\n",
      "  119: *JOHN *BUY1 IX *PEOPLE *HAVE                                  SUE BUY IX CAR BLUE\n",
      "  122: JOHN *GIVE1 *CAR                                              JOHN READ BOOK\n",
      "  139: JOHN *HAVE WHAT *JOHN *MARY                                   JOHN BUY WHAT YESTERDAY BOOK\n",
      "  142: JOHN BUY YESTERDAY *MARY *MARY                                JOHN BUY YESTERDAY WHAT BOOK\n",
      "  158: LOVE JOHN *JOHN                                               LOVE JOHN WHO\n",
      "  167: JOHN *VISIT *IX *PEOPLE *GO1                                  JOHN IX SAY LOVE MARY\n",
      "  171: JOHN *JOHN BLAME                                              JOHN MARY BLAME\n",
      "  174: *GIVE1 *JOHN GIVE1 *MARY *CAR                                 PEOPLE GROUP GIVE1 JANA TOY\n",
      "  181: JOHN ARRIVE                                                   JOHN ARRIVE\n",
      "  184: ALL *JOHN *GIVE1 TEACHER *MARY                                ALL BOY GIVE TEACHER APPLE\n",
      "  189: JOHN *IX *IX *ARRIVE                                          JOHN GIVE GIRL BOX\n",
      "  193: *IX *IX *HOUSE BOX                                            JOHN GIVE GIRL BOX\n",
      "  199: *JOHN *ARRIVE *MARY                                           LIKE CHOCOLATE WHO\n",
      "  201: JOHN *MARY *WHO *POSS *NEW HOUSE                              JOHN TELL MARY IX-1P BUY HOUSE\n",
      "features custom1, selector BIC: duration 105.65002101901337 \n",
      "features custom1, selector DIC \n",
      "\n",
      "**** WER = 0.5898876404494382\n",
      "Total correct: 73 out of 178\n",
      "Video  Recognized                                                    Correct\n",
      "=====================================================================================================\n",
      "    2: JOHN *LOVE HOMEWORK                                           JOHN WRITE HOMEWORK\n",
      "    7: JOHN *STUDENT GO *STUDENT                                     JOHN CAN GO CAN\n",
      "   12: JOHN CAN *GO1 CAN                                             JOHN CAN GO CAN\n",
      "   21: JOHN *MARY *HOMEWORK *MARY BUT *FUTURE *FUTURE *MARY          JOHN FISH WONT EAT BUT CAN EAT CHICKEN\n",
      "   25: JOHN *IX IX IX IX                                             JOHN LIKE IX IX IX\n",
      "   28: JOHN *MARY *MARY IX IX                                        JOHN LIKE IX IX IX\n",
      "   30: JOHN *MARY IX *JOHN IX                                        JOHN LIKE IX IX IX\n",
      "   36: *JOHN *JOHN *IX IX *MARY *MARY                                MARY VEGETABLE KNOW IX LIKE CORN1\n",
      "   40: JOHN IX *JOHN *WHO *CHOCOLATE                                 JOHN IX THINK MARY LOVE\n",
      "   43: JOHN *SHOULD *BUT HOUSE                                       JOHN MUST BUY HOUSE\n",
      "   50: *JOHN *VEGETABLE BUY CAR *MARY                                FUTURE JOHN BUY CAR SHOULD\n",
      "   54: JOHN *IX *JOHN BUY *HOMEWORK                                  JOHN SHOULD NOT BUY HOUSE\n",
      "   57: JOHN *JOHN *GIVE *IX                                          JOHN DECIDE VISIT MARY\n",
      "   67: JOHN *IX *HOMEWORK BUY *VIDEOTAPE                             JOHN FUTURE NOT BUY HOUSE\n",
      "   71: JOHN *MARY *STUDENT *HOMEWORK                                 JOHN WILL VISIT MARY\n",
      "   74: JOHN *IX *GIVE MARY                                           JOHN NOT VISIT MARY\n",
      "   77: *JOHN BLAME MARY                                              ANN BLAME MARY\n",
      "   84: *JOHN *GIVE1 *IX *BLAME                                       IX-1P FIND SOMETHING-ONE BOOK\n",
      "   89: *THROW IX *IX *THROW IX NEW *STUDENT                          JOHN IX GIVE MAN IX NEW COAT\n",
      "   90: JOHN GIVE IX *IX *IX *JOHN                                    JOHN GIVE IX SOMETHING-ONE WOMAN BOOK\n",
      "   92: JOHN *IX IX *IX *POSS *CAR                                    JOHN GIVE IX SOMETHING-ONE WOMAN BOOK\n",
      "  100: *IX NEW CAR BREAK-DOWN                                        POSS NEW CAR BREAK-DOWN\n",
      "  105: JOHN *MARY                                                    JOHN LEG\n",
      "  107: JOHN *IX FRIEND *MARY *JOHN                                   JOHN POSS FRIEND HAVE CANDY\n",
      "  108: *IX *STUDENT                                                  WOMAN ARRIVE\n",
      "  113: *JOHN CAR *MARY *JOHN *GIVE1                                  IX CAR BLUE SUE BUY\n",
      "  119: *JOHN *BUY1 IX CAR *MARY                                      SUE BUY IX CAR BLUE\n",
      "  122: JOHN *GIVE1 *CAR                                              JOHN READ BOOK\n",
      "  139: JOHN *BOY WHAT *WHO *CAR                                      JOHN BUY WHAT YESTERDAY BOOK\n",
      "  142: JOHN BUY *GO1 WHAT *ARRIVE                                    JOHN BUY YESTERDAY WHAT BOOK\n",
      "  158: LOVE *MARY *JOHN                                              LOVE JOHN WHO\n",
      "  167: JOHN *GIVE *IX LOVE *CHOCOLATE                                JOHN IX SAY LOVE MARY\n",
      "  171: JOHN *JOHN BLAME                                              JOHN MARY BLAME\n",
      "  174: *GIVE1 *JOHN GIVE1 *MARY *CAR                                 PEOPLE GROUP GIVE1 JANA TOY\n",
      "  181: JOHN ARRIVE                                                   JOHN ARRIVE\n",
      "  184: ALL *HAVE *GIVE1 TEACHER *MARY                                ALL BOY GIVE TEACHER APPLE\n",
      "  189: JOHN *IX *MARY *BOOK                                          JOHN GIVE GIRL BOX\n",
      "  193: *IX *IX *NOT BOX                                              JOHN GIVE GIRL BOX\n",
      "  199: *JOHN *JOHN *MARY                                             LIKE CHOCOLATE WHO\n",
      "  201: JOHN *MARY *WHO *POSS *NEW HOUSE                              JOHN TELL MARY IX-1P BUY HOUSE\n",
      "features custom1, selector DIC: duration 216.2940766410029 \n",
      "features custom2, selector CV \n",
      "\n",
      "**** WER = 0.5674157303370787\n",
      "Total correct: 77 out of 178\n",
      "Video  Recognized                                                    Correct\n",
      "=====================================================================================================\n",
      "    2: JOHN *ARRIVE *LOVE                                            JOHN WRITE HOMEWORK\n",
      "    7: JOHN *HAVE *IX *BOX                                           JOHN CAN GO CAN\n",
      "   12: JOHN CAN *GO1 *WHAT                                           JOHN CAN GO CAN\n",
      "   21: JOHN *ARRIVE *JOHN *WHO *BLAME *CAR *MARY *MARY               JOHN FISH WONT EAT BUT CAN EAT CHICKEN\n",
      "   25: JOHN LIKE *FRANK *LIKE *MARY                                  JOHN LIKE IX IX IX\n",
      "   28: JOHN *WHO *FRANK *LIKE *MARY                                  JOHN LIKE IX IX IX\n",
      "   30: JOHN *MARY *SHOULD *THROW *LOVE                               JOHN LIKE IX IX IX\n",
      "   36: MARY *JANA *APPLE *GIVE *MARY *MARY                           MARY VEGETABLE KNOW IX LIKE CORN1\n",
      "   40: JOHN *GIVE *WHO *JOHN *MARY                                   JOHN IX THINK MARY LOVE\n",
      "   43: JOHN *NOT BUY HOUSE                                           JOHN MUST BUY HOUSE\n",
      "   50: *JOHN *NOT BUY CAR *MARY                                      FUTURE JOHN BUY CAR SHOULD\n",
      "   54: *WHO *FRANK *FUTURE BUY HOUSE                                 JOHN SHOULD NOT BUY HOUSE\n",
      "   57: JOHN *WHO *GIVE *NOT                                          JOHN DECIDE VISIT MARY\n",
      "   67: JOHN FUTURE NOT BUY HOUSE                                     JOHN FUTURE NOT BUY HOUSE\n",
      "   71: JOHN *FUTURE *BUY MARY                                        JOHN WILL VISIT MARY\n",
      "   74: JOHN NOT *MARY MARY                                           JOHN NOT VISIT MARY\n",
      "   77: *JOHN BLAME MARY                                              ANN BLAME MARY\n",
      "   84: *MARY *GIVE1 *IX BOOK                                         IX-1P FIND SOMETHING-ONE BOOK\n",
      "   89: *SOMETHING-ONE *NOT GIVE *WOMAN IX NEW *HOUSE                 JOHN IX GIVE MAN IX NEW COAT\n",
      "   90: *WHO *GIVE1 IX *IX WOMAN BOOK                                 JOHN GIVE IX SOMETHING-ONE WOMAN BOOK\n",
      "   92: JOHN GIVE IX *IX WOMAN BOOK                                   JOHN GIVE IX SOMETHING-ONE WOMAN BOOK\n",
      "  100: *JOHN NEW CAR BREAK-DOWN                                      POSS NEW CAR BREAK-DOWN\n",
      "  105: JOHN *WHO                                                     JOHN LEG\n",
      "  107: JOHN *GIVE *READ *JOHN *JOHN                                  JOHN POSS FRIEND HAVE CANDY\n",
      "  108: WOMAN ARRIVE                                                  WOMAN ARRIVE\n",
      "  113: *JOHN CAR *JOHN *JOHN *BUY1                                   IX CAR BLUE SUE BUY\n",
      "  119: *WHO *BUY1 IX CAR *GIVE                                       SUE BUY IX CAR BLUE\n",
      "  122: *FUTURE READ BOOK                                             JOHN READ BOOK\n",
      "  139: JOHN *NEW WHAT *CAR BOOK                                      JOHN BUY WHAT YESTERDAY BOOK\n",
      "  142: JOHN *STUDENT *MARY WHAT BOOK                                 JOHN BUY YESTERDAY WHAT BOOK\n",
      "  158: LOVE JOHN WHO                                                 LOVE JOHN WHO\n",
      "  167: JOHN *JOHN *TELL *LIKE *POSS                                  JOHN IX SAY LOVE MARY\n",
      "  171: *SHOULD *JOHN BLAME                                           JOHN MARY BLAME\n",
      "  174: *CAR *CAR GIVE1 *WHO *BOX                                     PEOPLE GROUP GIVE1 JANA TOY\n",
      "  181: *SUE ARRIVE                                                   JOHN ARRIVE\n",
      "  184: ALL *IX *GIVE1 *CAR APPLE                                     ALL BOY GIVE TEACHER APPLE\n",
      "  189: JOHN *APPLE *WHO *CAR                                         JOHN GIVE GIRL BOX\n",
      "  193: JOHN GIVE *WOMAN BOX                                          JOHN GIVE GIRL BOX\n",
      "  199: *MARY CHOCOLATE *MARY                                         LIKE CHOCOLATE WHO\n",
      "  201: *FUTURE *MARY *WHO *NOT BUY HOUSE                             JOHN TELL MARY IX-1P BUY HOUSE\n",
      "features custom2, selector CV: duration 149.77394112799084 \n",
      "features custom2, selector BIC \n",
      "\n",
      "**** WER = 0.5561797752808989\n",
      "Total correct: 79 out of 178\n",
      "Video  Recognized                                                    Correct\n",
      "=====================================================================================================\n",
      "    2: JOHN *ARRIVE *JOHN                                            JOHN WRITE HOMEWORK\n",
      "    7: JOHN *HAVE GO *BOX                                            JOHN CAN GO CAN\n",
      "   12: JOHN CAN *WHAT CAN                                            JOHN CAN GO CAN\n",
      "   21: *MARY *ARRIVE *MARY *MARY *CAR *WHAT *FUTURE *IX              JOHN FISH WONT EAT BUT CAN EAT CHICKEN\n",
      "   25: *ANN LIKE *MARY *JOHN *MARY                                   JOHN LIKE IX IX IX\n",
      "   28: *ANN *WHO *LOVE *JOHN *MARY                                   JOHN LIKE IX IX IX\n",
      "   30: JOHN *IX *FUTURE IX *LOVE                                     JOHN LIKE IX IX IX\n",
      "   36: *IX *SUE *YESTERDAY *GO *YESTERDAY *MARY                      MARY VEGETABLE KNOW IX LIKE CORN1\n",
      "   40: JOHN IX *WHO MARY *MARY                                       JOHN IX THINK MARY LOVE\n",
      "   43: JOHN *IX BUY HOUSE                                            JOHN MUST BUY HOUSE\n",
      "   50: *JOHN *SEE BUY *HOUSE *WOMAN                                  FUTURE JOHN BUY CAR SHOULD\n",
      "   54: JOHN *FRANK *FUTURE BUY HOUSE                                 JOHN SHOULD NOT BUY HOUSE\n",
      "   57: JOHN *WHO *GIVE *WHO                                          JOHN DECIDE VISIT MARY\n",
      "   67: JOHN FUTURE *SHOULD BUY HOUSE                                 JOHN FUTURE NOT BUY HOUSE\n",
      "   71: JOHN *FUTURE *GO MARY                                         JOHN WILL VISIT MARY\n",
      "   74: JOHN *FUTURE *IX MARY                                         JOHN NOT VISIT MARY\n",
      "   77: ANN BLAME MARY                                                ANN BLAME MARY\n",
      "   84: *JOHN *GIVE1 *YESTERDAY BOOK                                  IX-1P FIND SOMETHING-ONE BOOK\n",
      "   89: JOHN IX GIVE *WOMAN IX NEW *HOUSE                             JOHN IX GIVE MAN IX NEW COAT\n",
      "   90: *WHO *IX IX *IX WOMAN BOOK                                    JOHN GIVE IX SOMETHING-ONE WOMAN BOOK\n",
      "   92: JOHN GIVE IX *IX WOMAN BOOK                                   JOHN GIVE IX SOMETHING-ONE WOMAN BOOK\n",
      "  100: POSS NEW CAR *BOOK                                            POSS NEW CAR BREAK-DOWN\n",
      "  105: JOHN *MARY                                                    JOHN LEG\n",
      "  107: JOHN *IX *CAR *YESTERDAY *JOHN                                JOHN POSS FRIEND HAVE CANDY\n",
      "  108: WOMAN *NEW                                                    WOMAN ARRIVE\n",
      "  113: *JOHN CAR *JOHN *SHOULD *ARRIVE                               IX CAR BLUE SUE BUY\n",
      "  119: *WHO *BUY1 IX CAR *IX                                         SUE BUY IX CAR BLUE\n",
      "  122: JOHN *GIVE1 BOOK                                              JOHN READ BOOK\n",
      "  139: JOHN *ARRIVE WHAT *JOHN BOOK                                  JOHN BUY WHAT YESTERDAY BOOK\n",
      "  142: *ANN BUY YESTERDAY WHAT BOOK                                  JOHN BUY YESTERDAY WHAT BOOK\n",
      "  158: LOVE JOHN WHO                                                 LOVE JOHN WHO\n",
      "  167: JOHN IX *VISIT LOVE *SOMETHING-ONE                            JOHN IX SAY LOVE MARY\n",
      "  171: *MARY *JOHN BLAME                                             JOHN MARY BLAME\n",
      "  174: *GIVE1 *CAR GIVE1 *WHO *BLAME                                 PEOPLE GROUP GIVE1 JANA TOY\n",
      "  181: *SUE ARRIVE                                                   JOHN ARRIVE\n",
      "  184: *IX BOY *GIVE1 *CAR *SOMETHING-ONE                            ALL BOY GIVE TEACHER APPLE\n",
      "  189: *SUE *POSS *WHO *GIVE1                                        JOHN GIVE GIRL BOX\n",
      "  193: JOHN *POSS *WOMAN BOX                                         JOHN GIVE GIRL BOX\n",
      "  199: *MARY CHOCOLATE WHO                                           LIKE CHOCOLATE WHO\n",
      "  201: *SOMETHING-ONE *IX *IX *IX BUY HOUSE                          JOHN TELL MARY IX-1P BUY HOUSE\n",
      "features custom2, selector BIC: duration 99.97481664898805 \n",
      "features custom2, selector DIC \n",
      "\n",
      "**** WER = 0.5168539325842697\n",
      "Total correct: 86 out of 178\n",
      "Video  Recognized                                                    Correct\n",
      "=====================================================================================================\n",
      "    2: JOHN *ARRIVE *LOVE                                            JOHN WRITE HOMEWORK\n",
      "    7: JOHN *CAR GO *BOX                                             JOHN CAN GO CAN\n",
      "   12: JOHN CAN *GO1 *SELL                                           JOHN CAN GO CAN\n",
      "   21: JOHN *VIDEOTAPE *JOHN *WHO *CAR *CAR *FUTURE *LIKE            JOHN FISH WONT EAT BUT CAN EAT CHICKEN\n",
      "   25: *ANN LIKE *GO IX *LOVE                                        JOHN LIKE IX IX IX\n",
      "   28: *ANN *MARY *MARY IX IX                                        JOHN LIKE IX IX IX\n",
      "   30: JOHN LIKE *NOT *THROW *LOVE                                   JOHN LIKE IX IX IX\n",
      "   36: *JOHN *JOHN *YESTERDAY *MAN *YESTERDAY *MARY                  MARY VEGETABLE KNOW IX LIKE CORN1\n",
      "   40: JOHN *VISIT *WHO MARY *MARY                                   JOHN IX THINK MARY LOVE\n",
      "   43: JOHN *NOT BUY HOUSE                                           JOHN MUST BUY HOUSE\n",
      "   50: *JOHN *PREFER BUY *HOUSE *WOMAN                               FUTURE JOHN BUY CAR SHOULD\n",
      "   54: JOHN *FUTURE *FRANK BUY HOUSE                                 JOHN SHOULD NOT BUY HOUSE\n",
      "   57: JOHN *WHO *GIVE *WOMAN                                        JOHN DECIDE VISIT MARY\n",
      "   67: JOHN FUTURE *SHOULD BUY HOUSE                                 JOHN FUTURE NOT BUY HOUSE\n",
      "   71: JOHN *FUTURE *GO MARY                                         JOHN WILL VISIT MARY\n",
      "   74: JOHN *GIVE1 *JOHN *BROTHER                                    JOHN NOT VISIT MARY\n",
      "   77: ANN BLAME MARY                                                ANN BLAME MARY\n",
      "   84: *JOHN *GIVE1 *YESTERDAY BOOK                                  IX-1P FIND SOMETHING-ONE BOOK\n",
      "   89: *SOMETHING-ONE *POSS GIVE *WOMAN IX NEW *HOUSE                JOHN IX GIVE MAN IX NEW COAT\n",
      "   90: JOHN *IX IX SOMETHING-ONE WOMAN BOOK                          JOHN GIVE IX SOMETHING-ONE WOMAN BOOK\n",
      "   92: JOHN GIVE IX *IX WOMAN BOOK                                   JOHN GIVE IX SOMETHING-ONE WOMAN BOOK\n",
      "  100: POSS NEW CAR BREAK-DOWN                                       POSS NEW CAR BREAK-DOWN\n",
      "  105: JOHN *WHO                                                     JOHN LEG\n",
      "  107: JOHN *EAT FRIEND *YESTERDAY *JOHN                             JOHN POSS FRIEND HAVE CANDY\n",
      "  108: WOMAN ARRIVE                                                  WOMAN ARRIVE\n",
      "  113: *JOHN CAR *JOHN *SHOULD *GIVE1                                IX CAR BLUE SUE BUY\n",
      "  119: SUE *BUY1 IX CAR *EAT                                         SUE BUY IX CAR BLUE\n",
      "  122: JOHN READ BOOK                                                JOHN READ BOOK\n",
      "  139: JOHN *NEW WHAT *JOHN BOOK                                     JOHN BUY WHAT YESTERDAY BOOK\n",
      "  142: *ANN BUY YESTERDAY *BOX BOOK                                  JOHN BUY YESTERDAY WHAT BOOK\n",
      "  158: LOVE JOHN WHO                                                 LOVE JOHN WHO\n",
      "  167: JOHN *JOHN *VISIT LOVE *POSS                                  JOHN IX SAY LOVE MARY\n",
      "  171: *MARY *JOHN BLAME                                             JOHN MARY BLAME\n",
      "  174: *CAR *HAVE GIVE1 *WHO *BOX                                    PEOPLE GROUP GIVE1 JANA TOY\n",
      "  181: *SUE ARRIVE                                                   JOHN ARRIVE\n",
      "  184: ALL BOY *GIVE1 TEACHER *SEE                                   ALL BOY GIVE TEACHER APPLE\n",
      "  189: *SUE *POSS *WHO *CAR                                          JOHN GIVE GIRL BOX\n",
      "  193: JOHN *POSS *SEE BOX                                           JOHN GIVE GIRL BOX\n",
      "  199: *JOHN CHOCOLATE *MARY                                         LIKE CHOCOLATE WHO\n",
      "  201: JOHN *MARY MARY *LOVE BUY HOUSE                               JOHN TELL MARY IX-1P BUY HOUSE\n",
      "features custom2, selector DIC: duration 205.10543598499498 \n"
     ]
    }
   ],
   "source": [
    "%autoreload 2\n",
    "from my_recognizer import recognize\n",
    "\n",
    "# TODO Choose a feature set and model selector\n",
    "feature_sets = {'gound':features_ground, 'norm': features_norm, 'polar': features_polar, 'custom1': features_custom, 'custom2': features_custom_2}\n",
    "selectors = {'CV': SelectorCV, 'BIC': SelectorBIC, 'DIC': SelectorDIC}\n",
    "\n",
    "for features_name, features in feature_sets.items():\n",
    "    for selector_name, model_selector in selectors.items():\n",
    "\n",
    "        print(f\"features {features_name}, selector {selector_name} \")\n",
    "        start = timeit.default_timer()\n",
    "        models = train_all_words(features, model_selector)\n",
    "        test_set = asl.build_test(features)\n",
    "        \n",
    "        probabilities, guesses = recognize(models, test_set)\n",
    "        seconds = timeit.default_timer()-start\n",
    "        show_errors(guesses, test_set)\n",
    "        print(f\"features {features_name}, selector {selector_name}: duration {seconds} \")\n"
   ]
  },
  {
   "cell_type": "markdown",
   "metadata": {},
   "source": [
    "|features|selector|WER| duration|\n",
    "|-------------- | ------------|--------------------------|----------------------------|\n",
    "| ground |  CV | 0.5730337078651685 | 93 |\n",
    "| ground |  BIC | 0.550561797752809 | 63 |\n",
    "| ground |  DIC | 0.5786516853932584 | 170 |\n",
    "| norm |  CV | 0.6629213483146067 | 109 |\n",
    "| norm |  BIC | 0.6348314606741573 | 90 |\n",
    "| norm |  DIC | 0.6235955056179775 | 214 |\n",
    "| polar |  CV | 0.6460674157303371 | 102 |\n",
    "| polar |  BIC | 0.5224719101123596 | 67 |\n",
    "| polar |  DIC | 0.5561797752808989 | 181 |\n",
    "| custom1 |  CV | 0.5955056179775281 | 163 |\n",
    "| custom1 |  BIC | 0.6067415730337079 | 105 |\n",
    "| custom1 |  DIC | 0.5898876404494382 | 216 |\n",
    "| custom2 |  CV | 0.5674157303370787 | 149 |\n",
    "| custom2 |  BIC | 0.5561797752808989 | 99 |\n",
    "| custom2 |  DIC | 0.5168539325842697 | 205 |\n"
   ]
  },
  {
   "cell_type": "markdown",
   "metadata": {
    "deletable": true,
    "editable": true
   },
   "source": [
    "**Question 3:**  Summarize the error results from three combinations of features and model selectors.  What was the \"best\" combination and why?  What additional information might we use to improve our WER?  For more insight on improving WER, take a look at the introduction to Part 4.\n",
    "\n",
    "**Answer 3:**\n",
    "- Best WER ( 0.51) using DIC and second set of custom features ( dx=right_x - left_x; dy = right_y - left_y; delta_dx, delta_dy)\n",
    "- selecting models with DIC is most often better ( better WER ) then selecting with CV or BIC\n",
    "- but, selecting with DIC is also significantly slower ( 2x times slower then DIC, 1.3x slower compared to BIC)\n",
    "- selecting with BIC is much faster compared to CV or DIC\n",
    "- To improve the WER we could use, as presented in the lectures, use statistical language model and language grammar."
   ]
  },
  {
   "cell_type": "markdown",
   "metadata": {
    "deletable": true,
    "editable": true
   },
   "source": [
    "<a id='part3_test'></a>\n",
    "### Recognizer Unit Tests\n",
    "Run the following unit tests as a sanity check on the defined recognizer.  The test simply looks for some valid values but is not exhaustive. However, the project should not be submitted if these tests don't pass."
   ]
  },
  {
   "cell_type": "code",
   "execution_count": 178,
   "metadata": {
    "collapsed": false,
    "deletable": true,
    "editable": true
   },
   "outputs": [
    {
     "name": "stderr",
     "output_type": "stream",
     "text": [
      "..\n",
      "----------------------------------------------------------------------\n",
      "Ran 2 tests in 37.916s\n",
      "\n",
      "OK\n"
     ]
    },
    {
     "data": {
      "text/plain": [
       "<unittest.runner.TextTestResult run=2 errors=0 failures=0>"
      ]
     },
     "execution_count": 178,
     "metadata": {},
     "output_type": "execute_result"
    }
   ],
   "source": [
    "from asl_test_recognizer import TestRecognize\n",
    "suite = unittest.TestLoader().loadTestsFromModule(TestRecognize())\n",
    "unittest.TextTestRunner().run(suite)"
   ]
  },
  {
   "cell_type": "markdown",
   "metadata": {
    "deletable": true,
    "editable": true
   },
   "source": [
    "<a id='part4_info'></a>\n",
    "## PART 4: (OPTIONAL)  Improve the WER with Language Models\n",
    "We've squeezed just about as much as we can out of the model and still only get about 50% of the words right! Surely we can do better than that.  Probability to the rescue again in the form of [statistical language models (SLM)](https://en.wikipedia.org/wiki/Language_model).  The basic idea is that each word has some probability of occurrence within the set, and some probability that it is adjacent to specific other words. We can use that additional information to make better choices.\n",
    "\n",
    "##### Additional reading and resources\n",
    "- [Introduction to N-grams (Stanford Jurafsky slides)](https://web.stanford.edu/class/cs124/lec/languagemodeling.pdf)\n",
    "- [Speech Recognition Techniques for a Sign Language Recognition System, Philippe Dreuw et al](https://www-i6.informatik.rwth-aachen.de/publications/download/154/Dreuw--2007.pdf) see the improved results of applying LM on *this* data!\n",
    "- [SLM data for *this* ASL dataset](ftp://wasserstoff.informatik.rwth-aachen.de/pub/rwth-boston-104/lm/)\n",
    "\n",
    "##### Optional challenge\n",
    "The recognizer you implemented in Part 3 is equivalent to a \"0-gram\" SLM.  Improve the WER with the SLM data provided with the data set in the link above using \"1-gram\", \"2-gram\", and/or \"3-gram\" statistics. The `probabilities` data you've already calculated will be useful and can be turned into a pandas DataFrame if desired (see next cell).  \n",
    "Good luck!  Share your results with the class!"
   ]
  },
  {
   "cell_type": "code",
   "execution_count": null,
   "metadata": {
    "collapsed": true,
    "deletable": true,
    "editable": true
   },
   "outputs": [],
   "source": [
    "# create a DataFrame of log likelihoods for the test word items\n",
    "df_probs = pd.DataFrame(data=probabilities)\n",
    "df_probs.head()"
   ]
  }
 ],
 "metadata": {
  "anaconda-cloud": {},
  "kernelspec": {
   "display_name": "Python 3",
   "language": "python",
   "name": "python3"
  },
  "language_info": {
   "codemirror_mode": {
    "name": "ipython",
    "version": 3
   },
   "file_extension": ".py",
   "mimetype": "text/x-python",
   "name": "python",
   "nbconvert_exporter": "python",
   "pygments_lexer": "ipython3",
   "version": "3.6.0"
  },
  "nbpresent": {
   "slides": {
    "0a2d4faf-9fb8-4cee-853b-ed68b90f3f8a": {
     "id": "0a2d4faf-9fb8-4cee-853b-ed68b90f3f8a",
     "prev": null,
     "regions": {
      "3fb9ce83-fbb2-4995-832a-f8f400734ad3": {
       "attrs": {
        "height": 0.8,
        "width": 0.8,
        "x": 0.1,
        "y": 0.1
       },
       "content": {
        "cell": "1dbb9346-179b-4835-b430-6369d88f1a1b",
        "part": "whole"
       },
       "id": "3fb9ce83-fbb2-4995-832a-f8f400734ad3"
      }
     }
    },
    "1519a4fa-1588-4644-98de-9c43bf0aceb5": {
     "id": "1519a4fa-1588-4644-98de-9c43bf0aceb5",
     "prev": "8a712017-49b7-449f-8264-43a032ace902",
     "regions": {
      "29546121-ed11-44b7-8144-0c44e874098f": {
       "attrs": {
        "height": 0.8,
        "width": 0.8,
        "x": 0.1,
        "y": 0.1
       },
       "content": {
        "cell": "365590a4-6963-4812-a1cf-688f7b6bb9ff",
        "part": "whole"
       },
       "id": "29546121-ed11-44b7-8144-0c44e874098f"
      }
     }
    },
    "176eaccb-15dd-455d-bf07-504213e7aa01": {
     "id": "176eaccb-15dd-455d-bf07-504213e7aa01",
     "prev": "de6b30f4-2463-4901-92ed-aabad78e5e0f",
     "regions": {
      "1542aa9e-dc55-4b90-adef-bf5181872b42": {
       "attrs": {
        "height": 0.8,
        "width": 0.8,
        "x": 0.1,
        "y": 0.1
       },
       "content": {
        "cell": "5c242050-c1f7-4b3b-8103-2ea9d71a40dc",
        "part": "whole"
       },
       "id": "1542aa9e-dc55-4b90-adef-bf5181872b42"
      }
     }
    },
    "19091b36-b0e7-49b1-b501-ec05937e0da9": {
     "id": "19091b36-b0e7-49b1-b501-ec05937e0da9",
     "prev": "1983c02e-fb99-4c05-a728-e0c0ad7c06d8",
     "regions": {
      "6529a31c-8d45-425c-b1d7-d0ac6fca6a32": {
       "attrs": {
        "height": 0.8,
        "width": 0.8,
        "x": 0.1,
        "y": 0.1
       },
       "content": {
        "cell": "e766909d-9421-4aaf-9fb1-bc90d27e49e3",
        "part": "whole"
       },
       "id": "6529a31c-8d45-425c-b1d7-d0ac6fca6a32"
      }
     }
    },
    "1983c02e-fb99-4c05-a728-e0c0ad7c06d8": {
     "id": "1983c02e-fb99-4c05-a728-e0c0ad7c06d8",
     "prev": "176eaccb-15dd-455d-bf07-504213e7aa01",
     "regions": {
      "1c4e605d-7f22-4f30-b3fb-74b2937e7a4a": {
       "attrs": {
        "height": 0.8,
        "width": 0.8,
        "x": 0.1,
        "y": 0.1
       },
       "content": {
        "cell": "4d217204-e5c0-4568-bd30-12c2e41b681d",
        "part": "whole"
       },
       "id": "1c4e605d-7f22-4f30-b3fb-74b2937e7a4a"
      }
     }
    },
    "212b111f-4527-459c-8297-1db5580ee5c9": {
     "id": "212b111f-4527-459c-8297-1db5580ee5c9",
     "prev": "76898529-e49e-4663-8d02-8261dfe1d94b",
     "regions": {
      "2e4bd280-3cd6-47d0-9c81-17737b24053b": {
       "attrs": {
        "height": 0.8,
        "width": 0.8,
        "x": 0.1,
        "y": 0.1
       },
       "content": {
        "cell": "0c316996-9933-4b3d-82ec-259518dc8bc9",
        "part": "whole"
       },
       "id": "2e4bd280-3cd6-47d0-9c81-17737b24053b"
      }
     }
    },
    "23a7337f-a0cf-4ed4-baa9-ec06bfdc0579": {
     "id": "23a7337f-a0cf-4ed4-baa9-ec06bfdc0579",
     "prev": "e76e9a02-54c1-4ec9-80fb-c611ed398122",
     "regions": {
      "b5721d20-d6f8-4ddb-a5aa-eb16f0cc8893": {
       "attrs": {
        "height": 0.8,
        "width": 0.8,
        "x": 0.1,
        "y": 0.1
       },
       "content": {
        "cell": "313015a2-b5a9-4136-a8ea-5d011e47d840",
        "part": "whole"
       },
       "id": "b5721d20-d6f8-4ddb-a5aa-eb16f0cc8893"
      }
     }
    },
    "732f1952-ee54-46fb-8067-099512824296": {
     "id": "732f1952-ee54-46fb-8067-099512824296",
     "prev": "0a2d4faf-9fb8-4cee-853b-ed68b90f3f8a",
     "regions": {
      "f31d4597-08ad-4c46-ad52-4bd2d775c624": {
       "attrs": {
        "height": 0.8,
        "width": 0.8,
        "x": 0.1,
        "y": 0.1
       },
       "content": {
        "cell": "aadfec52-27ca-4541-8920-fa9253d51827",
        "part": "whole"
       },
       "id": "f31d4597-08ad-4c46-ad52-4bd2d775c624"
      }
     }
    },
    "76898529-e49e-4663-8d02-8261dfe1d94b": {
     "id": "76898529-e49e-4663-8d02-8261dfe1d94b",
     "prev": "19091b36-b0e7-49b1-b501-ec05937e0da9",
     "regions": {
      "ec1746fc-aec9-4a7c-8225-9e9ac8d45889": {
       "attrs": {
        "height": 0.8,
        "width": 0.8,
        "x": 0.1,
        "y": 0.1
       },
       "content": {
        "cell": "b3e539be-84e2-49ce-a183-31cfc5c7ce7c",
        "part": "whole"
       },
       "id": "ec1746fc-aec9-4a7c-8225-9e9ac8d45889"
      }
     }
    },
    "8a712017-49b7-449f-8264-43a032ace902": {
     "id": "8a712017-49b7-449f-8264-43a032ace902",
     "prev": "bed9e696-630e-4747-be1c-bc3737ba992f",
     "regions": {
      "1faab517-cd16-4c63-bb01-a67246749d7a": {
       "attrs": {
        "height": 0.8,
        "width": 0.8,
        "x": 0.1,
        "y": 0.1
       },
       "content": {
        "cell": "3f14ddf0-4145-4687-9c33-712c3c32520f",
        "part": "whole"
       },
       "id": "1faab517-cd16-4c63-bb01-a67246749d7a"
      }
     }
    },
    "90af992d-eb6d-4496-b2d2-6aa9a95b6a61": {
     "id": "90af992d-eb6d-4496-b2d2-6aa9a95b6a61",
     "prev": "732f1952-ee54-46fb-8067-099512824296",
     "regions": {
      "4f448bec-5be9-4553-88ae-e35ed7612f25": {
       "attrs": {
        "height": 0.8,
        "width": 0.8,
        "x": 0.1,
        "y": 0.1
       },
       "content": {
        "cell": "c445fbfb-b8ab-4e9a-8d13-12231a1c588f",
        "part": "whole"
       },
       "id": "4f448bec-5be9-4553-88ae-e35ed7612f25"
      }
     }
    },
    "bed9e696-630e-4747-be1c-bc3737ba992f": {
     "id": "bed9e696-630e-4747-be1c-bc3737ba992f",
     "prev": "23a7337f-a0cf-4ed4-baa9-ec06bfdc0579",
     "regions": {
      "ac1513f0-404f-492b-8b42-0313e9a753b0": {
       "attrs": {
        "height": 0.8,
        "width": 0.8,
        "x": 0.1,
        "y": 0.1
       },
       "content": {
        "cell": "18dd2eee-8b6c-4a5e-9539-132d00a7c7e1",
        "part": "whole"
       },
       "id": "ac1513f0-404f-492b-8b42-0313e9a753b0"
      }
     }
    },
    "de6b30f4-2463-4901-92ed-aabad78e5e0f": {
     "id": "de6b30f4-2463-4901-92ed-aabad78e5e0f",
     "prev": "e36b4639-be8c-46f7-a8c9-bcfb134f9fd0",
     "regions": {
      "55ec36e0-362f-4fd3-8060-7cee056039aa": {
       "attrs": {
        "height": 0.8,
        "width": 0.8,
        "x": 0.1,
        "y": 0.1
       },
       "content": {
        "cell": "c3cf461e-4c9e-4dec-99d2-07bfa79cbe23",
        "part": "whole"
       },
       "id": "55ec36e0-362f-4fd3-8060-7cee056039aa"
      }
     }
    },
    "e36b4639-be8c-46f7-a8c9-bcfb134f9fd0": {
     "id": "e36b4639-be8c-46f7-a8c9-bcfb134f9fd0",
     "prev": "1519a4fa-1588-4644-98de-9c43bf0aceb5",
     "regions": {
      "4c1e9714-9ba0-45fd-8a2f-ef80a5c85c2e": {
       "attrs": {
        "height": 0.8,
        "width": 0.8,
        "x": 0.1,
        "y": 0.1
       },
       "content": {
        "cell": "6534d4dc-125f-47e6-a022-cf1e0d277174",
        "part": "whole"
       },
       "id": "4c1e9714-9ba0-45fd-8a2f-ef80a5c85c2e"
      }
     }
    },
    "e76e9a02-54c1-4ec9-80fb-c611ed398122": {
     "id": "e76e9a02-54c1-4ec9-80fb-c611ed398122",
     "prev": "90af992d-eb6d-4496-b2d2-6aa9a95b6a61",
     "regions": {
      "9491b84d-193b-40ff-9321-d21eb1ba88d4": {
       "attrs": {
        "height": 0.8,
        "width": 0.8,
        "x": 0.1,
        "y": 0.1
       },
       "content": {
        "cell": "b64ec10e-fa9d-4f3f-907f-6799611ed6b1",
        "part": "whole"
       },
       "id": "9491b84d-193b-40ff-9321-d21eb1ba88d4"
      }
     }
    }
   },
   "themes": {}
  }
 },
 "nbformat": 4,
 "nbformat_minor": 0
}
